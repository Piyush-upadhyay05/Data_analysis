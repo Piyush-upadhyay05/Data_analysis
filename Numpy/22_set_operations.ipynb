{
 "cells": [
  {
   "cell_type": "markdown",
   "metadata": {},
   "source": [
    "## Unique and other set logic \n",
    "\n",
    "- NumPy has some basic set operations for one-dimensional ndarrays. "
   ]
  },
  {
   "cell_type": "markdown",
   "metadata": {},
   "source": [
    "### Why Set Logic in NumPy?\n",
    "- Set operations let you:\n",
    "\n",
    "   - Identify unique values\n",
    "\n",
    "   - Find common elements (intersection)\n",
    "\n",
    "   - Detect differences between arrays\n",
    "\n",
    "   - Combine arrays without duplicates (union)\n",
    "\n",
    "   - Check membership across arrays\n",
    "\n",
    " All these are critical when cleaning or comparing datasets."
   ]
  },
  {
   "cell_type": "markdown",
   "metadata": {},
   "source": [
    "### some common set logic \n",
    "\n",
    "| **Function**       | **Purpose**                               | **Output Type**           |\n",
    "| ------------------ | ----------------------------------------- | ------------------------- |\n",
    "| `np.unique()`      | Get sorted unique values                  | 1D array                  |\n",
    "| `np.intersect1d()` | Common elements (AND)                     | 1D array                  |\n",
    "| `np.union1d()`     | All unique elements from both arrays (OR) | 1D array                  |\n",
    "| `np.setdiff1d()`   | Elements in `a` not in `b` (A - B)        | 1D array                  |\n",
    "| `np.setxor1d()`    | Symmetric difference (XOR)                | 1D array                  |\n",
    "| `np.in1d()`        | Check if elements of `a` are in `b`       | 1D boolean array          |\n",
    "| `np.isin()`        | Broadcasted version of `in1d`             | Boolean array (any shape) |\n"
   ]
  },
  {
   "cell_type": "markdown",
   "metadata": {},
   "source": [
    "1. ```np.unique()```\n",
    "\n",
    "- Returns sorted unique elements of an array."
   ]
  },
  {
   "cell_type": "code",
   "execution_count": 6,
   "metadata": {},
   "outputs": [
    {
     "name": "stdout",
     "output_type": "stream",
     "text": [
      "[1 2 3 4]\n",
      "[1 2 3 4]\n",
      "[2 2 2 1]\n"
     ]
    }
   ],
   "source": [
    "import numpy as np\n",
    "arr = np.array([3, 1, 2, 3, 4, 1, 2])\n",
    "unique_vals = np.unique(arr)\n",
    "print(unique_vals)\n",
    "vals, counts = np.unique(arr, return_counts=True)\n",
    "print(vals)\n",
    "print(counts)\n",
    "\n"
   ]
  },
  {
   "cell_type": "markdown",
   "metadata": {},
   "source": [
    "2. ```np.intersected1d()```\n",
    "\n",
    "- Returns the sorted, unique values that are in both arrays (intersection).\n",
    "\n"
   ]
  },
  {
   "cell_type": "code",
   "execution_count": null,
   "metadata": {},
   "outputs": [
    {
     "data": {
      "text/plain": [
       "array([3, 4])"
      ]
     },
     "execution_count": 7,
     "metadata": {},
     "output_type": "execute_result"
    }
   ],
   "source": [
    "a = np.array([1, 2, 3, 4])\n",
    "b = np.array([3, 4, 5, 6])\n",
    "np.intersect1d(a, b)\n",
    "\n"
   ]
  },
  {
   "cell_type": "markdown",
   "metadata": {},
   "source": [
    "3. ```np.union1d()```\n",
    "\n",
    "- Returns the sorted, unique values that are in either array (union)"
   ]
  },
  {
   "cell_type": "code",
   "execution_count": null,
   "metadata": {},
   "outputs": [
    {
     "data": {
      "text/plain": [
       "array([1, 2, 3, 4, 5, 6])"
      ]
     },
     "execution_count": 8,
     "metadata": {},
     "output_type": "execute_result"
    }
   ],
   "source": [
    "np.union1d(a, b)\n",
    "\n"
   ]
  },
  {
   "cell_type": "markdown",
   "metadata": {},
   "source": [
    "4. ```np.setdiff1d() ```\n",
    "\n",
    "- Returns values in the first array that are not in the second (set difference).\n",
    "\n"
   ]
  },
  {
   "cell_type": "code",
   "execution_count": 9,
   "metadata": {},
   "outputs": [
    {
     "data": {
      "text/plain": [
       "array([1, 2])"
      ]
     },
     "execution_count": 9,
     "metadata": {},
     "output_type": "execute_result"
    }
   ],
   "source": [
    "np.setdiff1d(a, b)\n",
    "# Output: [1 2]  # in `a` but not in `b`\n"
   ]
  },
  {
   "cell_type": "markdown",
   "metadata": {},
   "source": [
    "5. ```np.setxor1d()```\n",
    "\n",
    "- Returns elements that are in only one of the arrays (exclusive OR).\n",
    "\n"
   ]
  },
  {
   "cell_type": "code",
   "execution_count": null,
   "metadata": {},
   "outputs": [],
   "source": [
    "np.setxor1d(a, b)\n",
    "# Output: [1 2 5 6]\n"
   ]
  },
  {
   "cell_type": "markdown",
   "metadata": {},
   "source": [
    "6. ``` np.in1d()```\n",
    "\n",
    "- Tests whether each element of one array is in another. Returns a boolean array.\n",
    "\n"
   ]
  },
  {
   "cell_type": "code",
   "execution_count": 10,
   "metadata": {},
   "outputs": [
    {
     "name": "stderr",
     "output_type": "stream",
     "text": [
      "/tmp/ipykernel_6710/4237297067.py:1: DeprecationWarning: `in1d` is deprecated. Use `np.isin` instead.\n",
      "  np.in1d([1, 2, 3], [2, 4])\n"
     ]
    },
    {
     "data": {
      "text/plain": [
       "array([False,  True, False])"
      ]
     },
     "execution_count": 10,
     "metadata": {},
     "output_type": "execute_result"
    }
   ],
   "source": [
    "np.in1d([1, 2, 3], [2, 4])\n",
    "# Output: [False  True False]\n"
   ]
  },
  {
   "cell_type": "markdown",
   "metadata": {},
   "source": [
    "7. ```np.isin()```\n",
    "\n",
    "- Same as np.in1d, but supports broadcasting and works better with multidimensional arrays.\n",
    "\n"
   ]
  },
  {
   "cell_type": "code",
   "execution_count": 11,
   "metadata": {},
   "outputs": [
    {
     "data": {
      "text/plain": [
       "array([[ True, False],\n",
       "       [False,  True]])"
      ]
     },
     "execution_count": 11,
     "metadata": {},
     "output_type": "execute_result"
    }
   ],
   "source": [
    "a = np.array([[1, 2], [3, 4]])\n",
    "b = [1, 4]\n",
    "np.isin(a, b)\n",
    "# Output:\n",
    "# [[ True False]\n",
    "#  [False  True]]\n"
   ]
  }
 ],
 "metadata": {
  "kernelspec": {
   "display_name": "env",
   "language": "python",
   "name": "python3"
  },
  "language_info": {
   "codemirror_mode": {
    "name": "ipython",
    "version": 3
   },
   "file_extension": ".py",
   "mimetype": "text/x-python",
   "name": "python",
   "nbconvert_exporter": "python",
   "pygments_lexer": "ipython3",
   "version": "3.13.3"
  }
 },
 "nbformat": 4,
 "nbformat_minor": 2
}
