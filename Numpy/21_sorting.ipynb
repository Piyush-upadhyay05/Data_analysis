{
 "cells": [
  {
   "cell_type": "markdown",
   "metadata": {},
   "source": [
    "## sorting \n",
    "\n",
    "- Sorting means arranging array elements in ascending or descending order.\n",
    "\n"
   ]
  },
  {
   "cell_type": "markdown",
   "metadata": {},
   "source": [
    "### main sorting function\n",
    "| Function         | Description                                                 |\n",
    "| ---------------- | ----------------------------------------------------------- |\n",
    "| `np.sort()`      | Returns a sorted copy of the array.                         |\n",
    "| `np.argsort()`   | Returns the indices that would sort an array.               |\n",
    "| `ndarray.sort()` | Sorts the array **in-place** (does not return a new array). |\n",
    "| `np.lexsort()`   | Sorts using multiple keys (useful for complex sorting).     |\n"
   ]
  }
 ],
 "metadata": {
  "kernelspec": {
   "display_name": "env",
   "language": "python",
   "name": "python3"
  },
  "language_info": {
   "codemirror_mode": {
    "name": "ipython",
    "version": 3
   },
   "file_extension": ".py",
   "mimetype": "text/x-python",
   "name": "python",
   "nbconvert_exporter": "python",
   "pygments_lexer": "ipython3",
   "version": "3.13.3"
  }
 },
 "nbformat": 4,
 "nbformat_minor": 2
}
