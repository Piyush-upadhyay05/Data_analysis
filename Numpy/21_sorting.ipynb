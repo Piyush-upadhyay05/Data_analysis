{
 "cells": [
  {
   "cell_type": "markdown",
   "metadata": {},
   "source": [
    "## sorting \n",
    "\n",
    "- Sorting means arranging array elements in ascending or descending order.\n",
    "\n"
   ]
  },
  {
   "cell_type": "markdown",
   "metadata": {},
   "source": [
    "### main sorting function\n",
    "| Function         | Description                                                 |\n",
    "| ---------------- | ----------------------------------------------------------- |\n",
    "| `np.sort()`      | Returns a sorted copy of the array.                         |\n",
    "| `np.argsort()`   | Returns the indices that would sort an array.               |\n",
    "| `ndarray.sort()` | Sorts the array **in-place** (does not return a new array). |\n",
    "| `np.lexsort()`   | Sorts using multiple keys (useful for complex sorting).     |\n"
   ]
  }
 ],
 "metadata": {
  "language_info": {
   "name": "python"
  }
 },
 "nbformat": 4,
 "nbformat_minor": 2
}
