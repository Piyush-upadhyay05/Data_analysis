{
 "cells": [
  {
   "cell_type": "markdown",
   "metadata": {},
   "source": [
    "### ndarray / multidimensional array :\n",
    "\n",
    "- ndarray stands for N-dimensional array. It is the core data structure provided by NumPy for storing arrays of any number of dimensions.\n",
    "\n",
    "- A NumPy ndarray is a homogeneous, multidimensional, contiguous memory array object that stores elements of the same data type.\n",
    "\n",
    "- This is the primary object used in NumPy to store and operate on data efficiently."
   ]
  },
  {
   "cell_type": "markdown",
   "metadata": {},
   "source": [
    "### creating an ndarray "
   ]
  },
  {
   "cell_type": "code",
   "execution_count": 3,
   "metadata": {},
   "outputs": [
    {
     "name": "stdout",
     "output_type": "stream",
     "text": [
      "[1 2 3]\n",
      "[[[1 2]\n",
      "  [2 2]]\n",
      "\n",
      " [[3 2]\n",
      "  [4 2]]]\n"
     ]
    }
   ],
   "source": [
    "import numpy as np\n",
    "\n",
    "arr1 = np.array([1, 2, 3])                      # 1D array\n",
    "arr2 = np.array([[1, 2], [3, 4]])               # 2D array\n",
    "arr3 = np.array([[[1,2], [2,2]], [[3,2], [4,2]]])       # 3D array\n",
    "print(arr1)\n",
    "print(arr3)"
   ]
  },
  {
   "cell_type": "code",
   "execution_count": 9,
   "metadata": {},
   "outputs": [
    {
     "name": "stdout",
     "output_type": "stream",
     "text": [
      "<class 'numpy.ndarray'>\n",
      "[[10 20 30]\n",
      " [10 20 30]]\n"
     ]
    }
   ],
   "source": [
    "import numpy as np\n",
    "\n",
    "a = np.array([[1, 2, 3], [1,2,3]])\n",
    "print(type(a))  # <class 'numpy.ndarray'>\n",
    "\n",
    "x =a * 10\n",
    "print(x)\n"
   ]
  },
  {
   "cell_type": "markdown",
   "metadata": {},
   "source": [
    "### Key properties of ndarray:\n",
    "\n",
    "- 1.  `.ndim`\n",
    "   \n",
    "    - number of dimension of array(axes) \n",
    "\n",
    "- 2. `.shape`\n",
    "   \n",
    "   - tuple representing the size of each dimension \n",
    "\n",
    "- 3. `.size` \n",
    "   \n",
    "   - totsl number of element \n",
    "\n",
    "- 4. `.dtype`\n",
    "\n",
    "   - data type of the element \n",
    "   \n",
    "- 5. `.itemsize`\n",
    "  \n",
    "   - size in bytes of each element \n",
    "\n",
    "- 6. `.nbytes`\n",
    "\n",
    "   - total bytes consumes (size * itemsize)             "
   ]
  },
  {
   "cell_type": "code",
   "execution_count": null,
   "metadata": {},
   "outputs": [
    {
     "name": "stdout",
     "output_type": "stream",
     "text": [
      "2\n",
      "(2, 3)\n",
      "6\n",
      "int64\n",
      "8\n",
      "48\n"
     ]
    }
   ],
   "source": [
    "arr = np.array([[1, 2, 3], [4, 5, 6]])\n",
    "\n",
    "print(arr.ndim)\n",
    "print(arr.shape)    \n",
    "print(arr.size)\n",
    "print(arr.dtype)    \n",
    "print(arr.itemsize)   \n",
    "print(arr.nbytes)   \n"
   ]
  },
  {
   "cell_type": "markdown",
   "metadata": {},
   "source": [
    "# Why Use `ndarray`?\n",
    "\n",
    "- **Speed**: Much faster than Python lists due to internal optimizations (C-based).\n",
    "- **Memory Efficiency**: Uses less memory than a list of lists.\n",
    "- **Functionality**: Supports a wide range of mathematical, logical, and statistical operations.\n",
    "- **Broadcasting**: Allows operations on arrays of different shapes.\n",
    "- **Convenience**: Comes with lots of helpful methods and functions for reshaping, slicing, aggregation, and more.\n"
   ]
  },
  {
   "cell_type": "markdown",
   "metadata": {},
   "source": [
    " ### data type for ndarray\n",
    "\n",
    " - The data type or dtype is a special object containing the information (or metadata,\n",
    "   data about data) the ndarray needs to interpret a chunk of memory as a particular\n",
    "   type of data:"
   ]
  },
  {
   "cell_type": "code",
   "execution_count": 16,
   "metadata": {},
   "outputs": [
    {
     "name": "stdout",
     "output_type": "stream",
     "text": [
      "float64\n",
      "int32\n",
      "float64\n"
     ]
    }
   ],
   "source": [
    "import numpy as np\n",
    "\n",
    "arr1 = np.array([1,23,4] , dtype = np.float64)\n",
    "arr2 = np.array([1,23,4] , dtype = np.int32)\n",
    "arr3 = np.array([[1,2.2,3],[4,5,6]])\n",
    "print(arr1.dtype)\n",
    "print(arr2.dtype)\n",
    "print(arr3.dtype)\n",
    "\n",
    "\n"
   ]
  },
  {
   "cell_type": "markdown",
   "metadata": {},
   "source": [
    "# Data Types (`dtype`) for NumPy `ndarray`\n",
    "\n",
    "NumPy arrays (`ndarray`) store data of a **single type**. This type is defined by the array's **dtype** (data type), which controls:\n",
    "\n",
    "- The **kind** of data stored (integer, float, boolean, etc.)\n",
    "- The **size** in bytes of each element\n",
    "- How operations on the array elements behave\n",
    "- The **memory layout** of the array\n",
    "\n",
    "---\n",
    "\n",
    "## Why Is `dtype` Important?\n",
    "\n",
    "1. **Performance**: Using the correct dtype ensures efficient memory usage and fast numerical computations.\n",
    "2. **Compatibility**: Some operations or libraries expect data in specific dtypes.\n",
    "3. **Precision**: Different dtypes allow you to control numerical precision and range.\n",
    "4. **Storage Size**: Smaller dtypes use less memory, which is crucial for large datasets.\n",
    "\n",
    "---\n",
    "\n",
    "## NumPy Data Types\n",
    "\n",
    "### 1. Integer Types (`int` and `uint`)\n",
    "\n",
    "Integers can be **signed** (positive and negative) or **unsigned** (only positive including zero).\n",
    "\n",
    "| dtype        | Bytes per element | Range (Signed)                         | Range (Unsigned)                      |\n",
    "|--------------|-------------------|--------------------------------------|-------------------------------------|\n",
    "| `np.int8`    | 1                 | -128 to 127                          | N/A                                 |\n",
    "| `np.uint8`   | 1                 | N/A                                  | 0 to 255                            |\n",
    "| `np.int16`   | 2                 | -32,768 to 32,767                    | N/A                                 |\n",
    "| `np.uint16`  | 2                 | N/A                                  | 0 to 65,535                        |\n",
    "| `np.int32`   | 4                 | -2,147,483,648 to 2,147,483,647     | N/A                                 |\n",
    "| `np.uint32`  | 4                 | N/A                                  | 0 to 4,294,967,295                  |\n",
    "| `np.int64`   | 8                 | Very large negative to positive range| N/A                                 |\n",
    "| `np.uint64`  | 8                 | N/A                                  | Very large positive range            |\n",
    "\n",
    "**Use cases:**\n",
    "- Use smaller integer types (`int8`, `int16`) when memory is critical, and data fits within range.\n",
    "- Use larger types (`int32`, `int64`) for bigger numbers.\n",
    "- Unsigned integers are useful when data cannot be negative (e.g., pixel values, counts).\n",
    "\n",
    "---\n",
    "\n",
    "### 2. Floating-Point Types (`float`)\n",
    "\n",
    "Floats represent real numbers and can store decimal values.\n",
    "\n",
    "| dtype        | Bytes per element | Precision                         | Range (approximate)                   |\n",
    "|--------------|-------------------|---------------------------------|-------------------------------------|\n",
    "| `np.float16` | 2                 | ~3 decimal digits               | ±6.5×10⁻⁵ to ±6.5×10⁴               |\n",
    "| `np.float32` | 4                 | ~7 decimal digits               | ±1.5×10⁻⁴⁵ to ±3.4×10³⁸              |\n",
    "| `np.float64` | 8                 | ~15 decimal digits (default)   | ±5.0×10⁻³²⁴ to ±1.8×10³⁰⁸             |\n",
    "\n",
    "**Use cases:**\n",
    "- Use `float32` or `float16` to save memory when precision is less critical (e.g., graphics, ML training).\n",
    "- Use `float64` (default) for high precision scientific calculations.\n",
    "\n",
    "---\n",
    "\n",
    "### 3. Complex Types (`complex`)\n",
    "\n",
    "Complex numbers consist of a real and an imaginary part, both floats.\n",
    "\n",
    "| dtype          | Bytes per element | Description                       |\n",
    "|----------------|-------------------|---------------------------------|\n",
    "| `np.complex64` | 8                 | 2×32-bit floats (real + imag)   |\n",
    "| `np.complex128`| 16                | 2×64-bit floats (real + imag)   |\n",
    "\n",
    "**Use cases:**\n",
    "- Useful in engineering, physics, and signal processing.\n",
    "\n",
    "---\n",
    "\n",
    "### 4. Boolean Type\n",
    "\n",
    "| dtype        | Bytes per element | Values                         |\n",
    "|--------------|-------------------|--------------------------------|\n",
    "| `np.bool_`   | 1                 | `True` or `False`              |\n",
    "\n",
    "**Use cases:**\n",
    "- Logical operations, masks, conditions, filters.\n",
    "\n",
    "---\n",
    "\n",
    "### 5. String Types\n",
    "\n",
    "- **Fixed-length ASCII** strings: `np.bytes_`\n",
    "- **Fixed-length Unicode** strings: `np.str_`\n",
    "\n",
    "These store fixed-size strings inside the array.\n",
    "\n",
    "Example:\n",
    "```python\n",
    "arr = np.array(['apple', 'banana'], dtype='U6')  # Unicode string with max length 6 \n",
    "```\n",
    "### 5. object type \n",
    "\n",
    "- **The object data type in NumPy arrays means that the array stores references to arbitrary Python objects instead of fixed-size numerical types like int32 or float64.** \n",
    "\n",
    "- **When you create an array with dtype=object, each element can be any Python object: numbers, strings, lists, custom classes, or even mixed types in the same array.**\n"
   ]
  },
  {
   "cell_type": "code",
   "execution_count": null,
   "metadata": {},
   "outputs": [
    {
     "name": "stdout",
     "output_type": "stream",
     "text": [
      "int64\n",
      "[[1. 2. 3. 4.]\n",
      " [1. 2. 3. 4.]]\n",
      "float64\n"
     ]
    }
   ],
   "source": [
    "import numpy as np\n",
    "\n",
    "arr = np.array([[1,2,3,4],[1,2,3,4]])\n",
    "print(arr.dtype)\n",
    "\n",
    "float_arr = arr.astype(np.float64)\n",
    "print(float_arr)\n",
    "print(float_arr.dtype)\n",
    "\n",
    "# in this example you convert this into int to float "
   ]
  },
  {
   "cell_type": "code",
   "execution_count": null,
   "metadata": {},
   "outputs": [
    {
     "name": "stdout",
     "output_type": "stream",
     "text": [
      "float64\n",
      "[ 3 -1 -2  0 12 10]\n",
      "int32\n"
     ]
    }
   ],
   "source": [
    "import numpy as np\n",
    "arr = np.array([3.7, -1.2, -2.6, 0.5, 12.9, 10.1])\n",
    "print(arr.dtype)\n",
    "\n",
    "int_arr = arr.astype(np.int32)\n",
    "print(int_arr)\n",
    "print(int_arr.dtype)\n",
    "\n",
    "# In this example, integers were cast to floating point. If I cast some floating-point numbers to be of integer data type, the decimal part will be truncated:"
   ]
  },
  {
   "cell_type": "code",
   "execution_count": 4,
   "metadata": {},
   "outputs": [
    {
     "name": "stdout",
     "output_type": "stream",
     "text": [
      "<U4\n",
      "[ 1.25 -9.6  42.  ]\n"
     ]
    }
   ],
   "source": [
    "# If you have an array of strings representing numbers, you can use astype to convert them to numeric form:\n",
    "import numpy as np\n",
    "\n",
    "numeric_strings = np.array([\"1.25\", \"-9.6\", \"42\"], dtype=str)  # Best practice in NumPy 2.0\n",
    "print(numeric_strings.dtype)          # Will show <U4 (Unicode string of length 4)\n",
    "print(numeric_strings.astype(float))  # Converts strings to floats\n"
   ]
  },
  {
   "cell_type": "markdown",
   "metadata": {},
   "source": [
    "- using another array dtype\n",
    "\n",
    "   - you can use the dtype of one array to cast another array to the same data type \n",
    "   - example in code "
   ]
  },
  {
   "cell_type": "code",
   "execution_count": 3,
   "metadata": {},
   "outputs": [
    {
     "data": {
      "text/plain": [
       "array([0., 1., 2., 3., 4., 5., 6., 7., 8., 9.])"
      ]
     },
     "execution_count": 3,
     "metadata": {},
     "output_type": "execute_result"
    }
   ],
   "source": [
    "int_array = np.arange(10)  # creates array: [0, 1, 2, ..., 9], dtype=int64 by default\n",
    "calibers = np.array([.22, .270, .357, .380, .44, .50], dtype=np.float64)  # dtype=float64\n",
    "\n",
    "int_array.astype(calibers.dtype)\n"
   ]
  },
  {
   "cell_type": "markdown",
   "metadata": {},
   "source": [
    "# Shorthand dtype codes in NumPy\n",
    "\n",
    "Instead of typing the full dtype name (like `np.uint32`), NumPy allows you to use **type code strings**:\n",
    "\n",
    "- `\"u4\"` means **unsigned 4-byte integer**, which corresponds to `np.uint32`.\n",
    "- `\"i4\"` means **signed 4-byte integer**, corresponding to `np.int32`.\n",
    "- `\"f8\"` means **8-byte float**, corresponding to `np.float64`.\n"
   ]
  },
  {
   "cell_type": "markdown",
   "metadata": {},
   "source": [
    "# imp point\n",
    "\n",
    "### NumPy String and Date-Time Types \n",
    "\n",
    "- `np.str_` and `np.unicode_`: Unicode strings supporting international characters.\n",
    "- `np.string_`: ASCII strings limited to basic ASCII characters.\n",
    "- `np.bytes_` and `np.string_`: Fixed-width byte-encoded strings.\n",
    "- `np.datetime64`: Represents date and time points.\n",
    "- `np.timedelta64`: Represents durations or time intervals.\n",
    "- Useful for efficient date-time and string operations in arrays.\n"
   ]
  }
 ],
 "metadata": {
  "kernelspec": {
   "display_name": "env",
   "language": "python",
   "name": "python3"
  },
  "language_info": {
   "codemirror_mode": {
    "name": "ipython",
    "version": 3
   },
   "file_extension": ".py",
   "mimetype": "text/x-python",
   "name": "python",
   "nbconvert_exporter": "python",
   "pygments_lexer": "ipython3",
   "version": "3.13.5"
  }
 },
 "nbformat": 4,
 "nbformat_minor": 2
}
