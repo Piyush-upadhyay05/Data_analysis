{
 "cells": [
  {
   "cell_type": "markdown",
   "metadata": {},
   "source": [
    "## mathematical method \n",
    "\n",
    "| **Function**               | **Description**                  | **Element-wise?** | **Example**                                  |\n",
    "| -------------------------- | -------------------------------- | ----------------- | -------------------------------------------- |\n",
    "| `np.add(x, y)`             | Addition (`x + y`)               | ✅ Yes             | `np.add([1, 2], [3, 4]) → [4, 6]`            |\n",
    "| `np.subtract(x, y)`        | Subtraction (`x - y`)            | ✅ Yes             | `np.subtract([4, 5], [2, 1]) → [2, 4]`       |\n",
    "| `np.multiply(x, y)`        | Multiplication (`x * y`)         | ✅ Yes             | `np.multiply([2, 3], [4, 5]) → [8, 15]`      |\n",
    "| `np.divide(x, y)`          | Division (`x / y`)               | ✅ Yes             | `np.divide([4, 6], [2, 3]) → [2, 2]`         |\n",
    "| `np.power(x, y)`           | Exponentiation (`x ** y`)        | ✅ Yes             | `np.power([2, 3], 2) → [4, 9]`               |\n",
    "| `np.mod(x, y)`             | Modulus (`x % y`)                | ✅ Yes             | `np.mod([5, 8], [2, 3]) → [1, 2]`            |\n",
    "| `np.abs(x)` / `np.fabs(x)` | Absolute value                   | ✅ Yes             | `np.abs([-3, 4]) → [3, 4]`                   |\n",
    "| `np.sqrt(x)`               | Square root                      | ✅ Yes             | `np.sqrt([4, 9]) → [2, 3]`                   |\n",
    "| `np.exp(x)`                | Exponential (e^x)                | ✅ Yes             | `np.exp([0, 1]) → [1, 2.718]`                |\n",
    "| `np.log(x)`                | Natural log (ln(x))              | ✅ Yes             | `np.log([1, np.e]) → [0, 1]`                 |\n",
    "| `np.log2(x)`               | Log base 2                       | ✅ Yes             | `np.log2([1, 2, 4]) → [0, 1, 2]`             |\n",
    "| `np.log10(x)`              | Log base 10                      | ✅ Yes             | `np.log10([1, 10, 100]) → [0, 1, 2]`         |\n",
    "| `np.sin(x)`                | Sine function                    | ✅ Yes             | `np.sin(np.pi/2) → 1.0`                      |\n",
    "| `np.cos(x)`                | Cosine function                  | ✅ Yes             | `np.cos(0) → 1.0`                            |\n",
    "| `np.tan(x)`                | Tangent function                 | ✅ Yes             | `np.tan(np.pi/4) → 1.0`                      |\n",
    "| `np.arcsin(x)`             | Inverse sine                     | ✅ Yes             | `np.arcsin(1.0) → π/2`                       |\n",
    "| `np.arccos(x)`             | Inverse cosine                   | ✅ Yes             | `np.arccos(1.0) → 0.0`                       |\n",
    "| `np.arctan(x)`             | Inverse tangent                  | ✅ Yes             | `np.arctan(1.0) → π/4`                       |\n",
    "| `np.deg2rad(x)`            | Degrees to radians               | ✅ Yes             | `np.deg2rad(180) → π`                        |\n",
    "| `np.rad2deg(x)`            | Radians to degrees               | ✅ Yes             | `np.rad2deg(np.pi) → 180`                    |\n",
    "| `np.floor(x)`              | Round down                       | ✅ Yes             | `np.floor([1.9, -1.1]) → [1, -2]`            |\n",
    "| `np.ceil(x)`               | Round up                         | ✅ Yes             | `np.ceil([1.2, -1.8]) → [2, -1]`             |\n",
    "| `np.trunc(x)`              | Truncate decimal (toward zero)   | ✅ Yes             | `np.trunc([-1.7, 1.7]) → [-1, 1]`            |\n",
    "| `np.round(x, n)`           | Round to n decimal places        | ✅ Yes             | `np.round([1.2345], 2) → [1.23]`             |\n",
    "| `np.sign(x)`               | Sign of elements (-1, 0, 1)      | ✅ Yes             | `np.sign([-2, 0, 3]) → [-1, 0, 1]`           |\n",
    "| `np.clip(x, min, max)`     | Limit values between min and max | ✅ Yes             | `np.clip([-1, 0.5, 10], 0, 1) → [0, 0.5, 1]` |\n",
    "| `np.cumsum(x)`             | Cumulative sum                   | ✅ Yes             | `np.cumsum([1, 2, 3]) → [1, 3, 6]`           |\n",
    "| `np.cumprod(x)`            | Cumulative product               | ✅ Yes             | `np.cumprod([1, 2, 3]) → [1, 2, 6]`          |\n"
   ]
  },
  {
   "cell_type": "markdown",
   "metadata": {},
   "source": [
    "## statistical method \n",
    "\n",
    "| **Function**               | **Description**                                 | **Axis Support?** | **Example**                                    |\n",
    "| -------------------------- | ----------------------------------------------- | ----------------- | ---------------------------------------------- |\n",
    "| `np.mean(a)`               | Arithmetic mean (average)                       | ✅ Yes             | `np.mean([1, 2, 3]) → 2.0`                     |\n",
    "| `np.median(a)`             | Median value (middle element)                   | ✅ Yes             | `np.median([1, 3, 2]) → 2.0`                   |\n",
    "| `np.std(a)`                | Standard deviation (spread of data)             | ✅ Yes             | `np.std([1, 2, 3]) → 0.8165`                   |\n",
    "| `np.var(a)`                | Variance (std²)                                 | ✅ Yes             | `np.var([1, 2, 3]) → 0.6667`                   |\n",
    "| `np.min(a)`                | Minimum value                                   | ✅ Yes             | `np.min([1, 3, 0]) → 0`                        |\n",
    "| `np.max(a)`                | Maximum value                                   | ✅ Yes             | `np.max([1, 3, 0]) → 3`                        |\n",
    "| `np.argmax(a)`             | Index of the maximum value                      | ✅ Yes             | `np.argmax([1, 3, 2]) → 1`                     |\n",
    "| `np.argmin(a)`             | Index of the minimum value                      | ✅ Yes             | `np.argmin([1, 3, 2]) → 0`                     |\n",
    "| `np.percentile(a, q)`      | q-th percentile (0–100%)                        | ✅ Yes             | `np.percentile([1, 2, 3], 50) → 2.0`           |\n",
    "| `np.quantile(a, q)`        | q-th quantile (0.0–1.0)                         | ✅ Yes             | `np.quantile([1, 2, 3], 0.5) → 2.0`            |\n",
    "| `np.ptp(a)`                | Peak-to-peak (max - min)                        | ✅ Yes             | `np.ptp([1, 3, 8]) → 7`                        |\n",
    "| `np.average(a, weights=w)` | Weighted average                                | ✅ Yes             | `np.average([1, 2], weights=[0.2, 0.8]) → 1.8` |\n",
    "| `np.count_nonzero(a)`      | Count of non-zero elements                      | ✅ No              | `np.count_nonzero([0, 1, 2]) → 2`              |\n",
    "| `np.any(a)`                | True if **any** element is `True` or non-zero   | ✅ Yes             | `np.any([0, 0, 1]) → True`                     |\n",
    "| `np.all(a)`                | True if **all** elements are `True` or non-zero | ✅ Yes             | `np.all([1, 2, 3]) → True`                     |\n",
    "| `np.corrcoef(x, y)`        | Correlation coefficient matrix                  | ❌ No (2D only)    | `np.corrcoef(x, y)`                            |\n",
    "| `np.cov(x, y)`             | Covariance matrix                               | ❌ No (2D only)    | `np.cov(x, y)`                                 |\n",
    "| `np.histogram(a, bins=n)`  | Histogram data (frequencies and bin edges)      | ❌ No              | `np.histogram(data, bins=3)`                   |\n",
    "| `np.bincount(x)`           | Frequency count of integers in array            | ❌ No              | `np.bincount([0, 1, 1, 2]) → [1, 2, 1]`        |\n"
   ]
  }
 ],
 "metadata": {
  "language_info": {
   "name": "python"
  }
 },
 "nbformat": 4,
 "nbformat_minor": 2
}
