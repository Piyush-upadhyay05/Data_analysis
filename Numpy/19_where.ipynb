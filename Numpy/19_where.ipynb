{
 "cells": [
  {
   "cell_type": "markdown",
   "metadata": {},
   "source": [
    "## where fucntion \n",
    "\n",
    "- it is used for vectorized conditional logic—essential for writing fast, clean, and efficient code in machine learning and data analysis.\n",
    "\n"
   ]
  },
  {
   "cell_type": "code",
   "execution_count": 6,
   "metadata": {},
   "outputs": [
    {
     "name": "stdout",
     "output_type": "stream",
     "text": [
      "[np.float64(1.1), np.float64(2.2), np.float64(1.3), np.float64(1.4), np.float64(2.5)]\n"
     ]
    },
    {
     "data": {
      "text/plain": [
       "array([1.1, 2.2, 1.3, 1.4, 2.5])"
      ]
     },
     "execution_count": 6,
     "metadata": {},
     "output_type": "execute_result"
    }
   ],
   "source": [
    "import numpy as np\n",
    "# example conditional element selection\n",
    "xarr = np.array([1.1, 1.2, 1.3, 1.4, 1.5])\n",
    "yarr = np.array([2.1, 2.2, 2.3, 2.4, 2.5])\n",
    "cond = np.array([True, False, True, True, False])\n",
    "result = [(x if c else y) for x, y, c in zip(xarr, yarr, cond)] # slow python method\n",
    "print(result)\n",
    "# fast numpy metod \n",
    "np.where(cond, xarr, yarr)\n",
    "\n"
   ]
  },
  {
   "cell_type": "markdown",
   "metadata": {},
   "source": [
    "advance example \n",
    "\n",
    "We want to replace:\n",
    "\n",
    "  - All positive values with 2\n",
    "\n",
    "  - All negative values with -2"
   ]
  },
  {
   "cell_type": "code",
   "execution_count": 10,
   "metadata": {},
   "outputs": [
    {
     "name": "stdout",
     "output_type": "stream",
     "text": [
      "Original matrix:\n",
      "[[-1.11877089  1.23927594 -0.01086932 -0.38197459]\n",
      " [-0.39030739  0.14745209  0.16512887 -1.70818942]\n",
      " [-0.13396554 -1.62997027  0.15935414 -0.63065157]\n",
      " [-0.4159565   0.54529204 -0.80105074  0.68260274]]\n",
      "\n",
      "Values greater than 0:\n",
      "[[False  True False False]\n",
      " [False  True  True False]\n",
      " [False False  True False]\n",
      " [False  True False  True]]\n"
     ]
    },
    {
     "data": {
      "text/plain": [
       "array([[-1.11877089,  2.        , -0.01086932, -0.38197459],\n",
       "       [-0.39030739,  2.        ,  2.        , -1.70818942],\n",
       "       [-0.13396554, -1.62997027,  2.        , -0.63065157],\n",
       "       [-0.4159565 ,  2.        , -0.80105074,  2.        ]])"
      ]
     },
     "execution_count": 10,
     "metadata": {},
     "output_type": "execute_result"
    }
   ],
   "source": [
    "import numpy as np\n",
    "\n",
    "# Create a random number generator\n",
    "rng = np.random.default_rng()\n",
    "\n",
    "# Generate a 4x4 matrix with standard normal distribution\n",
    "arr = rng.standard_normal((4, 4))\n",
    "\n",
    "# Print the matrix\n",
    "print(\"Original matrix:\")\n",
    "print(arr)\n",
    "\n",
    "# Print a boolean matrix where True indicates values > 0\n",
    "print(\"\\nValues greater than 0:\")\n",
    "print(arr > 0)\n",
    "\n",
    "# apply np.where\n",
    "np.where(arr > 0, 2, -2)\n",
    "\n",
    "# Replace only positive values with 2, leave others unchanged:\n",
    "np.where(arr > 0,2,arr)\n",
    "\n"
   ]
  },
  {
   "cell_type": "markdown",
   "metadata": {},
   "source": [
    "### This is extremely useful when you want to:\n",
    "\n",
    "- Modify specific elements conditionally\n",
    "\n",
    "- Retain the rest of the array unchanged\n",
    "\n"
   ]
  }
 ],
 "metadata": {
  "kernelspec": {
   "display_name": "env",
   "language": "python",
   "name": "python3"
  },
  "language_info": {
   "codemirror_mode": {
    "name": "ipython",
    "version": 3
   },
   "file_extension": ".py",
   "mimetype": "text/x-python",
   "name": "python",
   "nbconvert_exporter": "python",
   "pygments_lexer": "ipython3",
   "version": "3.13.3"
  }
 },
 "nbformat": 4,
 "nbformat_minor": 2
}
