{
 "cells": [
  {
   "cell_type": "markdown",
   "metadata": {},
   "source": [
    "## Why Use NumPy File I/O?\n",
    "\n",
    "- In Machine Learning and data science projects, we often deal with large datasets or computed arrays (like features, model weights, etc.) that    we don’t want to compute again and again.\n",
    "\n",
    "So, we need a way to:\n",
    "\n",
    "  - ✅ Save arrays permanently on disk.\n",
    "\n",
    "  - ✅ Load them again quickly when needed.\n",
    "\n",
    "NumPy provides built-in tools to do this efficiently using binary formats (.npy, .npz)."
   ]
  },
  {
   "cell_type": "markdown",
   "metadata": {},
   "source": [
    "### 2. np.save() – Save a Single Array to Disk\n",
    "- ▶️ What it does:\n",
    "   - Saves one NumPy array to a .npy file.\n",
    "\n",
    "   - Uses a binary format (not human-readable) → very fast & efficient.\n",
    "\n"
   ]
  },
  {
   "cell_type": "code",
   "execution_count": 1,
   "metadata": {},
   "outputs": [],
   "source": [
    "import numpy as np\n",
    "\n",
    "arr = np.arange(10)           # Creates array: [0 1 2 3 4 5 6 7 8 9]\n",
    "np.save(\"some_array\", arr)    # Saves to 'some_array.npy'\n"
   ]
  },
  {
   "cell_type": "markdown",
   "metadata": {},
   "source": [
    "What gets created?\n",
    "A file named some_array.npy is created on your disk."
   ]
  },
  {
   "cell_type": "markdown",
   "metadata": {},
   "source": [
    "### 3. np.load() – Load a .npy File Back\n",
    "- ▶️ What it does:\n",
    "   - Loads the array back from the .npy file into a NumPy array.\n",
    "\n"
   ]
  },
  {
   "cell_type": "code",
   "execution_count": null,
   "metadata": {},
   "outputs": [
    {
     "name": "stdout",
     "output_type": "stream",
     "text": [
      "[0 1 2 3 4 5 6 7 8 9]\n"
     ]
    }
   ],
   "source": [
    "loaded_array = np.load(\"some_array.npy\")\n",
    "print(loaded_array)\n"
   ]
  },
  {
   "cell_type": "markdown",
   "metadata": {},
   "source": [
    "### 4. np.savez() – Save Multiple Arrays Together\n",
    "- ▶️ What it does:\n",
    "   - Saves multiple arrays in a single file.\n",
    "\n",
    "   - File format: .npz (a zipped archive of .npy files inside).\n",
    "\n",
    "   - You can name each array using keywords."
   ]
  },
  {
   "cell_type": "code",
   "execution_count": 4,
   "metadata": {},
   "outputs": [],
   "source": [
    "arr = np.arange(10)\n",
    "np.savez(\"archive.npz\", a=arr, b=arr*2)\n"
   ]
  },
  {
   "cell_type": "markdown",
   "metadata": {},
   "source": [
    "This creates a file called archive.npz, which contains:\n",
    "\n",
    "an array named \"a\" with values [0 1 2 3 4 5 6 7 8 9]\n",
    "\n",
    "an array named \"b\" with values [0 2 4 6 8 10 12 14 16 18]"
   ]
  },
  {
   "cell_type": "markdown",
   "metadata": {},
   "source": [
    "### 5. Loading .npz File\n",
    "- When you load a .npz file, you get an object like a dictionary. You can access arrays by the names you gave them (a, b etc.)"
   ]
  },
  {
   "cell_type": "code",
   "execution_count": 5,
   "metadata": {},
   "outputs": [
    {
     "name": "stdout",
     "output_type": "stream",
     "text": [
      "[0 1 2 3 4 5 6 7 8 9]\n",
      "[ 0  2  4  6  8 10 12 14 16 18]\n"
     ]
    }
   ],
   "source": [
    "archive = np.load(\"archive.npz\")\n",
    "print(archive[\"a\"])   # [0 1 2 3 4 5 6 7 8 9]\n",
    "print(archive[\"b\"])   # [0 2 4 6 8 10 12 14 16 18]\n"
   ]
  },
  {
   "cell_type": "markdown",
   "metadata": {},
   "source": [
    "### 6. np.savez_compressed() – Save with Compression\n",
    "- ▶️ What it does:\n",
    "  - Same as savez(), but compresses the file to save disk space.\n",
    "\n",
    "  - Useful for large datasets"
   ]
  },
  {
   "cell_type": "code",
   "execution_count": 6,
   "metadata": {},
   "outputs": [],
   "source": [
    "np.savez_compressed(\"compressed_archive.npz\", a=arr, b=arr*2)\n"
   ]
  },
  {
   "cell_type": "markdown",
   "metadata": {},
   "source": [
    "You get a compressed version of the .npz file. It works the same way when loading."
   ]
  },
  {
   "cell_type": "markdown",
   "metadata": {},
   "source": [
    "### summary table \n",
    "| Function                | Saves What?              | File Format | Load Method | Multiple Arrays | Compressed |\n",
    "| ----------------------- | ------------------------ | ----------- | ----------- | --------------- | ---------- |\n",
    "| `np.save()`             | Single array             | `.npy`      | `np.load()` | ❌               | ❌          |\n",
    "| `np.savez()`            | Multiple arrays          | `.npz`      | `np.load()` | ✅               | ❌          |\n",
    "| `np.savez_compressed()` | Multiple arrays (zipped) | `.npz`      | `np.load()` | ✅               | ✅          |\n"
   ]
  }
 ],
 "metadata": {
  "kernelspec": {
   "display_name": "env",
   "language": "python",
   "name": "python3"
  },
  "language_info": {
   "codemirror_mode": {
    "name": "ipython",
    "version": 3
   },
   "file_extension": ".py",
   "mimetype": "text/x-python",
   "name": "python",
   "nbconvert_exporter": "python",
   "pygments_lexer": "ipython3",
   "version": "3.13.3"
  }
 },
 "nbformat": 4,
 "nbformat_minor": 2
}
