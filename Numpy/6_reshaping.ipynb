{
 "cells": [
  {
   "cell_type": "markdown",
   "metadata": {},
   "source": [
    "## Array manipulation \n",
    "\n",
    "- Array manipulation means changing the structure, shape, or contents of a NumPy array without changing the actual data.\n",
    "\n",
    "- Reshaping is a part of this — it means changing the number of rows and columns in an array.\n",
    "\n",
    "- syntax :\n",
    "   ``` np.reshape(array, new_shape) ``` OR ``` array.reshape(new_shape) ```\n",
    "\n",
    "### Why Is It Useful?\n",
    "- To prepare data for machine learning models.\n",
    "\n",
    "- To perform operations like matrix multiplication.\n",
    "\n",
    "- To transform data into a desired format (like from 1D to 2D or 3D)."
   ]
  },
  {
   "cell_type": "markdown",
   "metadata": {},
   "source": [
    "### 1. reshape():\n",
    "\n",
    "- change the shape"
   ]
  },
  {
   "cell_type": "code",
   "execution_count": 1,
   "metadata": {},
   "outputs": [
    {
     "name": "stdout",
     "output_type": "stream",
     "text": [
      "[[0 1 2]\n",
      " [3 4 5]]\n"
     ]
    }
   ],
   "source": [
    "import numpy as np\n",
    "\n",
    "a = np.arange(6)   # [0, 1, 2, 3, 4, 5]\n",
    "b = a.reshape((2, 3))\n",
    "print(b)\n"
   ]
  },
  {
   "cell_type": "markdown",
   "metadata": {},
   "source": [
    "### 2. ravle() and flatten()\n",
    "\n",
    "- both are used to change multidimensional array into 1D array \n",
    "\n",
    "- ravel() – returns a view (affects original if modified)\n",
    "\n",
    "- flatten() – returns a copy (original is unchanged)"
   ]
  },
  {
   "cell_type": "code",
   "execution_count": 2,
   "metadata": {},
   "outputs": [
    {
     "name": "stdout",
     "output_type": "stream",
     "text": [
      "[1 2 3 4]\n",
      "[1 2 3 4]\n"
     ]
    }
   ],
   "source": [
    "a = np.array([[1, 2], [3, 4]])\n",
    "print(a.ravel())     # [1 2 3 4]\n",
    "print(a.flatten())   # [1 2 3 4]\n"
   ]
  },
  {
   "cell_type": "markdown",
   "metadata": {},
   "source": [
    "### 3. transpose()\n",
    "\n",
    "- it changes the rows to column and column to rows "
   ]
  },
  {
   "cell_type": "code",
   "execution_count": 3,
   "metadata": {},
   "outputs": [
    {
     "name": "stdout",
     "output_type": "stream",
     "text": [
      "[[1 4]\n",
      " [2 5]\n",
      " [3 6]]\n"
     ]
    }
   ],
   "source": [
    "a = np.array([[1, 2, 3],\n",
    "              [4, 5, 6]])\n",
    "\n",
    "print(a.T)\n"
   ]
  },
  {
   "cell_type": "markdown",
   "metadata": {},
   "source": [
    "### 4. reshape(-1)\n",
    "\n",
    "- Use -1 when you don’t want to manually calculate one of the dimensions:\n",
    "\n"
   ]
  },
  {
   "cell_type": "code",
   "execution_count": 4,
   "metadata": {},
   "outputs": [
    {
     "name": "stdout",
     "output_type": "stream",
     "text": [
      "[[ 0  1  2  3]\n",
      " [ 4  5  6  7]\n",
      " [ 8  9 10 11]]\n"
     ]
    }
   ],
   "source": [
    "a = np.arange(12)\n",
    "b = a.reshape(3, -1)   # NumPy figures out that it must be (3, 4)\n",
    "print(b)\n",
    "# in this code 3 rows want and the number of the column is automatically fined by numpy"
   ]
  },
  {
   "cell_type": "code",
   "execution_count": 5,
   "metadata": {},
   "outputs": [
    {
     "name": "stdout",
     "output_type": "stream",
     "text": [
      "[[ 0  1  2  3]\n",
      " [ 4  5  6  7]\n",
      " [ 8  9 10 11]]\n"
     ]
    }
   ],
   "source": [
    "import numpy as np\n",
    "\n",
    "a = np.arange(12)  # [0, 1, 2, 3, 4, 5, 6, 7, 8, 9, 10, 11]\n",
    "b = a.reshape(-1,4) # here number of column is 4 and no. of rows is fined by numpy \n",
    "print(b)"
   ]
  },
  {
   "cell_type": "markdown",
   "metadata": {},
   "source": [
    "### 5. resize() vs reshape() \n",
    "\n",
    "- resize() changes the array in place and can also increase size by filling with zeros:"
   ]
  },
  {
   "cell_type": "code",
   "execution_count": null,
   "metadata": {},
   "outputs": [],
   "source": [
    "a = np.array([1, 2, 3])\n",
    "a.resize((2, 3))\n",
    "print(a)\n"
   ]
  },
  {
   "cell_type": "code",
   "execution_count": 6,
   "metadata": {},
   "outputs": [
    {
     "name": "stdout",
     "output_type": "stream",
     "text": [
      "[[1 2 3 0]\n",
      " [0 0 0 0]]\n"
     ]
    }
   ],
   "source": [
    "a = np.array([1, 2, 3])\n",
    "a.resize((2, 4))\n",
    "print(a)\n",
    "# here you have 3 value in array and you want 2x4= 8 then three value is puted and rest of the data is fill with zero"
   ]
  },
  {
   "cell_type": "markdown",
   "metadata": {},
   "source": [
    "### swapaxes() \n",
    "\n",
    "- swap the axes of the array \n",
    "- it is also like transpose but it is mainly useful for 3D array "
   ]
  },
  {
   "cell_type": "code",
   "execution_count": null,
   "metadata": {},
   "outputs": [],
   "source": [
    "a = np.array([[[1,2],[3,4]]])\n",
    "b = np.swapaxes(a, 0, 2)\n"
   ]
  },
  {
   "cell_type": "code",
   "execution_count": 7,
   "metadata": {},
   "outputs": [
    {
     "name": "stdout",
     "output_type": "stream",
     "text": [
      "(2, 2, 1)\n"
     ]
    }
   ],
   "source": [
    "# 3D \n",
    "a = np.array([[[1, 2], [3, 4]]])\n",
    "# shape = (1, 2, 2)\n",
    "\n",
    "b = np.swapaxes(a, 0, 2)\n",
    "print(b.shape)\n"
   ]
  }
 ],
 "metadata": {
  "kernelspec": {
   "display_name": "env",
   "language": "python",
   "name": "python3"
  },
  "language_info": {
   "codemirror_mode": {
    "name": "ipython",
    "version": 3
   },
   "file_extension": ".py",
   "mimetype": "text/x-python",
   "name": "python",
   "nbconvert_exporter": "python",
   "pygments_lexer": "ipython3",
   "version": "3.13.3"
  }
 },
 "nbformat": 4,
 "nbformat_minor": 2
}
