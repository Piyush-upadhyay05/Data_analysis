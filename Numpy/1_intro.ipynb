{
 "cells": [
  {
   "cell_type": "markdown",
   "metadata": {},
   "source": [
    "### Numpy:\n",
    "\n",
    "- NumPy (Numerical Python) is a fundamental Python library for performing scientific computing. It provides support for large, multi-dimensional arrays and matrices, along with a collection of high-level mathematical functions to operate on these arrays efficiently.\n",
    "\n",
    "- support large number of data in the form of multidiimensional array and matrix . \n",
    "\n",
    "- used for mathematic calculation like linear algebra , fourier transform and random number capabilities etc .\n",
    "\n",
    "- NumPy (Numerical Python) is a Python library used to perform fast mathematical operations on large datasets, especially using arrays and matrices.\n",
    "\n",
    "\n"
   ]
  },
  {
   "cell_type": "markdown",
   "metadata": {},
   "source": [
    "# Why Use NumPy?\n",
    "\n",
    "| Feature             | Reason                                                                 |\n",
    "|---------------------|------------------------------------------------------------------------|\n",
    "| ✅ **Performance**   | Much faster than Python lists, as it's implemented in C internally     |\n",
    "| ✅ **Arrays**        | Supports multi-dimensional arrays efficiently                          |\n",
    "| ✅ **Broadcasting**  | Automatically expands smaller arrays during operations                 |\n",
    "| ✅ **Vectorization** | You can apply operations to entire arrays (like addition, multiplication) without loops |\n",
    "| ✅ **Memory**        | Uses less memory than lists                                             |\n",
    "| ✅ **Scientific Computing** | Includes functions for linear algebra, statistics, random sampling, and Fourier transforms |\n"
   ]
  },
  {
   "cell_type": "markdown",
   "metadata": {},
   "source": [
    "## important terms in numpy\n",
    "\n",
    "- ### 1. `np.array()`\n",
    "  \n",
    "  - used to create numpy array from python list or tuple \n",
    "    "
   ]
  },
  {
   "cell_type": "code",
   "execution_count": 2,
   "metadata": {},
   "outputs": [
    {
     "name": "stdout",
     "output_type": "stream",
     "text": [
      "[1 2 3]\n",
      "<class 'numpy.ndarray'>\n"
     ]
    }
   ],
   "source": [
    "import numpy as np\n",
    "x = np.array([1,2,3])\n",
    "print(x)\n",
    "print(type(x))\n"
   ]
  },
  {
   "cell_type": "markdown",
   "metadata": {},
   "source": [
    "- ### 2. ndarray (N- dimensional array)\n",
    "\n",
    "  - this is the main object in numpy\n",
    "\n",
    "  - it is a multidimensional container of homogenious elements(same data type)"
   ]
  },
  {
   "cell_type": "code",
   "execution_count": 4,
   "metadata": {},
   "outputs": [
    {
     "name": "stdout",
     "output_type": "stream",
     "text": [
      "<class 'numpy.ndarray'>\n"
     ]
    }
   ],
   "source": [
    "arr = np.array([[1, 2, 3], [4, 5, 6]])\n",
    "print(type(arr))  # <class 'numpy.ndarray'>\n"
   ]
  },
  {
   "cell_type": "markdown",
   "metadata": {},
   "source": [
    "- ### 3. `.ndim` \n",
    "\n",
    "  - return the number of dimension(axes) of the array  "
   ]
  },
  {
   "cell_type": "code",
   "execution_count": 5,
   "metadata": {},
   "outputs": [
    {
     "name": "stdout",
     "output_type": "stream",
     "text": [
      "<class 'numpy.ndarray'>\n"
     ]
    },
    {
     "data": {
      "text/plain": [
       "2"
      ]
     },
     "execution_count": 5,
     "metadata": {},
     "output_type": "execute_result"
    }
   ],
   "source": [
    "arr = np.array([[1, 2, 3], [4, 5, 6]])\n",
    "print(type(arr))  # <class 'numpy.ndarray'>\n",
    "arr.ndim"
   ]
  },
  {
   "cell_type": "markdown",
   "metadata": {},
   "source": [
    "- ### 4. `.shape` \n",
    "\n",
    "  - it tells the stucture of the array(rows , column) \n"
   ]
  },
  {
   "cell_type": "code",
   "execution_count": 6,
   "metadata": {},
   "outputs": [
    {
     "name": "stdout",
     "output_type": "stream",
     "text": [
      "<class 'numpy.ndarray'>\n"
     ]
    },
    {
     "data": {
      "text/plain": [
       "(2, 3)"
      ]
     },
     "execution_count": 6,
     "metadata": {},
     "output_type": "execute_result"
    }
   ],
   "source": [
    "arr = np.array([[1, 2, 3], [4, 5, 6]])\n",
    "print(type(arr))  # <class 'numpy.ndarray'>\n",
    "arr.shape"
   ]
  },
  {
   "cell_type": "markdown",
   "metadata": {},
   "source": [
    "- ### 4. `.size` \n",
    " \n",
    "  - it returns the total number of elements in the array"
   ]
  },
  {
   "cell_type": "code",
   "execution_count": 7,
   "metadata": {},
   "outputs": [
    {
     "name": "stdout",
     "output_type": "stream",
     "text": [
      "<class 'numpy.ndarray'>\n"
     ]
    },
    {
     "data": {
      "text/plain": [
       "6"
      ]
     },
     "execution_count": 7,
     "metadata": {},
     "output_type": "execute_result"
    }
   ],
   "source": [
    "arr = np.array([[1, 2, 3], [4, 5, 6]])\n",
    "print(type(arr))  # <class 'numpy.ndarray'>\n",
    "arr.size"
   ]
  },
  {
   "cell_type": "markdown",
   "metadata": {},
   "source": [
    "- ### 5. `.dtype`\n",
    " \n",
    "  - it shows the datatype of the element present in the array "
   ]
  },
  {
   "cell_type": "code",
   "execution_count": null,
   "metadata": {},
   "outputs": [
    {
     "name": "stdout",
     "output_type": "stream",
     "text": [
      "<class 'numpy.ndarray'>\n"
     ]
    },
    {
     "data": {
      "text/plain": [
       "dtype('int64')"
      ]
     },
     "execution_count": 8,
     "metadata": {},
     "output_type": "execute_result"
    }
   ],
   "source": [
    "arr = np.array([[1, 2, 3], [4, 5, 6]])\n",
    "print(type(arr))  # <class 'numpy.ndarray'>\n",
    "arr.dtype\n",
    "\n",
    "# In this case, int64 means that each element in the array is a 64-bit integer"
   ]
  },
  {
   "cell_type": "markdown",
   "metadata": {},
   "source": [
    "## Array can create a function :\n",
    "\n"
   ]
  },
  {
   "cell_type": "markdown",
   "metadata": {},
   "source": [
    "- ### 1. np.zeros(shape) \n",
    "\n",
    "  - create an array of all zeroes "
   ]
  },
  {
   "cell_type": "code",
   "execution_count": null,
   "metadata": {},
   "outputs": [
    {
     "name": "stdout",
     "output_type": "stream",
     "text": [
      "[[0. 0. 0. 0.]\n",
      " [0. 0. 0. 0.]\n",
      " [0. 0. 0. 0.]]\n"
     ]
    }
   ],
   "source": [
    "import numpy as np\n",
    "\n",
    "X = np.zeros((3, 4))\n",
    "\n",
    "print(X)\n"
   ]
  },
  {
   "cell_type": "markdown",
   "metadata": {},
   "source": [
    "- ### 2. np.ones(shape)\n",
    "\n",
    " - create an array of all ones "
   ]
  },
  {
   "cell_type": "code",
   "execution_count": 15,
   "metadata": {},
   "outputs": [
    {
     "name": "stdout",
     "output_type": "stream",
     "text": [
      "[[1. 1. 1. 1.]\n",
      " [1. 1. 1. 1.]\n",
      " [1. 1. 1. 1.]]\n"
     ]
    }
   ],
   "source": [
    "import numpy as np\n",
    "\n",
    "X = np.ones((3, 4))\n",
    "\n",
    "print(X)"
   ]
  },
  {
   "cell_type": "markdown",
   "metadata": {},
   "source": [
    "- ### 3. np.full(shape , values)\n",
    "  \n",
    "  - fill array with specific values  "
   ]
  },
  {
   "cell_type": "code",
   "execution_count": 16,
   "metadata": {},
   "outputs": [
    {
     "name": "stdout",
     "output_type": "stream",
     "text": [
      "[[6 6 6 6]\n",
      " [6 6 6 6]\n",
      " [6 6 6 6]]\n"
     ]
    }
   ],
   "source": [
    "import numpy as np\n",
    "\n",
    "X = np.full((3, 4), 6)\n",
    "\n",
    "print(X)"
   ]
  },
  {
   "cell_type": "markdown",
   "metadata": {},
   "source": [
    "- ### 4. np.arange(start , stop , step)\n",
    "  \n",
    "  - it is just like a range() but it is used for array "
   ]
  },
  {
   "cell_type": "code",
   "execution_count": 19,
   "metadata": {},
   "outputs": [
    {
     "name": "stdout",
     "output_type": "stream",
     "text": [
      "[ 2  4  6  8 10]\n"
     ]
    }
   ],
   "source": [
    "import numpy as np\n",
    "\n",
    "arr = np.arange(2, 12, 2)\n",
    "\n",
    "print(arr)\n"
   ]
  },
  {
   "cell_type": "markdown",
   "metadata": {},
   "source": [
    "- ### 5. np.linspace(start , stop , num)\n",
    "\n",
    "  - return evenly spaced number between two points "
   ]
  },
  {
   "cell_type": "code",
   "execution_count": null,
   "metadata": {},
   "outputs": [
    {
     "name": "stdout",
     "output_type": "stream",
     "text": [
      "[ 0.   2.5  5.   7.5 10. ]\n",
      "[ 2. 14.]\n"
     ]
    }
   ],
   "source": [
    "import numpy as np\n",
    "\n",
    "# Generate 5 evenly spaced numbers between 0 and 10 (inclusive)\n",
    "arr = np.linspace(0, 10, 5)\n",
    "x = np.linspace(2, 14,2)\n",
    "\n",
    "print(arr)\n",
    "print(x)\n",
    "# How are the values calculated?\n",
    "# step=  stop - step / num - 1 \n"
   ]
  },
  {
   "cell_type": "markdown",
   "metadata": {},
   "source": [
    "- ### 6. np.random.rand()\n",
    "  \n",
    "  - create array with random float values(0 to 1)"
   ]
  },
  {
   "cell_type": "code",
   "execution_count": 22,
   "metadata": {},
   "outputs": [
    {
     "name": "stdout",
     "output_type": "stream",
     "text": [
      "0.24476478649179156\n"
     ]
    }
   ],
   "source": [
    "import numpy as np\n",
    "\n",
    "# Generate a single random float between 0 and 1\n",
    "random_number = np.random.rand()\n",
    "print(random_number)\n"
   ]
  },
  {
   "cell_type": "code",
   "execution_count": 3,
   "metadata": {},
   "outputs": [
    {
     "name": "stdout",
     "output_type": "stream",
     "text": [
      "[0.60365113 0.62775248 0.96020664 0.07213344]\n"
     ]
    }
   ],
   "source": [
    "import numpy as np\n",
    "rand = np.random.rand(4)\n",
    "print(rand)"
   ]
  },
  {
   "cell_type": "code",
   "execution_count": 23,
   "metadata": {},
   "outputs": [
    {
     "name": "stdout",
     "output_type": "stream",
     "text": [
      "[[0.80614465 0.52512265 0.62958289]\n",
      " [0.79807066 0.99071847 0.17610981]]\n"
     ]
    }
   ],
   "source": [
    "# Generate a 2x3 array of random floats between 0 and 1\n",
    "random_array = np.random.rand(2, 3)\n",
    "print(random_array)\n"
   ]
  },
  {
   "cell_type": "markdown",
   "metadata": {},
   "source": [
    "- ### 7. np.random.randint(low , high, size)\n",
    " \n",
    "  - random integer  "
   ]
  },
  {
   "cell_type": "code",
   "execution_count": 36,
   "metadata": {},
   "outputs": [
    {
     "name": "stdout",
     "output_type": "stream",
     "text": [
      "0\n"
     ]
    }
   ],
   "source": [
    "import numpy as np\n",
    "\n",
    "# Generate a single random integer between 0 (inclusive) and 10 (exclusive)\n",
    "random_int = np.random.randint(0, 10)\n",
    "print(random_int)\n"
   ]
  },
  {
   "cell_type": "code",
   "execution_count": 38,
   "metadata": {},
   "outputs": [
    {
     "name": "stdout",
     "output_type": "stream",
     "text": [
      "[[ 5  8  5  7]\n",
      " [12 13 13 11]]\n"
     ]
    }
   ],
   "source": [
    "# Generate a 2x4 array of random integers between 5 (inclusive) and 15 (exclusive)\n",
    "random_array = np.random.randint(5, 15, size=(2, 4))\n",
    "print(random_array)\n"
   ]
  },
  {
   "cell_type": "markdown",
   "metadata": {},
   "source": [
    "# NumPy vs Python List\n",
    "\n",
    "| Feature                          | NumPy Array                            | Python List                          |\n",
    "|----------------------------------|----------------------------------------|--------------------------------------|\n",
    "| **Performance**                  | Much faster for numerical operations   | Slower for large data and operations |\n",
    "| **Memory Efficiency**            | More memory-efficient (compact)        | Less efficient (stores type info)    |\n",
    "| **Data Type**                    | Homogeneous (all elements same type)   | Heterogeneous (mixed data types)     |\n",
    "| **Functionality**                | Supports element-wise operations       | Requires loops or list comprehensions |\n",
    "| **Multidimensional Support**     | Supports multi-dimensional arrays      | Only supports nested lists           |\n",
    "| **Broadcasting**                 | Yes (automatic expansion of shapes)    | No                                   |\n",
    "| **Built-in Math Functions**      | Rich set of optimized functions        | Needs manual implementation or `math` module |\n",
    "| **Slicing & Indexing**           | More powerful and flexible             | Limited                               |\n",
    "| **Integration**                  | Works well with other scientific libs  | Less compatible with NumPy/Pandas/etc. |\n",
    "| **Use Case**                     | Numerical computing, data analysis     | General-purpose programming           |\n",
    "\n",
    "> ✅ **Use NumPy** when you need performance, efficiency, and powerful numerical operations (especially with large datasets).  \n",
    "> 🐍 **Use Python lists** for general-purpose programming and when working with mixed data types.\n"
   ]
  },
  {
   "cell_type": "markdown",
   "metadata": {},
   "source": [
    "- numpy is written in c language that's why it run faster\n",
    "  \n",
    "   - 1. faste process\n",
    "   - 2. use less memory to store data \n",
    "   - 3. convenient "
   ]
  },
  {
   "cell_type": "markdown",
   "metadata": {},
   "source": [
    "### why use numpy for machine learning \n",
    "\n",
    "| Reason                                  | Explanation                                                                                                                                |\n",
    "| --------------------------------------- | ------------------------------------------------------------------------------------------------------------------------------------------ |\n",
    "| 🔢 **Efficient numerical computations** | Machine learning involves heavy matrix operations. NumPy is implemented in C, making it **much faster** than native Python lists.          |\n",
    "| 📐 **N-dimensional arrays** (`ndarray`) | ML models often use **vectors**, **matrices**, and **tensors**. NumPy provides an efficient way to work with these using `ndarray`.        |\n",
    "| ⚙️ **Vectorization**                    | Replaces slow Python loops with **vectorized operations**, making code more readable and **up to 100x faster**.                            |\n",
    "| 🧮 **Linear algebra support**           | ML algorithms rely on operations like **dot product**, **matrix inversion**, **eigenvalues**, etc., all of which NumPy supports.           |\n",
    "| 🔁 **Broadcasting**                     | Allows arithmetic operations between arrays of different shapes (automatically expands dimensions), which simplifies ML code.              |\n",
    "| 🤝 **Integration with ML Libraries**    | Libraries like **Scikit-learn, TensorFlow, PyTorch, and Pandas** are all built on or use NumPy arrays internally.                          |\n",
    "| 🧪 **Data preprocessing**               | ML involves cleaning and transforming data — NumPy makes this fast and flexible with tools for slicing, filtering, reshaping, etc.         |\n",
    "| 🧠 **Foundation for Deep Learning**     | Before jumping into frameworks like TensorFlow or PyTorch, understanding NumPy helps build a **strong foundation in tensor manipulation**. |\n"
   ]
  },
  {
   "cell_type": "code",
   "execution_count": 8,
   "metadata": {},
   "outputs": [
    {
     "name": "stdout",
     "output_type": "stream",
     "text": [
      "NumPy Time: 0.0030891895294189453\n",
      "List Time: 0.10413670539855957\n"
     ]
    }
   ],
   "source": [
    "# example : speed conversion\n",
    "import numpy as np\n",
    "import time\n",
    "\n",
    "# With NumPy\n",
    "arr = np.arange(1_000_000)\n",
    "start = time.time()\n",
    "arr = arr * 2\n",
    "\n",
    "print(\"NumPy Time:\", time.time() - start)\n",
    "\n",
    "# With List\n",
    "lst = list(range(1_000_000))\n",
    "start = time.time()\n",
    "lst = [x * 2 for x in lst]\n",
    "print(\"List Time:\", time.time() - start)\n"
   ]
  }
 ],
 "metadata": {
  "kernelspec": {
   "display_name": "env",
   "language": "python",
   "name": "python3"
  },
  "language_info": {
   "codemirror_mode": {
    "name": "ipython",
    "version": 3
   },
   "file_extension": ".py",
   "mimetype": "text/x-python",
   "name": "python",
   "nbconvert_exporter": "python",
   "pygments_lexer": "ipython3",
   "version": "3.13.5"
  }
 },
 "nbformat": 4,
 "nbformat_minor": 2
}
