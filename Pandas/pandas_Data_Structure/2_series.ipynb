{
 "cells": [
  {
   "cell_type": "markdown",
   "metadata": {},
   "source": [
    "### Series :\n",
    "\n",
    "- series is a fundamental data structure in the pandas liberary .\n",
    "\n",
    "- it is a one dimensional labelled array that can hold any type such as integer ,float ,string or even python object \n",
    "\n",
    "- lebelled means each element has index start from zero  \n"
   ]
  },
  {
   "cell_type": "markdown",
   "metadata": {},
   "source": [
    "#### Key Characteristics of a Pandas Series:\n",
    "\n",
    "   - One-dimensional: The Series is a single linear array.\n",
    "\n",
    "   - Labeled Index: Each data element is assigned a label (index) that can be used to access the data. The index can be integers (default) or custom labels like strings.\n",
    "\n",
    "   - Heterogeneous Data: Supports any data types, including integers, floats, strings, or objects.\n",
    "\n",
    "   - Flexible Creation: Can be created from lists, dictionaries, NumPy arrays, or scalar values.\n",
    "\n",
    "   - Data and Index Attributes: The values are stored in the array portion, and the index contains the labels for these values.\n"
   ]
  },
  {
   "cell_type": "markdown",
   "metadata": {},
   "source": [
    "creating a pandas series "
   ]
  },
  {
   "cell_type": "code",
   "execution_count": 1,
   "metadata": {},
   "outputs": [
    {
     "name": "stdout",
     "output_type": "stream",
     "text": [
      "0        1\n",
      "1        2\n",
      "2      3.0\n",
      "3    hello\n",
      "dtype: object\n"
     ]
    }
   ],
   "source": [
    "import pandas as pd \n",
    "list = [1,2,3.0,'hello']\n",
    "series = pd.Series(list)\n",
    "print(series)"
   ]
  },
  {
   "cell_type": "markdown",
   "metadata": {},
   "source": [
    "short way to create series"
   ]
  },
  {
   "cell_type": "code",
   "execution_count": null,
   "metadata": {},
   "outputs": [
    {
     "name": "stdout",
     "output_type": "stream",
     "text": [
      "0    1\n",
      "1    2\n",
      "2    3\n",
      "3    4\n",
      "dtype: int64\n",
      "<class 'pandas.core.series.Series'>\n"
     ]
    }
   ],
   "source": [
    "series = pd.Series([1,2,3,4])\n",
    "print(series)\n",
    "print(type(series)) # to print the type of the seires = type()"
   ]
  },
  {
   "cell_type": "markdown",
   "metadata": {},
   "source": [
    "##### creating empty series "
   ]
  },
  {
   "cell_type": "code",
   "execution_count": 13,
   "metadata": {},
   "outputs": [
    {
     "name": "stdout",
     "output_type": "stream",
     "text": [
      "Series([], dtype: object)\n",
      "<class 'pandas.core.series.Series'>\n"
     ]
    }
   ],
   "source": [
    "empty_s = pd.Series([])\n",
    "print(empty_s)\n",
    "print(type(empty_s))"
   ]
  },
  {
   "cell_type": "markdown",
   "metadata": {},
   "source": [
    "##### changing index value in series "
   ]
  },
  {
   "cell_type": "code",
   "execution_count": 14,
   "metadata": {},
   "outputs": [
    {
     "name": "stdout",
     "output_type": "stream",
     "text": [
      "b    1\n",
      "f    2\n",
      "c    3\n",
      "t    4\n",
      "y    5\n",
      "dtype: int64\n"
     ]
    }
   ],
   "source": [
    "index_chang = pd.Series([1,2,3,4,5],index=['b','f','c','t','y']) # number of element in series and number of index have to same \n",
    "print(index_chang)"
   ]
  },
  {
   "cell_type": "markdown",
   "metadata": {},
   "source": [
    "changing data type "
   ]
  },
  {
   "cell_type": "code",
   "execution_count": 15,
   "metadata": {},
   "outputs": [
    {
     "name": "stdout",
     "output_type": "stream",
     "text": [
      "b    1.0\n",
      "f    2.0\n",
      "c    3.0\n",
      "t    4.0\n",
      "y    5.0\n",
      "dtype: float64\n"
     ]
    }
   ],
   "source": [
    "index_chang = pd.Series([1,2,3,4,5],index=['b','f','c','t','y'],dtype=float)\n",
    "print(index_chang)"
   ]
  },
  {
   "cell_type": "markdown",
   "metadata": {},
   "source": [
    "you can also give the column name to the series using name "
   ]
  },
  {
   "cell_type": "code",
   "execution_count": 17,
   "metadata": {},
   "outputs": [
    {
     "name": "stdout",
     "output_type": "stream",
     "text": [
      "b    1.0\n",
      "f    2.0\n",
      "c    3.0\n",
      "t    4.0\n",
      "y    5.0\n",
      "Name: data_values, dtype: float64\n"
     ]
    }
   ],
   "source": [
    "index_chang = pd.Series([1,2,3,4,5],index=['b','f','c','t','y'],dtype=float,name='data_values')\n",
    "print(index_chang)"
   ]
  },
  {
   "cell_type": "code",
   "execution_count": 4,
   "metadata": {},
   "outputs": [
    {
     "name": "stdout",
     "output_type": "stream",
     "text": [
      "-5\n"
     ]
    }
   ],
   "source": [
    "obje = pd.Series([3,7,-5,8])\n",
    "print(obje[2])"
   ]
  },
  {
   "cell_type": "code",
   "execution_count": 10,
   "metadata": {},
   "outputs": [
    {
     "data": {
      "text/plain": [
       "False"
      ]
     },
     "execution_count": 10,
     "metadata": {},
     "output_type": "execute_result"
    }
   ],
   "source": [
    "obj3 = pd.Series([1,2,3,4],index= ['a','b','c','d'])\n",
    "\"b\" in obj3\n",
    "\"e\" in obj3\n"
   ]
  }
 ],
 "metadata": {
  "kernelspec": {
   "display_name": "env",
   "language": "python",
   "name": "python3"
  },
  "language_info": {
   "codemirror_mode": {
    "name": "ipython",
    "version": 3
   },
   "file_extension": ".py",
   "mimetype": "text/x-python",
   "name": "python",
   "nbconvert_exporter": "python",
   "pygments_lexer": "ipython3",
   "version": "3.13.7"
  }
 },
 "nbformat": 4,
 "nbformat_minor": 2
}
