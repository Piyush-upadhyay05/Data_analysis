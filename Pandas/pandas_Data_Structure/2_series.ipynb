{
 "cells": [
  {
   "cell_type": "markdown",
   "metadata": {},
   "source": [
    "### Series :\n",
    "\n",
    "- series is a fundamental data structure in the pandas liberary .\n",
    "\n",
    "- it is a one dimensional labelled array that can hold any type such as integer ,float ,string or even python object \n",
    "\n",
    "- lebelled means each element has index start from zero  \n"
   ]
  },
  {
   "cell_type": "markdown",
   "metadata": {},
   "source": [
    "#### Key Characteristics of a Pandas Series:\n",
    "\n",
    "   - One-dimensional: The Series is a single linear array.\n",
    "\n",
    "   - Labeled Index: Each data element is assigned a label (index) that can be used to access the data. The index can be integers (default) or custom labels like strings.\n",
    "\n",
    "   - Heterogeneous Data: Supports any data types, including integers, floats, strings, or objects.\n",
    "\n",
    "   - Flexible Creation: Can be created from lists, dictionaries, NumPy arrays, or scalar values.\n",
    "\n",
    "   - Data and Index Attributes: The values are stored in the array portion, and the index contains the labels for these values.\n"
   ]
  }
 ],
 "metadata": {
  "language_info": {
   "name": "python"
  }
 },
 "nbformat": 4,
 "nbformat_minor": 2
}
