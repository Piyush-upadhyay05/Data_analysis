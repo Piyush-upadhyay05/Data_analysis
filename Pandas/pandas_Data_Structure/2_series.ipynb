{
 "cells": [
  {
   "cell_type": "markdown",
   "metadata": {},
   "source": [
    "### Series :\n",
    "\n",
    "- series is a fundamental data structure in the pandas liberary .\n",
    "\n",
    "- it is a one dimensional labelled array that can hold any type such as integer ,float ,string or even python object \n",
    "\n",
    "- lebelled means each element has index start from zero  \n"
   ]
  },
  {
   "cell_type": "markdown",
   "metadata": {},
   "source": [
    "#### Key Characteristics of a Pandas Series:\n",
    "\n",
    "   - One-dimensional: The Series is a single linear array.\n",
    "\n",
    "   - Labeled Index: Each data element is assigned a label (index) that can be used to access the data. The index can be integers (default) or custom labels like strings.\n",
    "\n",
    "   - Heterogeneous Data: Supports any data types, including integers, floats, strings, or objects.\n",
    "\n",
    "   - Flexible Creation: Can be created from lists, dictionaries, NumPy arrays, or scalar values.\n",
    "\n",
    "   - Data and Index Attributes: The values are stored in the array portion, and the index contains the labels for these values.\n"
   ]
  },
  {
   "cell_type": "markdown",
   "metadata": {},
   "source": [
    "creating a pandas series "
   ]
  },
  {
   "cell_type": "code",
   "execution_count": 1,
   "metadata": {},
   "outputs": [
    {
     "name": "stdout",
     "output_type": "stream",
     "text": [
      "0        1\n",
      "1        2\n",
      "2      3.0\n",
      "3    hello\n",
      "dtype: object\n"
     ]
    }
   ],
   "source": [
    "import pandas as pd \n",
    "list = [1,2,3.0,'hello']\n",
    "series = pd.Series(list)\n",
    "print(series)"
   ]
  },
  {
   "cell_type": "markdown",
   "metadata": {},
   "source": [
    "short way to create series"
   ]
  },
  {
   "cell_type": "code",
   "execution_count": null,
   "metadata": {},
   "outputs": [
    {
     "name": "stdout",
     "output_type": "stream",
     "text": [
      "0    1\n",
      "1    2\n",
      "2    3\n",
      "3    4\n",
      "dtype: int64\n",
      "<class 'pandas.core.series.Series'>\n"
     ]
    }
   ],
   "source": [
    "series = pd.Series([1,2,3,4])\n",
    "print(series)\n",
    "print(type(series)) # to print the type of the seires = type()"
   ]
  },
  {
   "cell_type": "markdown",
   "metadata": {},
   "source": [
    "##### creating empty series "
   ]
  },
  {
   "cell_type": "code",
   "execution_count": 13,
   "metadata": {},
   "outputs": [
    {
     "name": "stdout",
     "output_type": "stream",
     "text": [
      "Series([], dtype: object)\n",
      "<class 'pandas.core.series.Series'>\n"
     ]
    }
   ],
   "source": [
    "empty_s = pd.Series([])\n",
    "print(empty_s)\n",
    "print(type(empty_s))"
   ]
  },
  {
   "cell_type": "markdown",
   "metadata": {},
   "source": [
    "##### changing index value in series "
   ]
  },
  {
   "cell_type": "code",
   "execution_count": 14,
   "metadata": {},
   "outputs": [
    {
     "name": "stdout",
     "output_type": "stream",
     "text": [
      "b    1\n",
      "f    2\n",
      "c    3\n",
      "t    4\n",
      "y    5\n",
      "dtype: int64\n"
     ]
    }
   ],
   "source": [
    "index_chang = pd.Series([1,2,3,4,5],index=['b','f','c','t','y']) # number of element in series and number of index have to same \n",
    "print(index_chang)"
   ]
  },
  {
   "cell_type": "markdown",
   "metadata": {},
   "source": [
    "changing data type "
   ]
  },
  {
   "cell_type": "code",
   "execution_count": 15,
   "metadata": {},
   "outputs": [
    {
     "name": "stdout",
     "output_type": "stream",
     "text": [
      "b    1.0\n",
      "f    2.0\n",
      "c    3.0\n",
      "t    4.0\n",
      "y    5.0\n",
      "dtype: float64\n"
     ]
    }
   ],
   "source": [
    "index_chang = pd.Series([1,2,3,4,5],index=['b','f','c','t','y'],dtype=float)\n",
    "print(index_chang)"
   ]
  },
  {
   "cell_type": "markdown",
   "metadata": {},
   "source": [
    "you can also give the column name to the series using name "
   ]
  },
  {
   "cell_type": "code",
   "execution_count": 17,
   "metadata": {},
   "outputs": [
    {
     "name": "stdout",
     "output_type": "stream",
     "text": [
      "b    1.0\n",
      "f    2.0\n",
      "c    3.0\n",
      "t    4.0\n",
      "y    5.0\n",
      "Name: data_values, dtype: float64\n"
     ]
    }
   ],
   "source": [
    "index_chang = pd.Series([1,2,3,4,5],index=['b','f','c','t','y'],dtype=float,name='data_values')\n",
    "print(index_chang)"
   ]
  },
  {
   "cell_type": "markdown",
   "metadata": {},
   "source": [
    "creating a series using scalar value "
   ]
  },
  {
   "cell_type": "code",
   "execution_count": 20,
   "metadata": {},
   "outputs": [
    {
     "name": "stdout",
     "output_type": "stream",
     "text": [
      "0    0.5\n",
      "dtype: float64\n",
      "1    0.5\n",
      "2    0.5\n",
      "3    0.5\n",
      "dtype: float64\n"
     ]
    }
   ],
   "source": [
    "scalar_S = pd.Series(0.5)\n",
    "print(scalar_S)\n",
    "scalar_S1 = pd.Series(0.5,index=[1,2,3]) # giving index to the scalar series \n",
    "print(scalar_S1)"
   ]
  },
  {
   "cell_type": "markdown",
   "metadata": {},
   "source": [
    "indexing and slicing in pandas series"
   ]
  },
  {
   "cell_type": "code",
   "execution_count": 24,
   "metadata": {},
   "outputs": [
    {
     "name": "stdout",
     "output_type": "stream",
     "text": [
      "-5\n",
      "0    3\n",
      "1    7\n",
      "2   -5\n",
      "dtype: int64\n"
     ]
    }
   ],
   "source": [
    "obje = pd.Series([3,7,-5,8])\n",
    "print(obje[2])\n",
    "print(obje[0:3])"
   ]
  },
  {
   "cell_type": "code",
   "execution_count": 27,
   "metadata": {},
   "outputs": [
    {
     "name": "stdout",
     "output_type": "stream",
     "text": [
      "2\n"
     ]
    }
   ],
   "source": [
    "# indexing in the given index \n",
    "obj = pd.Series([1,2,-3,5,6], index=['a','v','d','t','u'])\n",
    "print(obj[\"v\"])"
   ]
  },
  {
   "cell_type": "markdown",
   "metadata": {},
   "source": [
    "operatiions on series "
   ]
  },
  {
   "cell_type": "code",
   "execution_count": 30,
   "metadata": {},
   "outputs": [
    {
     "name": "stdout",
     "output_type": "stream",
     "text": [
      "t    5\n",
      "u    6\n",
      "dtype: int64\n",
      "a     2\n",
      "v     4\n",
      "d    -6\n",
      "t    10\n",
      "u    12\n",
      "dtype: int64\n"
     ]
    }
   ],
   "source": [
    "obj = pd.Series([1,2,-3,5,6], index=['a','v','d','t','u'])\n",
    "print(obj[obj>2])\n",
    "data = obj * 2\n",
    "print(data)"
   ]
  },
  {
   "cell_type": "markdown",
   "metadata": {},
   "source": [
    "using numpy fnctions \n"
   ]
  },
  {
   "cell_type": "code",
   "execution_count": null,
   "metadata": {},
   "outputs": [
    {
     "name": "stdout",
     "output_type": "stream",
     "text": [
      "a      2.718282\n",
      "v      7.389056\n",
      "d      0.049787\n",
      "t    148.413159\n",
      "u    403.428793\n",
      "dtype: float64\n"
     ]
    },
    {
     "data": {
      "text/plain": [
       "True"
      ]
     },
     "execution_count": 32,
     "metadata": {},
     "output_type": "execute_result"
    }
   ],
   "source": [
    "obj = pd.Series([1,2,-3,5,6], index=['a','v','d','t','u'])\n",
    "import numpy as np \n",
    "x = np.exp(obj)\n",
    "print(x)"
   ]
  },
  {
   "cell_type": "markdown",
   "metadata": {},
   "source": [
    "#### when you use the in operator with a Series, it checks only in the index labels, not in the values."
   ]
  },
  {
   "cell_type": "code",
   "execution_count": 39,
   "metadata": {},
   "outputs": [
    {
     "name": "stdout",
     "output_type": "stream",
     "text": [
      "True\n",
      "True\n",
      "False\n"
     ]
    }
   ],
   "source": [
    "obj = pd.Series([1,2,-3,5,6], index=['a','v','d','t','u'])\n",
    "print(\"v\" in obj)\n",
    "print(\"d\" in obj)\n",
    "print(\"z\" in obj)"
   ]
  },
  {
   "cell_type": "markdown",
   "metadata": {},
   "source": [
    "- to check the element is present or not in the index "
   ]
  },
  {
   "cell_type": "code",
   "execution_count": null,
   "metadata": {},
   "outputs": [
    {
     "name": "stdout",
     "output_type": "stream",
     "text": [
      "True\n",
      "False\n"
     ]
    }
   ],
   "source": [
    "\n",
    "obj = pd.Series([1,2,-3,5,6], index=['a','v','d','t','u'])\n",
    "print(2 in obj.values)\n",
    "print(3 in obj.values)"
   ]
  },
  {
   "cell_type": "markdown",
   "metadata": {},
   "source": [
    "- check using isin() method"
   ]
  },
  {
   "cell_type": "code",
   "execution_count": 44,
   "metadata": {},
   "outputs": [
    {
     "name": "stdout",
     "output_type": "stream",
     "text": [
      "a    False\n",
      "v     True\n",
      "d    False\n",
      "t    False\n",
      "u     True\n",
      "dtype: bool\n"
     ]
    }
   ],
   "source": [
    "obj = pd.Series([1,2,-3,5,6], index=['a','v','d','t','u'])\n",
    "print(obj.isin([2,6]))"
   ]
  },
  {
   "cell_type": "code",
   "execution_count": 10,
   "metadata": {},
   "outputs": [
    {
     "data": {
      "text/plain": [
       "False"
      ]
     },
     "execution_count": 10,
     "metadata": {},
     "output_type": "execute_result"
    }
   ],
   "source": [
    "obj3 = pd.Series([1,2,3,4],index= ['a','b','c','d'])\n",
    "\"b\" in obj3\n",
    "\"e\" in obj3\n"
   ]
  }
 ],
 "metadata": {
  "kernelspec": {
   "display_name": "env",
   "language": "python",
   "name": "python3"
  },
  "language_info": {
   "codemirror_mode": {
    "name": "ipython",
    "version": 3
   },
   "file_extension": ".py",
   "mimetype": "text/x-python",
   "name": "python",
   "nbconvert_exporter": "python",
   "pygments_lexer": "ipython3",
   "version": "3.13.7"
  }
 },
 "nbformat": 4,
 "nbformat_minor": 2
}
