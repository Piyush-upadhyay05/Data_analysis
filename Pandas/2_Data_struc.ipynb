{
 "cells": [
  {
   "cell_type": "markdown",
   "metadata": {},
   "source": [
    "### pandas data structure \n",
    "\n",
    "- Data structure:\n",
    "  - A data structure is a specialized way of organizing, storing, and accessing data in a computer so it can be used efficiently.\n"
   ]
  },
  {
   "cell_type": "markdown",
   "metadata": {},
   "source": [
    "### mainly pandas have two main data structure\n",
    "\n",
    "- 1. series : 1D labeled array (like a single column of data)\n",
    "- 2. Data frame :  2D labeled table (like an Excel sheet or SQL table)"
   ]
  },
  {
   "cell_type": "markdown",
   "metadata": {},
   "source": [
    "## 1. series :\n",
    "\n",
    "- A Series is a one-dimensional array-like object containing a sequence of values (of\n",
    "similar types to NumPy types) of the same type and an associated array of data labels,\n",
    "called its index."
   ]
  }
 ],
 "metadata": {
  "language_info": {
   "name": "python"
  }
 },
 "nbformat": 4,
 "nbformat_minor": 2
}
