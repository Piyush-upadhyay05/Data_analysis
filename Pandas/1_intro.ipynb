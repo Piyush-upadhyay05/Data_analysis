{
 "cells": [
  {
   "cell_type": "markdown",
   "metadata": {},
   "source": [
    "### Pandas :\n",
    "\n",
    "- Pandas is a powerful open-source Python library used for data manipulation, data cleaning, data analysis, and exploratory data analysis (EDA). It provides fast, flexible, and expressive data structures — especially Series and DataFrames — that make working with structured data easy and intuitive."
   ]
  },
  {
   "cell_type": "markdown",
   "metadata": {},
   "source": [
    "### Why Use Pandas in Machine Learning?\n",
    " - Machine Learning always starts with data. Before training any model, you must:\n",
    "\n",
    " - Load data from files or databases\n",
    "\n",
    " - Explore data for patterns, distributions, and anomalies\n",
    "\n",
    " - Clean and preprocess the data\n",
    "\n",
    " - Engineer meaningful features\n",
    "\n",
    " - Format the data into NumPy arrays or tensors for modeling\n",
    "\n",
    " - Pandas is the tool that does all of the above."
   ]
  },
  {
   "cell_type": "markdown",
   "metadata": {},
   "source": [
    "### key featuers of pandas :\n",
    "| Feature                   | Description                                                               |\n",
    "| ------------------------- | ------------------------------------------------------------------------- |\n",
    "| **Series**                | One-dimensional labeled array (like a column in Excel)                    |\n",
    "| **DataFrame**             | Two-dimensional labeled data structure (like an Excel sheet or SQL table) |\n",
    "| **Indexing**              | Easy access and filtering of rows/columns                                 |\n",
    "| **Handling missing data** | Functions like `dropna()`, `fillna()`                                     |\n",
    "| **Data alignment**        | Smart alignment during operations                                         |\n",
    "| **Flexible I/O**          | Read/write from CSV, Excel, SQL, JSON, etc.                               |\n",
    "| **Groupby**               | Powerful split-apply-combine for aggregation                              |\n",
    "| **Time Series Support**   | Handling date/time data easily                                            |\n"
   ]
  },
  {
   "cell_type": "markdown",
   "metadata": {},
   "source": [
    "### pandas VS numpy VS python lists \n",
    "| Feature       | Python Lists  | NumPy Arrays  | Pandas             |\n",
    "| ------------- | ------------- | ------------- | ------------------ |\n",
    "| Speed         | Slow          | Fast          | Fast               |\n",
    "| Structure     | Basic         | Homogeneous   | Heterogeneous      |\n",
    "| Indexing      | Position only | Position only | Label & position   |\n",
    "| Data Handling | Manual        | Manual        | Automated and rich |\n"
   ]
  },
  {
   "cell_type": "markdown",
   "metadata": {},
   "source": [
    "### installation of pandas\n",
    "\n",
    "``` pip install pandas```"
   ]
  },
  {
   "cell_type": "code",
   "execution_count": 1,
   "metadata": {},
   "outputs": [
    {
     "name": "stdout",
     "output_type": "stream",
     "text": [
      "   Passenger id       name   sex  seat number     title\n",
      "0           123     pratik  male            1   kaushik\n",
      "1           133  abhishekh  male            2    pandey\n",
      "2           143     piyush  male            3  upadhyay\n",
      "3           144       paal  male            4   silawat\n"
     ]
    }
   ],
   "source": [
    "import pandas as pd\n",
    "df = pd.read_csv('titanic.csv')\n",
    "print(df)"
   ]
  }
 ],
 "metadata": {
  "kernelspec": {
   "display_name": "env",
   "language": "python",
   "name": "python3"
  },
  "language_info": {
   "codemirror_mode": {
    "name": "ipython",
    "version": 3
   },
   "file_extension": ".py",
   "mimetype": "text/x-python",
   "name": "python",
   "nbconvert_exporter": "python",
   "pygments_lexer": "ipython3",
   "version": "3.13.3"
  }
 },
 "nbformat": 4,
 "nbformat_minor": 2
}
