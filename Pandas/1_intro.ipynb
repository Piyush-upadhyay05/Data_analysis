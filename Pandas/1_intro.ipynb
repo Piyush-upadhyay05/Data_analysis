{
 "cells": [
  {
   "cell_type": "markdown",
   "metadata": {},
   "source": [
    "### Pandas :\n",
    "\n",
    "- Pandas is a powerful open-source Python library used for data manipulation, data cleaning, data analysis, and exploratory data analysis (EDA). It provides fast, flexible, and expressive data structures — especially Series and DataFrames — that make working with structured data easy and intuitive."
   ]
  },
  {
   "cell_type": "markdown",
   "metadata": {},
   "source": [
    "### Why Use Pandas in Machine Learning?\n",
    " - Machine Learning always starts with data. Before training any model, you must:\n",
    "\n",
    " - Load data from files or databases\n",
    "\n",
    " - Explore data for patterns, distributions, and anomalies\n",
    "\n",
    " - Clean and preprocess the data\n",
    "\n",
    " - Engineer meaningful features\n",
    "\n",
    " - Format the data into NumPy arrays or tensors for modeling\n",
    "\n",
    " - Pandas is the tool that does all of the above."
   ]
  },
  {
   "cell_type": "markdown",
   "metadata": {},
   "source": [
    "### key featuers of pandas :\n",
    "| Feature                   | Description                                                               |\n",
    "| ------------------------- | ------------------------------------------------------------------------- |\n",
    "| **Series**                | One-dimensional labeled array (like a column in Excel)                    |\n",
    "| **DataFrame**             | Two-dimensional labeled data structure (like an Excel sheet or SQL table) |\n",
    "| **Indexing**              | Easy access and filtering of rows/columns                                 |\n",
    "| **Handling missing data** | Functions like `dropna()`, `fillna()`                                     |\n",
    "| **Data alignment**        | Smart alignment during operations                                         |\n",
    "| **Flexible I/O**          | Read/write from CSV, Excel, SQL, JSON, etc.                               |\n",
    "| **Groupby**               | Powerful split-apply-combine for aggregation                              |\n",
    "| **Time Series Support**   | Handling date/time data easily                                            |\n"
   ]
  },
  {
   "cell_type": "markdown",
   "metadata": {},
   "source": [
    "### pandas VS numpy VS python lists \n",
    "| Feature       | Python Lists  | NumPy Arrays  | Pandas             |\n",
    "| ------------- | ------------- | ------------- | ------------------ |\n",
    "| Speed         | Slow          | Fast          | Fast               |\n",
    "| Structure     | Basic         | Homogeneous   | Heterogeneous      |\n",
    "| Indexing      | Position only | Position only | Label & position   |\n",
    "| Data Handling | Manual        | Manual        | Automated and rich |\n"
   ]
  },
  {
   "cell_type": "markdown",
   "metadata": {},
   "source": [
    "### installation of pandas\n",
    "\n",
    "``` pip install pandas```"
   ]
  },
  {
   "cell_type": "markdown",
   "metadata": {},
   "source": [
    "## to check the version of the pandas liberary "
   ]
  },
  {
   "cell_type": "code",
   "execution_count": 2,
   "metadata": {},
   "outputs": [
    {
     "data": {
      "text/plain": [
       "'2.2.3'"
      ]
     },
     "execution_count": 2,
     "metadata": {},
     "output_type": "execute_result"
    }
   ],
   "source": [
    "import pandas as pd \n",
    "pd.__version__"
   ]
  }
 ],
 "metadata": {
  "kernelspec": {
   "display_name": "env",
   "language": "python",
   "name": "python3"
  },
  "language_info": {
   "codemirror_mode": {
    "name": "ipython",
    "version": 3
   },
   "file_extension": ".py",
   "mimetype": "text/x-python",
   "name": "python",
   "nbconvert_exporter": "python",
   "pygments_lexer": "ipython3",
   "version": "3.13.5"
  }
 },
 "nbformat": 4,
 "nbformat_minor": 2
}
