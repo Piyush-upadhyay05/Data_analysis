{
 "cells": [
  {
   "cell_type": "markdown",
   "metadata": {},
   "source": [
    "### Data structure \n",
    "\n",
    "- data structure refers to the special built-in objects that organize and store data in a way that makes data analysis and manipulation fast and easy.\n",
    "- pandas provide two important Data structure \n",
    "\n",
    "  - 1. series \n",
    "  - 2. Data frame "
   ]
  },
  {
   "cell_type": "markdown",
   "metadata": {},
   "source": [
    "### 1. Series \n",
    "\n",
    "- A one-dimensional labeled array.\n",
    "\n",
    "- Can hold any data type – integers, floats, strings, Python objects, etc.\n",
    "\n",
    "- Think of it like a column in Excel or a single list with labels (indexes)"
   ]
  },
  {
   "cell_type": "code",
   "execution_count": 1,
   "metadata": {},
   "outputs": [
    {
     "name": "stdout",
     "output_type": "stream",
     "text": [
      "a    10\n",
      "b    20\n",
      "c    30\n",
      "dtype: int64\n"
     ]
    }
   ],
   "source": [
    "import pandas as pd\n",
    "\n",
    "data = pd.Series([10, 20, 30], index=['a', 'b', 'c'])\n",
    "print(data)\n"
   ]
  },
  {
   "cell_type": "markdown",
   "metadata": {},
   "source": [
    "### 2. Dataframe \n",
    "\n",
    "- A two-dimensional labeled data structure (like a table).\n",
    "\n",
    "- Made up of multiple Series objects (like columns).\n",
    "\n",
    "- You can think of it like an Excel spreadsheet or a SQL table.\n",
    "\n"
   ]
  },
  {
   "cell_type": "code",
   "execution_count": 2,
   "metadata": {},
   "outputs": [
    {
     "name": "stdout",
     "output_type": "stream",
     "text": [
      "      Name  Age\n",
      "0    Alice   25\n",
      "1      Bob   30\n",
      "2  Charlie   35\n"
     ]
    }
   ],
   "source": [
    "import pandas as pd\n",
    "\n",
    "data = {\n",
    "    'Name': ['Alice', 'Bob', 'Charlie'],\n",
    "    'Age': [25, 30, 35]\n",
    "}\n",
    "\n",
    "df = pd.DataFrame(data)\n",
    "print(df)\n"
   ]
  },
  {
   "cell_type": "markdown",
   "metadata": {},
   "source": [
    "### differece between series and dataframe \n",
    "\n",
    "| Feature            | **Series**                            | **DataFrame**                                |\n",
    "| ------------------ | ------------------------------------- | -------------------------------------------- |\n",
    "| **Definition**     | 1D labeled array                      | 2D labeled table (rows & columns)            |\n",
    "| **Dimensions**     | One-dimensional                       | Two-dimensional                              |\n",
    "| **Structure**      | Single column with index              | Multiple columns with row and column indexes |\n",
    "| **Indexing**       | Single index (rows)                   | Row index + Column labels                    |\n",
    "| **Data Type**      | Usually homogeneous (same type)       | Each column can have different data types    |\n",
    "| **Storage**        | One set of data (like a list)         | Multiple sets of data (like a table)         |\n",
    "| **Column Support** | Does **not** support multiple columns | Supports **multiple** columns                |\n",
    "| **Example**        | `pd.Series([10, 20, 30])`             | `pd.DataFrame({'A': [1, 2], 'B': [3, 4]})`   |\n",
    "| **Use Case**       | Store a single feature/column         | Store entire dataset or table                |\n",
    "| **Analogy**        | Like a single column in Excel         | Like a full Excel sheet                      |\n"
   ]
  }
 ],
 "metadata": {
  "kernelspec": {
   "display_name": "env",
   "language": "python",
   "name": "python3"
  },
  "language_info": {
   "codemirror_mode": {
    "name": "ipython",
    "version": 3
   },
   "file_extension": ".py",
   "mimetype": "text/x-python",
   "name": "python",
   "nbconvert_exporter": "python",
   "pygments_lexer": "ipython3",
   "version": "3.13.3"
  }
 },
 "nbformat": 4,
 "nbformat_minor": 2
}
