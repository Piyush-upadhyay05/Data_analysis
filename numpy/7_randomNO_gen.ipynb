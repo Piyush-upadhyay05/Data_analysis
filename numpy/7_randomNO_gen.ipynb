{
 "cells": [
  {
   "cell_type": "markdown",
   "metadata": {},
   "source": [
    "# Pseudorandom Number Generation\n",
    "\n",
    "- Pseudorandom numbers are not truly random. Instead, they are deterministically generated using mathematical formulas or algorithms.\n",
    "\n",
    "- The sequence appears random, but it is predictable if you know the starting point, which is called the seed."
   ]
  },
  {
   "cell_type": "markdown",
   "metadata": {},
   "source": [
    "## Why Use NumPy for Random Numbers?\n",
    "\n",
    "- NumPy provides a powerful random module that allows you to:\n",
    "\n",
    "- Generate random numbers from uniform, normal, and other distributions.\n",
    "\n",
    "- Create random integers, floating point numbers, shuffled arrays, and more.\n",
    "\n",
    "- Control reproducibility with a seed value.\n",
    "\n"
   ]
  },
  {
   "cell_type": "markdown",
   "metadata": {},
   "source": []
  }
 ],
 "metadata": {
  "language_info": {
   "name": "python"
  }
 },
 "nbformat": 4,
 "nbformat_minor": 2
}
