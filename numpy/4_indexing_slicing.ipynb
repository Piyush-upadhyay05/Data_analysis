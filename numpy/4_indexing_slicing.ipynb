{
 "cells": [
  {
   "cell_type": "markdown",
   "metadata": {},
   "source": [
    "# Indexing and slicing \n",
    "\n",
    "- Indexing allows you to access a single element of the array.\n",
    "\n",
    "- Slicing allows you to access a range or subset of elements.\n",
    "\n",
    "- Works similarly to Python lists but is much more powerful in NumPy (especially for multidimensional arrays).\n",
    "\n",
    "- example "
   ]
  },
  {
   "cell_type": "code",
   "execution_count": 12,
   "metadata": {},
   "outputs": [
    {
     "name": "stdout",
     "output_type": "stream",
     "text": [
      "[0 1 2 3 4 5 6 7 8 9]\n",
      "index element of the given index  5\n",
      "[5 6 7]\n",
      "[ 0  1  2  3  4 12 12 12  8  9]\n",
      "[12 12 12]\n",
      "[     0      1      2      3      4     12 123454     12      8      9]\n",
      "[     0      1      2      3      4     12 123454     12      8      9]\n"
     ]
    }
   ],
   "source": [
    "import numpy as np \n",
    "arr = np.arange(10)\n",
    "print(arr)\n",
    "print(\"index element of the given index \" ,arr[5])\n",
    "print(arr[5:8])\n",
    "arr[5:8] = 12\n",
    "print(arr)\n",
    "# An important first distinction from Python’s built-in lists is that\n",
    "# array slices are views on the original array. This means that the data\n",
    "# is not copied, and any modifications to the view will be reflected in\n",
    "# the source array\n",
    "\n",
    "arr_slice = arr[5:8]\n",
    "print(arr_slice)\n",
    "arr_slice[1] = 123454\n",
    "print(arr)\n",
    "print(arr[:])"
   ]
  },
  {
   "cell_type": "markdown",
   "metadata": {},
   "source": [
    "## 1D array\n"
   ]
  },
  {
   "cell_type": "markdown",
   "metadata": {},
   "source": [
    "- indexing "
   ]
  },
  {
   "cell_type": "code",
   "execution_count": 14,
   "metadata": {},
   "outputs": [
    {
     "name": "stdout",
     "output_type": "stream",
     "text": [
      "10\n",
      "50\n"
     ]
    }
   ],
   "source": [
    "import numpy as np\n",
    "\n",
    "a = np.array([10, 20, 30, 40, 50])\n",
    "print(a[0])     # 10\n",
    "print(a[-1])    # 50 (last element)\n",
    "# Works like Python lists.\n",
    "\n",
    "# Indexing starts from 0.\n",
    "\n",
    "# Negative indices access from the end.\n"
   ]
  },
  {
   "cell_type": "markdown",
   "metadata": {},
   "source": [
    "- slicing\n",
    "  \n",
    "  - syntax\n",
    "    - ``` [start:stop:step] ```\n",
    "    - Start: inclusive\n",
    "    - Stop: exclusive\n",
    "    - Step: how many to skip "
   ]
  },
  {
   "cell_type": "code",
   "execution_count": null,
   "metadata": {},
   "outputs": [
    {
     "name": "stdout",
     "output_type": "stream",
     "text": [
      "[20 30 40]\n",
      "[10 20 30]\n",
      "[10 30 50]\n"
     ]
    }
   ],
   "source": [
    "a = np.array([10, 20, 30, 40, 50])\n",
    "\n",
    "print(a[1:4])     \n",
    "print(a[:3])      \n",
    "print(a[::2])    \n"
   ]
  },
  {
   "cell_type": "markdown",
   "metadata": {},
   "source": [
    "## 2D array"
   ]
  },
  {
   "cell_type": "markdown",
   "metadata": {},
   "source": [
    "- indexing and slicing in 2D array"
   ]
  },
  {
   "cell_type": "code",
   "execution_count": null,
   "metadata": {},
   "outputs": [
    {
     "name": "stdout",
     "output_type": "stream",
     "text": [
      "2\n",
      "9\n",
      "[4 5 6]\n",
      "[2 5 8]\n",
      "[[2 3]\n",
      " [5 6]]\n"
     ]
    }
   ],
   "source": [
    "b = np.array([[1, 2, 3], [4, 5, 6], [7, 8, 9]])\n",
    "\n",
    "# Single element access\n",
    "print(b[0, 1])     # 2 (row 0, column 1)\n",
    "print(b[2][2])     # 9 (same thing, different style)\n",
    "\n",
    "# Row access\n",
    "print(b[1])        # [4 5 6]\n",
    "\n",
    "# Column access\n",
    "print(b[:, 1])     # [2 5 8] (all rows, column 1)\n",
    "\n",
    "# Sub-matrix\n",
    "print(b[0:2, 1:3])\n",
    "                   \n"
   ]
  },
  {
   "cell_type": "markdown",
   "metadata": {},
   "source": [
    "  - row access and column access in ndarray"
   ]
  },
  {
   "cell_type": "markdown",
   "metadata": {},
   "source": [
    "1. row access\n",
    "  \n",
    "  - ```a[row index] ```"
   ]
  },
  {
   "cell_type": "code",
   "execution_count": null,
   "metadata": {},
   "outputs": [
    {
     "name": "stdout",
     "output_type": "stream",
     "text": [
      "[7 8 9]\n"
     ]
    }
   ],
   "source": [
    "# access a single row\n",
    "import numpy as np\n",
    "\n",
    "a = np.array([\n",
    "    [1, 2, 3],    # Row 0\n",
    "    [4, 5, 6],    # Row 1\n",
    "    [7, 8, 9]     # Row 2\n",
    "    ])\n",
    "print(a[2])\n",
    "\n"
   ]
  },
  {
   "cell_type": "code",
   "execution_count": 23,
   "metadata": {},
   "outputs": [
    {
     "name": "stdout",
     "output_type": "stream",
     "text": [
      "[[1 2 3]\n",
      " [4 5 6]]\n",
      "[[1 2 3]]\n"
     ]
    }
   ],
   "source": [
    "# access a multiple row \n",
    "import numpy as np\n",
    "\n",
    "a = np.array([\n",
    "    [1, 2, 3],    # Row 0\n",
    "    [4, 5, 6],    # Row 1\n",
    "    [7, 8, 9]     # Row 2\n",
    "])\n",
    "print(a[0:2])\n",
    "print(a[:-2])"
   ]
  },
  {
   "cell_type": "code",
   "execution_count": 24,
   "metadata": {},
   "outputs": [
    {
     "name": "stdout",
     "output_type": "stream",
     "text": [
      "[[7 8 9]\n",
      " [4 5 6]]\n"
     ]
    }
   ],
   "source": [
    "# fancy row access \n",
    "import numpy as np\n",
    "\n",
    "a = np.array([\n",
    "    [1, 2, 3],    # Row 0\n",
    "    [4, 5, 6],    # Row 1\n",
    "    [7, 8, 9]     # Row 2\n",
    "])\n",
    "print(a[[2,1]])"
   ]
  },
  {
   "cell_type": "markdown",
   "metadata": {},
   "source": [
    "2. column access \n",
    "   - ```a[:,column index] ```"
   ]
  },
  {
   "cell_type": "code",
   "execution_count": 25,
   "metadata": {},
   "outputs": [
    {
     "name": "stdout",
     "output_type": "stream",
     "text": [
      "[1 4 7]\n",
      "[2 5 8]\n",
      "[[1 3]\n",
      " [4 6]\n",
      " [7 9]]\n"
     ]
    }
   ],
   "source": [
    "import numpy as np\n",
    "\n",
    "a = np.array([\n",
    "    [1, 2, 3],    # Row 0\n",
    "    [4, 5, 6],    # Row 1\n",
    "    [7, 8, 9]     # Row 2\n",
    "])\n",
    "# access single column\n",
    "print(a[:, 0])  # First column → [1 4 7]\n",
    "print(a[:, 1])  # Second column → [2 5 8]\n",
    "# access multiple column\n",
    "print(a[:, [0, 2]])  # First and third columns"
   ]
  },
  {
   "cell_type": "markdown",
   "metadata": {},
   "source": [
    "3. slicing both rows and column\n",
    "   - ```a[row_start:row_stop, col_start:col_stop] ```"
   ]
  },
  {
   "cell_type": "markdown",
   "metadata": {},
   "source": [
    "2 x 2"
   ]
  },
  {
   "cell_type": "code",
   "execution_count": null,
   "metadata": {},
   "outputs": [
    {
     "name": "stdout",
     "output_type": "stream",
     "text": [
      "[[1 2]\n",
      " [4 5]]\n",
      "[[5]]\n"
     ]
    }
   ],
   "source": [
    "import numpy as np\n",
    "\n",
    "a = np.array([\n",
    "    [1, 2, 3],    # Row 0\n",
    "    [4, 5, 6],    # Row 1\n",
    "    [7, 8, 9]     # Row 2\n",
    "])\n",
    "\n",
    "print(a[0:2 , 0:2])\n"
   ]
  },
  {
   "cell_type": "markdown",
   "metadata": {},
   "source": [
    "2 x 2 center element "
   ]
  },
  {
   "cell_type": "code",
   "execution_count": 32,
   "metadata": {},
   "outputs": [
    {
     "name": "stdout",
     "output_type": "stream",
     "text": [
      "[[ 60  70]\n",
      " [100 110]]\n",
      "[[110 120]\n",
      " [150 160]]\n"
     ]
    }
   ],
   "source": [
    "import numpy as np\n",
    "\n",
    "a = np.array([\n",
    "    [10, 20, 30, 40],   # Row 0\n",
    "    [50, 60, 70, 80],   # Row 1\n",
    "    [90, 100, 110, 120],# Row 2\n",
    "    [130, 140, 150, 160]# Row 3\n",
    "])\n",
    "print(a[1:3 , 1:3])\n",
    "print(a[2:4 , 2:4])"
   ]
  },
  {
   "cell_type": "markdown",
   "metadata": {},
   "source": [
    "Select last 3 columns of the first 2 rows"
   ]
  },
  {
   "cell_type": "code",
   "execution_count": 33,
   "metadata": {},
   "outputs": [
    {
     "name": "stdout",
     "output_type": "stream",
     "text": [
      "[[20 30 40]\n",
      " [60 70 80]]\n"
     ]
    }
   ],
   "source": [
    "import numpy as np\n",
    "\n",
    "a = np.array([\n",
    "    [10, 20, 30, 40],   # Row 0\n",
    "    [50, 60, 70, 80],   # Row 1\n",
    "    [90, 100, 110, 120],# Row 2\n",
    "    [130, 140, 150, 160]# Row 3\n",
    "])\n",
    "print(a[0:2 , 1:4])"
   ]
  },
  {
   "cell_type": "markdown",
   "metadata": {},
   "source": [
    "Select every row but only first and last column\n",
    "\n"
   ]
  },
  {
   "cell_type": "code",
   "execution_count": 44,
   "metadata": {},
   "outputs": [
    {
     "name": "stdout",
     "output_type": "stream",
     "text": [
      "[[ 10  40]\n",
      " [ 50  80]\n",
      " [ 90 120]\n",
      " [130 160]]\n",
      "[[ 10  40]\n",
      " [ 50  80]\n",
      " [ 90 120]\n",
      " [130 160]]\n"
     ]
    }
   ],
   "source": [
    "import numpy as np\n",
    "\n",
    "a = np.array([\n",
    "    [10, 20, 30, 40],   # Row 0\n",
    "    [50, 60, 70, 80],   # Row 1\n",
    "    [90, 100, 110, 120],# Row 2\n",
    "    [130, 140, 150, 160]# Row 3\n",
    "])\n",
    "print(a[0:4 , [0,3]]) # either only : print all the rows\n",
    "print(a[:,[0,-1]])"
   ]
  },
  {
   "cell_type": "markdown",
   "metadata": {},
   "source": [
    "Select every 2nd row and 2nd column using steps\n"
   ]
  },
  {
   "cell_type": "code",
   "execution_count": 2,
   "metadata": {},
   "outputs": [
    {
     "name": "stdout",
     "output_type": "stream",
     "text": [
      "[[ 1  3]\n",
      " [ 9 11]]\n"
     ]
    }
   ],
   "source": [
    "import numpy as np\n",
    "\n",
    "a = np.array([[ 1,  2,  3,  4],\n",
    "                [ 5,  6,  7,  8],\n",
    "                [ 9, 10, 11, 12],\n",
    "                [13, 14, 15, 16]])\n",
    "print(a[::2 , ::2])"
   ]
  },
  {
   "cell_type": "markdown",
   "metadata": {},
   "source": [
    "Pick rows [0, 2] and then from those pick columns 1 & 3:\n"
   ]
  },
  {
   "cell_type": "code",
   "execution_count": null,
   "metadata": {},
   "outputs": [
    {
     "data": {
      "text/plain": [
       "array([[ 2,  4],\n",
       "       [10, 12]])"
      ]
     },
     "execution_count": 3,
     "metadata": {},
     "output_type": "execute_result"
    }
   ],
   "source": [
    "arr[np.ix_([0, 2], [1, 3])]"
   ]
  },
  {
   "cell_type": "markdown",
   "metadata": {},
   "source": [
    "Pick a checkerboard pattern of size 4×4 (even rows & odd columns only):"
   ]
  },
  {
   "cell_type": "code",
   "execution_count": 6,
   "metadata": {},
   "outputs": [
    {
     "name": "stdout",
     "output_type": "stream",
     "text": [
      "[[ 6  7]\n",
      " [10 11]]\n"
     ]
    }
   ],
   "source": [
    "import numpy as np\n",
    "\n",
    "a = np.array([[ 1,  2,  3,  4],\n",
    "                [ 5,  6,  7,  8],\n",
    "                [ 9, 10, 11, 12],\n",
    "                [13, 14, 15, 16]])\n",
    "print(a[1:3 , 1:3])"
   ]
  },
  {
   "cell_type": "markdown",
   "metadata": {},
   "source": [
    "### refrennce table\n",
    "| What you want                                 | NumPy syntax               | Result/Explanation                                             |\n",
    "|----------------------------------------------|----------------------------|----------------------------------------------------------------|\n",
    "| Single row, e.g. row 2                        | `arr[2]`                   | 1D array of shape (4,) → `[90, 100, 999, 120]`                 |\n",
    "| Single column, e.g. col 0                     | `arr[:, 0]`                | 1D array → `[10, 0, 90, 130]`                                  |\n",
    "| Slice of rows 1–3                             | `arr[1:4]`                 | rows 1, 2, 3 → shape (3×4)                                     |\n",
    "| Slice of cols 0–2                             | `arr[:, 0:3]`              | cols 0, 1, 2 → shape (4×3)                                     |\n",
    "| Every other row                               | `arr[::2]`                 | rows 0, 2 → shape (2×4)                                        |\n",
    "| Every other column                            | `arr[:, ::2]`              | cols 0, 2 → shape (4×2)                                        |\n",
    "| Last row                                      | `arr[-1]`                  | same as `arr[3]`                                               |\n",
    "| Last column                                   | `arr[:, -1]`               | same as `arr[:, 3]`                                            |\n",
    "| Fancy pick rows 2, 0, 3                       | `arr[[2, 0, 3]]`           | Reordered array of shape (3×4)                                |\n",
    "| Fancy pick cols 3, 1                          | `arr[:, [3, 1]]`           | shape (4×2), columns 3 & 1 in that order                      |\n",
    "| Corresponding elements (0,1), (2,3)           | `arr[[0,2],[1,3]]`         | 1D array → `[arr[0,1], arr[2,3]]`                             |\n",
    "| Submatrix rows 1–2, cols 2–3                  | `arr[1:3, 2:4]`            | shape (2×2) → picks those 4 elements                          |\n",
    "| Boolean select rows where col 0 > 50          | `arr[arr[:,0]>50]`         | shape (2×4) → rows 2 & 3                                      |\n",
    "| Boolean select columns where row 3 < 160      | `arr[:, arr[3,:]<160]`     | shape (4×3) → cols 0, 1, 2                                    |\n"
   ]
  }
 ],
 "metadata": {
  "kernelspec": {
   "display_name": "env",
   "language": "python",
   "name": "python3"
  },
  "language_info": {
   "codemirror_mode": {
    "name": "ipython",
    "version": 3
   },
   "file_extension": ".py",
   "mimetype": "text/x-python",
   "name": "python",
   "nbconvert_exporter": "python",
   "pygments_lexer": "ipython3",
   "version": "3.13.3"
  }
 },
 "nbformat": 4,
 "nbformat_minor": 2
}
