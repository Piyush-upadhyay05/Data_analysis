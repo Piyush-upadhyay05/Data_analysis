{
 "cells": [
  {
   "cell_type": "markdown",
   "metadata": {},
   "source": [
    "# Indexing and slicing \n",
    "\n",
    "- Indexing allows you to access a single element of the array.\n",
    "\n",
    "- Slicing allows you to access a range or subset of elements.\n",
    "\n",
    "- Works similarly to Python lists but is much more powerful in NumPy (especially for multidimensional arrays).\n",
    "\n",
    "- example "
   ]
  },
  {
   "cell_type": "code",
   "execution_count": 12,
   "metadata": {},
   "outputs": [
    {
     "name": "stdout",
     "output_type": "stream",
     "text": [
      "[0 1 2 3 4 5 6 7 8 9]\n",
      "index element of the given index  5\n",
      "[5 6 7]\n",
      "[ 0  1  2  3  4 12 12 12  8  9]\n",
      "[12 12 12]\n",
      "[     0      1      2      3      4     12 123454     12      8      9]\n",
      "[     0      1      2      3      4     12 123454     12      8      9]\n"
     ]
    }
   ],
   "source": [
    "import numpy as np \n",
    "arr = np.arange(10)\n",
    "print(arr)\n",
    "print(\"index element of the given index \" ,arr[5])\n",
    "print(arr[5:8])\n",
    "arr[5:8] = 12\n",
    "print(arr)\n",
    "# An important first distinction from Python’s built-in lists is that\n",
    "# array slices are views on the original array. This means that the data\n",
    "# is not copied, and any modifications to the view will be reflected in\n",
    "# the source array\n",
    "\n",
    "arr_slice = arr[5:8]\n",
    "print(arr_slice)\n",
    "arr_slice[1] = 123454\n",
    "print(arr)\n",
    "print(arr[:])"
   ]
  },
  {
   "cell_type": "markdown",
   "metadata": {},
   "source": [
    "## 1D array\n"
   ]
  },
  {
   "cell_type": "markdown",
   "metadata": {},
   "source": [
    "- indexing "
   ]
  },
  {
   "cell_type": "code",
   "execution_count": 14,
   "metadata": {},
   "outputs": [
    {
     "name": "stdout",
     "output_type": "stream",
     "text": [
      "10\n",
      "50\n"
     ]
    }
   ],
   "source": [
    "import numpy as np\n",
    "\n",
    "a = np.array([10, 20, 30, 40, 50])\n",
    "print(a[0])     # 10\n",
    "print(a[-1])    # 50 (last element)\n",
    "# Works like Python lists.\n",
    "\n",
    "# Indexing starts from 0.\n",
    "\n",
    "# Negative indices access from the end.\n"
   ]
  },
  {
   "cell_type": "markdown",
   "metadata": {},
   "source": [
    "- slicing\n",
    "  \n",
    "  - syntax\n",
    "    - ``` [start:stop:step] ```\n",
    "    - Start: inclusive\n",
    "    - Stop: exclusive\n",
    "    - Step: how many to skip "
   ]
  },
  {
   "cell_type": "code",
   "execution_count": null,
   "metadata": {},
   "outputs": [
    {
     "name": "stdout",
     "output_type": "stream",
     "text": [
      "[20 30 40]\n",
      "[10 20 30]\n",
      "[10 30 50]\n"
     ]
    }
   ],
   "source": [
    "a = np.array([10, 20, 30, 40, 50])\n",
    "\n",
    "print(a[1:4])     \n",
    "print(a[:3])      \n",
    "print(a[::2])    \n"
   ]
  },
  {
   "cell_type": "markdown",
   "metadata": {},
   "source": [
    "## 2D array"
   ]
  },
  {
   "cell_type": "markdown",
   "metadata": {},
   "source": [
    "- indexing and slicing in 2D array"
   ]
  },
  {
   "cell_type": "code",
   "execution_count": null,
   "metadata": {},
   "outputs": [
    {
     "name": "stdout",
     "output_type": "stream",
     "text": [
      "2\n",
      "9\n",
      "[4 5 6]\n",
      "[2 5 8]\n",
      "[[2 3]\n",
      " [5 6]]\n"
     ]
    }
   ],
   "source": [
    "b = np.array([[1, 2, 3], [4, 5, 6], [7, 8, 9]])\n",
    "\n",
    "# Single element access\n",
    "print(b[0, 1])     # 2 (row 0, column 1)\n",
    "print(b[2][2])     # 9 (same thing, different style)\n",
    "\n",
    "# Row access\n",
    "print(b[1])        # [4 5 6]\n",
    "\n",
    "# Column access\n",
    "print(b[:, 1])     # [2 5 8] (all rows, column 1)\n",
    "\n",
    "# Sub-matrix\n",
    "print(b[0:2, 1:3])\n",
    "                   \n"
   ]
  },
  {
   "cell_type": "markdown",
   "metadata": {},
   "source": [
    "  - row access and column access in ndarray"
   ]
  },
  {
   "cell_type": "markdown",
   "metadata": {},
   "source": [
    "1. row access\n",
    "  \n",
    "  - ```a[row index] ```"
   ]
  },
  {
   "cell_type": "code",
   "execution_count": null,
   "metadata": {},
   "outputs": [
    {
     "name": "stdout",
     "output_type": "stream",
     "text": [
      "[7 8 9]\n"
     ]
    }
   ],
   "source": [
    "# access a single row\n",
    "import numpy as np\n",
    "\n",
    "a = np.array([\n",
    "    [1, 2, 3],    # Row 0\n",
    "    [4, 5, 6],    # Row 1\n",
    "    [7, 8, 9]     # Row 2\n",
    "    ])\n",
    "print(a[2])\n",
    "\n"
   ]
  },
  {
   "cell_type": "code",
   "execution_count": 23,
   "metadata": {},
   "outputs": [
    {
     "name": "stdout",
     "output_type": "stream",
     "text": [
      "[[1 2 3]\n",
      " [4 5 6]]\n",
      "[[1 2 3]]\n"
     ]
    }
   ],
   "source": [
    "# access a multiple row \n",
    "import numpy as np\n",
    "\n",
    "a = np.array([\n",
    "    [1, 2, 3],    # Row 0\n",
    "    [4, 5, 6],    # Row 1\n",
    "    [7, 8, 9]     # Row 2\n",
    "])\n",
    "print(a[0:2])\n",
    "print(a[:-2])"
   ]
  },
  {
   "cell_type": "code",
   "execution_count": 24,
   "metadata": {},
   "outputs": [
    {
     "name": "stdout",
     "output_type": "stream",
     "text": [
      "[[7 8 9]\n",
      " [4 5 6]]\n"
     ]
    }
   ],
   "source": [
    "# fancy row access \n",
    "import numpy as np\n",
    "\n",
    "a = np.array([\n",
    "    [1, 2, 3],    # Row 0\n",
    "    [4, 5, 6],    # Row 1\n",
    "    [7, 8, 9]     # Row 2\n",
    "])\n",
    "print(a[[2,1]])"
   ]
  },
  {
   "cell_type": "markdown",
   "metadata": {},
   "source": [
    "2. column access \n",
    "   - ```a[:,column index] ```"
   ]
  },
  {
   "cell_type": "code",
   "execution_count": 25,
   "metadata": {},
   "outputs": [
    {
     "name": "stdout",
     "output_type": "stream",
     "text": [
      "[1 4 7]\n",
      "[2 5 8]\n",
      "[[1 3]\n",
      " [4 6]\n",
      " [7 9]]\n"
     ]
    }
   ],
   "source": [
    "import numpy as np\n",
    "\n",
    "a = np.array([\n",
    "    [1, 2, 3],    # Row 0\n",
    "    [4, 5, 6],    # Row 1\n",
    "    [7, 8, 9]     # Row 2\n",
    "])\n",
    "# access single column\n",
    "print(a[:, 0])  # First column → [1 4 7]\n",
    "print(a[:, 1])  # Second column → [2 5 8]\n",
    "# access multiple column\n",
    "print(a[:, [0, 2]])  # First and third columns"
   ]
  },
  {
   "cell_type": "markdown",
   "metadata": {},
   "source": [
    "3. slicing both rows and column\n",
    "   - ```a[row_start:row_stop, col_start:col_stop] ```"
   ]
  },
  {
   "cell_type": "markdown",
   "metadata": {},
   "source": [
    "2 x 2"
   ]
  },
  {
   "cell_type": "code",
   "execution_count": null,
   "metadata": {},
   "outputs": [
    {
     "name": "stdout",
     "output_type": "stream",
     "text": [
      "[[1 2]\n",
      " [4 5]]\n",
      "[[5]]\n"
     ]
    }
   ],
   "source": [
    "import numpy as np\n",
    "\n",
    "a = np.array([\n",
    "    [1, 2, 3],    # Row 0\n",
    "    [4, 5, 6],    # Row 1\n",
    "    [7, 8, 9]     # Row 2\n",
    "])\n",
    "\n",
    "print(a[0:2 , 0:2])\n"
   ]
  },
  {
   "cell_type": "markdown",
   "metadata": {},
   "source": [
    "2 x 2 center element "
   ]
  },
  {
   "cell_type": "code",
   "execution_count": 32,
   "metadata": {},
   "outputs": [
    {
     "name": "stdout",
     "output_type": "stream",
     "text": [
      "[[ 60  70]\n",
      " [100 110]]\n",
      "[[110 120]\n",
      " [150 160]]\n"
     ]
    }
   ],
   "source": [
    "import numpy as np\n",
    "\n",
    "a = np.array([\n",
    "    [10, 20, 30, 40],   # Row 0\n",
    "    [50, 60, 70, 80],   # Row 1\n",
    "    [90, 100, 110, 120],# Row 2\n",
    "    [130, 140, 150, 160]# Row 3\n",
    "])\n",
    "print(a[1:3 , 1:3])\n",
    "print(a[2:4 , 2:4])"
   ]
  },
  {
   "cell_type": "markdown",
   "metadata": {},
   "source": [
    "Select last 3 columns of the first 2 rows"
   ]
  },
  {
   "cell_type": "code",
   "execution_count": 33,
   "metadata": {},
   "outputs": [
    {
     "name": "stdout",
     "output_type": "stream",
     "text": [
      "[[20 30 40]\n",
      " [60 70 80]]\n"
     ]
    }
   ],
   "source": [
    "import numpy as np\n",
    "\n",
    "a = np.array([\n",
    "    [10, 20, 30, 40],   # Row 0\n",
    "    [50, 60, 70, 80],   # Row 1\n",
    "    [90, 100, 110, 120],# Row 2\n",
    "    [130, 140, 150, 160]# Row 3\n",
    "])\n",
    "print(a[0:2 , 1:4])"
   ]
  },
  {
   "cell_type": "markdown",
   "metadata": {},
   "source": [
    "Select every row but only first and last column\n",
    "\n"
   ]
  },
  {
   "cell_type": "code",
   "execution_count": 44,
   "metadata": {},
   "outputs": [
    {
     "name": "stdout",
     "output_type": "stream",
     "text": [
      "[[ 10  40]\n",
      " [ 50  80]\n",
      " [ 90 120]\n",
      " [130 160]]\n",
      "[[ 10  40]\n",
      " [ 50  80]\n",
      " [ 90 120]\n",
      " [130 160]]\n"
     ]
    }
   ],
   "source": [
    "import numpy as np\n",
    "\n",
    "a = np.array([\n",
    "    [10, 20, 30, 40],   # Row 0\n",
    "    [50, 60, 70, 80],   # Row 1\n",
    "    [90, 100, 110, 120],# Row 2\n",
    "    [130, 140, 150, 160]# Row 3\n",
    "])\n",
    "print(a[0:4 , [0,3]]) # either only : print all the rows\n",
    "print(a[:,[0,-1]])"
   ]
  },
  {
   "cell_type": "markdown",
   "metadata": {},
   "source": [
    "Select every 2nd row and 2nd column using steps\n"
   ]
  },
  {
   "cell_type": "code",
   "execution_count": 2,
   "metadata": {},
   "outputs": [
    {
     "name": "stdout",
     "output_type": "stream",
     "text": [
      "[[ 1  3]\n",
      " [ 9 11]]\n"
     ]
    }
   ],
   "source": [
    "import numpy as np\n",
    "\n",
    "a = np.array([[ 1,  2,  3,  4],\n",
    "                [ 5,  6,  7,  8],\n",
    "                [ 9, 10, 11, 12],\n",
    "                [13, 14, 15, 16]])\n",
    "print(a[::2 , ::2])"
   ]
  }
 ],
 "metadata": {
  "kernelspec": {
   "display_name": "env",
   "language": "python",
   "name": "python3"
  },
  "language_info": {
   "codemirror_mode": {
    "name": "ipython",
    "version": 3
   },
   "file_extension": ".py",
   "mimetype": "text/x-python",
   "name": "python",
   "nbconvert_exporter": "python",
   "pygments_lexer": "ipython3",
   "version": "3.13.3"
  }
 },
 "nbformat": 4,
 "nbformat_minor": 2
}
