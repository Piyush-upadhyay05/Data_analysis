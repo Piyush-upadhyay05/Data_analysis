{
 "cells": [
  {
   "cell_type": "markdown",
   "metadata": {},
   "source": [
    "## solving linear equation "
   ]
  },
  {
   "cell_type": "markdown",
   "metadata": {},
   "source": [
    "### What is a Linear Equation System?\n",
    "\n",
    "A system of linear equations can be written in matrix form:\n",
    " - ```A ⋅x = b ```\n",
    "- Where:\n",
    "  - A is the coefficient matrix (shape: n xn)\n",
    "  - x is unknown vector (shape :n x 1)\n",
    "  - b is the result of the output vector \n",
    "  - the goal is to find x \n"
   ]
  },
  {
   "cell_type": "markdown",
   "metadata": {},
   "source": [
    "numpy function \n",
    "\n",
    " - ```np.linalg.solve(A, b)```\n",
    " - Solves  A . x = b for x\n",
    " - Only works if A is a square matrix and non-singular (det ≠ 0)\n",
    "\n"
   ]
  },
  {
   "cell_type": "markdown",
   "metadata": {},
   "source": [
    "- example :\n",
    "\n",
    "solve this system:\n",
    "\n",
    "-  2x +3y = 8 ,\n",
    "   3x +4y = 11\n",
    "\n",
    "- convert it to the matrix form \n",
    "Matrix A:\n",
    "\n",
    "| 2 | 3 |\n",
    "|---|---|\n",
    "| 3 | 4 |\n",
    "\n",
    "Vector b:\n",
    "\n",
    "| 8  |\n",
    "|----|\n",
    "| 11 |\n",
    "\n",
    "\n",
    "\n"
   ]
  },
  {
   "cell_type": "code",
   "execution_count": 3,
   "metadata": {},
   "outputs": [
    {
     "name": "stdout",
     "output_type": "stream",
     "text": [
      "Solution (x, y): [1. 2.]\n"
     ]
    }
   ],
   "source": [
    "\n",
    "import numpy as np\n",
    "\n",
    "A = np.array([[2, 3],\n",
    "              [3, 4]])\n",
    "\n",
    "b = np.array([8, 11])\n",
    "\n",
    "x = np.linalg.solve(A, b)\n",
    "print(\"Solution (x, y):\", x)\n",
    "\n"
   ]
  },
  {
   "cell_type": "markdown",
   "metadata": {},
   "source": [
    "- **A must be invertible**\n",
    "\n",
    "- If `np.linalg.det(A) == 0`, the matrix is **singular** and the equation has either **no solution** or **infinite solutions**.\n",
    "\n",
    "- In that case, `np.linalg.solve(A, b)` will raise a `LinAlgError`.\n"
   ]
  },
  {
   "cell_type": "code",
   "execution_count": 4,
   "metadata": {},
   "outputs": [
    {
     "name": "stdout",
     "output_type": "stream",
     "text": [
      "Solution x: [13. -7.  5.]\n"
     ]
    }
   ],
   "source": [
    "A = np.array([[1, 2, 3],\n",
    "              [0, 1, 4],\n",
    "              [5, 6, 0]])\n",
    "\n",
    "b = np.array([14, 13, 23])\n",
    "\n",
    "x = np.linalg.solve(A, b)\n",
    "print(\"Solution x:\", x)\n"
   ]
  }
 ],
 "metadata": {
  "kernelspec": {
   "display_name": "env",
   "language": "python",
   "name": "python3"
  },
  "language_info": {
   "codemirror_mode": {
    "name": "ipython",
    "version": 3
   },
   "file_extension": ".py",
   "mimetype": "text/x-python",
   "name": "python",
   "nbconvert_exporter": "python",
   "pygments_lexer": "ipython3",
   "version": "3.13.3"
  }
 },
 "nbformat": 4,
 "nbformat_minor": 2
}
