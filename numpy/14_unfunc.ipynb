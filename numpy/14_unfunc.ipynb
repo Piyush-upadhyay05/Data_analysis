{
 "cells": [
  {
   "cell_type": "markdown",
   "metadata": {},
   "source": [
    "## universal function\n",
    "\n",
    "- a function that perform element-wise operation on data in ndarray \n",
    "\n",
    "- A Universal Function (ufunc) is a vectorized wrapper for a function that operates element-wise on ndarray objects.\n",
    "\n",
    "- They're fast, efficient, and broadcast-compatible\n",
    "   \n",
    "   - Broadcast-compatible = Broadcast-compatible means that two arrays of different shapes can still be used together in element-wise operations by stretching the smaller array automatically without copying data. This is called broadcasting.  "
   ]
  },
  {
   "cell_type": "markdown",
   "metadata": {},
   "source": [
    "### Key Characteristics of ufuncs:\n",
    "\n",
    "- Operate element-wise on arrays\n",
    "\n",
    "- Broadcasting supported\n",
    "\n",
    "- Type casting is handled\n",
    "\n",
    "- Can take multiple input/output arrays\n",
    "\n",
    "- Much faster than Python loops"
   ]
  },
  {
   "cell_type": "markdown",
   "metadata": {},
   "source": [
    "##  categories of universal function \n",
    "\n"
   ]
  },
  {
   "cell_type": "markdown",
   "metadata": {},
   "source": [
    "### 1. Arthimatical functions \n",
    "\n",
    "- these perform basic mathematical operations\n",
    "- like :\n",
    "  - addition\n",
    "  - substraction\n",
    "  - multiplication\n",
    "  - divide \n",
    "  - power \n",
    "  - mod  "
   ]
  },
  {
   "cell_type": "markdown",
   "metadata": {},
   "source": [
    "1. ```np.add(x,y)```\n",
    "\n",
    "- add corresponding element of two different arrays "
   ]
  },
  {
   "cell_type": "code",
   "execution_count": 3,
   "metadata": {},
   "outputs": [
    {
     "name": "stdout",
     "output_type": "stream",
     "text": [
      "[4 6]\n",
      "[[ 6  8]\n",
      " [10 12]]\n"
     ]
    }
   ],
   "source": [
    "# in 1d array\n",
    "import numpy as np\n",
    "result = np.add([1, 2], [3, 4])  # 1+3 , 2+4\n",
    "print(result) \n",
    "# in 2D array \n",
    "\n",
    "a = np.array([[1, 2], [3, 4]])\n",
    "b = np.array([[5, 6], [7, 8]])\n",
    "\n",
    "result = np.add(a, b)\n",
    "print(result)\n",
    "\n"
   ]
  },
  {
   "cell_type": "markdown",
   "metadata": {},
   "source": [
    "2. ```np.subtract(x,y)```\n"
   ]
  },
  {
   "cell_type": "code",
   "execution_count": null,
   "metadata": {},
   "outputs": [
    {
     "name": "stdout",
     "output_type": "stream",
     "text": [
      "[2 2]\n",
      "[[ 9 18]\n",
      " [27 36]]\n"
     ]
    }
   ],
   "source": [
    "# in 1D array \n",
    "result = np.subtract([3,4],[1,2])\n",
    "print(result)\n",
    "# in 2D array\n",
    "a = np.array([[10, 20], [30, 40]])\n",
    "b = np.array([[1, 2], [3, 4]])\n",
    "\n",
    "result = np.subtract(a, b)\n",
    "print(result)\n",
    "\n"
   ]
  },
  {
   "cell_type": "markdown",
   "metadata": {},
   "source": [
    "3. ```np.muliply(x,y)```"
   ]
  },
  {
   "cell_type": "code",
   "execution_count": null,
   "metadata": {},
   "outputs": [
    {
     "name": "stdout",
     "output_type": "stream",
     "text": [
      "[[ 10  40]\n",
      " [ 90 160]]\n"
     ]
    }
   ],
   "source": [
    "# in 2D array\n",
    "a = np.array([[10, 20], [30, 40]])\n",
    "b = np.array([[1, 2], [3, 4]])\n",
    "\n",
    "result = np.multiply(a, b)\n",
    "print(result)\n"
   ]
  },
  {
   "cell_type": "markdown",
   "metadata": {},
   "source": [
    "4. ```np.divide(x,y)```\n",
    "\n"
   ]
  },
  {
   "cell_type": "code",
   "execution_count": null,
   "metadata": {},
   "outputs": [],
   "source": [
    "a = np.array([[10, 20], [30, 40]])\n",
    "b = np.array([[1, 2], [3, 4]])\n",
    "\n",
    "result = np.divide(a, b)\n",
    "print(result)\n"
   ]
  },
  {
   "cell_type": "markdown",
   "metadata": {},
   "source": [
    "5. ```np.power(x,y)``` \n",
    "\n",
    "- exponentiation(x raised to the power y)\n",
    "- Raises each element in x to the power of corresponding element in y (or scalar)."
   ]
  },
  {
   "cell_type": "code",
   "execution_count": null,
   "metadata": {},
   "outputs": [
    {
     "name": "stdout",
     "output_type": "stream",
     "text": [
      "[4 9]\n"
     ]
    }
   ],
   "source": [
    "result = np.power([2, 3], 2)\n",
    "print(result)  \n",
    "\n"
   ]
  },
  {
   "cell_type": "code",
   "execution_count": 9,
   "metadata": {},
   "outputs": [
    {
     "name": "stdout",
     "output_type": "stream",
     "text": [
      "[[ 4  9]\n",
      " [16 25]]\n"
     ]
    }
   ],
   "source": [
    "a = np.array([[2, 3], [4, 5]])\n",
    "result = np.power(a, 2)\n",
    "print(result)\n"
   ]
  },
  {
   "cell_type": "code",
   "execution_count": 10,
   "metadata": {},
   "outputs": [
    {
     "name": "stdout",
     "output_type": "stream",
     "text": [
      "[[[ 4  9]\n",
      "  [16 25]]\n",
      "\n",
      " [[ 1  8]\n",
      "  [27 64]]]\n"
     ]
    }
   ],
   "source": [
    "# 3D array\n",
    "a = np.array([[[2, 3], [4, 5]], [[1, 2], [3, 4]]])\n",
    "b = np.array([[[2, 2], [2, 2]], [[3, 3], [3, 3]]])\n",
    "\n",
    "result = np.power(a, b)\n",
    "print(result)\n"
   ]
  },
  {
   "cell_type": "markdown",
   "metadata": {},
   "source": [
    "6. ```np.mod(x,y)```\n",
    "\n",
    "- modulus \n",
    "- Returns the remainder of division of x by y"
   ]
  },
  {
   "cell_type": "code",
   "execution_count": null,
   "metadata": {},
   "outputs": [],
   "source": [
    "# 2D array\n",
    "a = np.array([[10, 20], [30, 40]])\n",
    "b = np.array([[3, 4], [5, 6]])\n",
    "\n",
    "result = np.mod(a, b)\n",
    "print(result)\n"
   ]
  },
  {
   "cell_type": "code",
   "execution_count": null,
   "metadata": {},
   "outputs": [],
   "source": [
    "# 3D array\n",
    "a = np.array([[[10, 20], [30, 40]], [[15, 25], [35, 45]]])\n",
    "b = np.array([[[2, 3], [4, 5]], [[6, 7], [8, 9]]])\n",
    "\n",
    "result = np.mod(a, b)\n",
    "print(result)\n"
   ]
  },
  {
   "cell_type": "markdown",
   "metadata": {},
   "source": [
    "### 2. comparison function"
   ]
  },
  {
   "cell_type": "markdown",
   "metadata": {},
   "source": [
    "1. ```np.equal(x,y)``` \n",
    "\n",
    "- x==y\n",
    "- compare the element of two different array whether it is equal or not"
   ]
  },
  {
   "cell_type": "code",
   "execution_count": 11,
   "metadata": {},
   "outputs": [
    {
     "name": "stdout",
     "output_type": "stream",
     "text": [
      "[ True False]\n"
     ]
    }
   ],
   "source": [
    "import numpy as np\n",
    "\n",
    "a = np.array([1, 2])\n",
    "b = np.array([1, 3])\n",
    "\n",
    "result = np.equal(a, b)\n",
    "print(result)\n"
   ]
  },
  {
   "cell_type": "markdown",
   "metadata": {},
   "source": [
    "2. ```np.not_equal(x,y)```\n",
    "\n",
    "- x!=y\n",
    "-  Checks whether elements of x and y are not equal.\n",
    "\n"
   ]
  },
  {
   "cell_type": "code",
   "execution_count": 12,
   "metadata": {},
   "outputs": [
    {
     "name": "stdout",
     "output_type": "stream",
     "text": [
      "[False  True]\n"
     ]
    }
   ],
   "source": [
    "a = np.array([1, 2])\n",
    "b = np.array([1, 3])\n",
    "\n",
    "result = np.not_equal(a, b)\n",
    "print(result)"
   ]
  },
  {
   "cell_type": "markdown",
   "metadata": {},
   "source": [
    "3. ```np.greater(x,y)``` \n",
    "\n",
    "\n",
    "- x>y\n",
    "- Checks where elements in x are greater than y.\n",
    "\n"
   ]
  },
  {
   "cell_type": "code",
   "execution_count": null,
   "metadata": {},
   "outputs": [],
   "source": [
    "a = np.array([3, 2])\n",
    "b = np.array([2, 2])\n",
    "\n",
    "result = np.greater(a, b)\n",
    "print(result)\n"
   ]
  },
  {
   "cell_type": "markdown",
   "metadata": {},
   "source": [
    "4. ```np.greater_equal(x,y)```\n",
    "\n",
    "- x>=y\n",
    "- check the element in x is greater than or equal to y"
   ]
  },
  {
   "cell_type": "code",
   "execution_count": 13,
   "metadata": {},
   "outputs": [
    {
     "name": "stdout",
     "output_type": "stream",
     "text": [
      "[ True  True False]\n"
     ]
    }
   ],
   "source": [
    "a = np.array([3, 2, 1])\n",
    "b = np.array([2, 2, 3])\n",
    "\n",
    "result = np.greater_equal(a, b)\n",
    "print(result)\n"
   ]
  },
  {
   "cell_type": "markdown",
   "metadata": {},
   "source": [
    "5. ```np.less(x,y)```\n",
    "\n",
    "- x<y\n",
    "- Checks where elements in x are less than y."
   ]
  },
  {
   "cell_type": "code",
   "execution_count": 14,
   "metadata": {},
   "outputs": [
    {
     "name": "stdout",
     "output_type": "stream",
     "text": [
      "[ True False False]\n"
     ]
    }
   ],
   "source": [
    "a = np.array([1, 2, 3])\n",
    "b = np.array([2, 2, 2])\n",
    "\n",
    "result = np.less(a, b)\n",
    "print(result)\n"
   ]
  },
  {
   "cell_type": "markdown",
   "metadata": {},
   "source": [
    "6. ```np.less_equal(x,y)```\n",
    "\n",
    "- Checks where elements in x are less than or equal to y."
   ]
  },
  {
   "cell_type": "code",
   "execution_count": 15,
   "metadata": {},
   "outputs": [
    {
     "name": "stdout",
     "output_type": "stream",
     "text": [
      "[ True  True False]\n"
     ]
    }
   ],
   "source": [
    "a = np.array([1, 2, 3])\n",
    "b = np.array([2, 2, 2])\n",
    "\n",
    "result = np.less_equal(a, b)\n",
    "print(result)\n"
   ]
  },
  {
   "cell_type": "markdown",
   "metadata": {},
   "source": [
    "### 3. trigonometry function \n"
   ]
  },
  {
   "cell_type": "markdown",
   "metadata": {},
   "source": [
    "1. ```np.sin(array)``` \n",
    "\n",
    "- it is basically a (-Sinx)\n",
    "-  Computes the sine of each element in x (in radians)."
   ]
  },
  {
   "cell_type": "code",
   "execution_count": 16,
   "metadata": {},
   "outputs": [
    {
     "name": "stdout",
     "output_type": "stream",
     "text": [
      "[0.0000000e+00 1.0000000e+00 1.2246468e-16]\n"
     ]
    }
   ],
   "source": [
    "import numpy as np\n",
    "\n",
    "x = np.array([0, np.pi/2, np.pi]) # o is just 0 degree and np.pi/2 is also 90 degree in radian or np.pi is 180 degree but in radian \n",
    "result = np.sin(x)\n",
    "print(result)\n"
   ]
  },
  {
   "cell_type": "markdown",
   "metadata": {},
   "source": [
    "2. ```np.cos(array)```\n",
    "\n",
    "- it is basically a (-cosine)\n",
    "- Computes the cosine of each element in x (in radians).\n",
    "\n",
    "\n",
    "\n"
   ]
  },
  {
   "cell_type": "code",
   "execution_count": 17,
   "metadata": {},
   "outputs": [
    {
     "name": "stdout",
     "output_type": "stream",
     "text": [
      "[ 1.000000e+00  6.123234e-17 -1.000000e+00]\n"
     ]
    }
   ],
   "source": [
    "x = np.array([0, np.pi/2, np.pi])\n",
    "result = np.cos(x)\n",
    "print(result)\n"
   ]
  },
  {
   "cell_type": "markdown",
   "metadata": {},
   "source": [
    "3. ```np.tangent(array)\n",
    "\n",
    "- it is basically a (-tangent )"
   ]
  },
  {
   "cell_type": "code",
   "execution_count": 18,
   "metadata": {},
   "outputs": [
    {
     "name": "stdout",
     "output_type": "stream",
     "text": [
      "[0.00000000e+00 1.00000000e+00 1.63312394e+16]\n"
     ]
    }
   ],
   "source": [
    "x = np.array([0, np.pi/4, np.pi/2])\n",
    "result = np.tan(x)\n",
    "print(result)\n"
   ]
  },
  {
   "cell_type": "markdown",
   "metadata": {},
   "source": [
    "4. ```arcsin(array)```\n",
    "\n",
    "- it is reverse of sin\n",
    "- it compute arcsin(inverse of sin ) of x\n",
    "- Input Range: x ∈ [-1, 1]\n",
    "- Output Range: in radians from -π/2 to π/2"
   ]
  },
  {
   "cell_type": "code",
   "execution_count": 19,
   "metadata": {},
   "outputs": [
    {
     "name": "stdout",
     "output_type": "stream",
     "text": [
      "[0.         0.52359878 1.57079633]\n"
     ]
    }
   ],
   "source": [
    "x = np.array([0, 0.5, 1])\n",
    "result = np.arcsin(x)\n",
    "print(result)\n"
   ]
  },
  {
   "cell_type": "markdown",
   "metadata": {},
   "source": [
    "5. ```np.arccos(array) ```\n",
    "\n",
    "- it is a inverse of cosine\n",
    "-  Computes the arccosine (inverse cosine) of x.\n",
    "- Input Range: x ∈ [-1, 1]\n",
    "- Output Range: in radians from 0 to π"
   ]
  },
  {
   "cell_type": "code",
   "execution_count": 20,
   "metadata": {},
   "outputs": [
    {
     "name": "stdout",
     "output_type": "stream",
     "text": [
      "[0.         1.04719755 1.57079633]\n"
     ]
    }
   ],
   "source": [
    "x = np.array([1, 0.5, 0])\n",
    "result = np.arccos(x)\n",
    "print(result)\n"
   ]
  },
  {
   "cell_type": "markdown",
   "metadata": {},
   "source": [
    "6. ```np.arctan(array)```\n",
    "\n",
    "- it is basically inverse of tangent \n",
    "- Computes the arctangent (inverse tangent) of x.\n",
    "- Input Range: all real numbers\n",
    "- Output Range: in radians from -π/2 to π/2"
   ]
  },
  {
   "cell_type": "code",
   "execution_count": 21,
   "metadata": {},
   "outputs": [
    {
     "name": "stdout",
     "output_type": "stream",
     "text": [
      "[0.         0.78539816 1.04719755]\n"
     ]
    }
   ],
   "source": [
    "x = np.array([0, 1, np.sqrt(3)])\n",
    "result = np.arctan(x)\n",
    "print(result)\n"
   ]
  },
  {
   "cell_type": "markdown",
   "metadata": {},
   "source": [
    "here in trigonometry function input is usually in radian you can use ```np.deg2rad()``` or ```np.rad2deg()``` to convert "
   ]
  },
  {
   "cell_type": "markdown",
   "metadata": {},
   "source": [
    "```np.deg2rad(degree) ```\n",
    "\n",
    "- it is used to convert degree to radians \n",
    "- When your angle is in degrees but you want to use it in a trigonometric function (which expects radians)."
   ]
  },
  {
   "cell_type": "code",
   "execution_count": 22,
   "metadata": {},
   "outputs": [
    {
     "name": "stdout",
     "output_type": "stream",
     "text": [
      "[0.         1.57079633 3.14159265]\n"
     ]
    }
   ],
   "source": [
    "import numpy as np\n",
    "\n",
    "degrees = np.array([0, 90, 180])\n",
    "radians = np.deg2rad(degrees)\n",
    "\n",
    "print(radians)\n"
   ]
  },
  {
   "cell_type": "markdown",
   "metadata": {},
   "source": [
    "```np.rad2deg(radian)```\n",
    "\n",
    "- it is used to convert radian to degree \n",
    "- When the result of a trigonometric function is in radians, and you want to convert it to degrees."
   ]
  },
  {
   "cell_type": "code",
   "execution_count": 23,
   "metadata": {},
   "outputs": [
    {
     "name": "stdout",
     "output_type": "stream",
     "text": [
      "[  0.  90. 180.]\n"
     ]
    }
   ],
   "source": [
    "radians = np.array([0, np.pi/2, np.pi])\n",
    "degrees = np.rad2deg(radians)\n",
    "\n",
    "print(degrees)\n"
   ]
  },
  {
   "cell_type": "markdown",
   "metadata": {},
   "source": [
    "### 4. exponential fucntion"
   ]
  },
  {
   "cell_type": "markdown",
   "metadata": {},
   "source": [
    "1. ```np.exp(x) ``` - exponential function\n",
    "\n",
    "- This calculates e to the power x (e ≈ 2.718).\n",
    "\n",
    "- It's like doing: e^x"
   ]
  },
  {
   "cell_type": "code",
   "execution_count": 25,
   "metadata": {},
   "outputs": [
    {
     "name": "stdout",
     "output_type": "stream",
     "text": [
      "[2.71828183 7.3890561 ]\n"
     ]
    }
   ],
   "source": [
    "import numpy as np\n",
    "\n",
    "x = np.array([1, 2])\n",
    "result = np.exp(x)\n",
    "print(result) # e^1,e^2\n"
   ]
  },
  {
   "cell_type": "markdown",
   "metadata": {},
   "source": [
    "2. ```expm1(x) - e^x-1\n",
    "\n",
    "- it calculate e^x-1 ,but more accurate for the small x \n",
    "- Good for avoiding floating-point errors when x is very small. "
   ]
  },
  {
   "cell_type": "code",
   "execution_count": null,
   "metadata": {},
   "outputs": [
    {
     "name": "stdout",
     "output_type": "stream",
     "text": [
      "[0.         1.71828183]\n"
     ]
    }
   ],
   "source": [
    "x = np.array([0, 1])\n",
    "result = np.expm1(x)\n",
    "print(result) # e^0-1  e^1-1\n"
   ]
  },
  {
   "cell_type": "markdown",
   "metadata": {},
   "source": [
    "3. ```np.log(x)``` - natural log(ln)\n",
    "\n",
    "- This gives the natural logarithm of x, which is log base e.\n",
    "\n",
    "- It answers: “What power should e be raised to, to get x?”"
   ]
  },
  {
   "cell_type": "code",
   "execution_count": 27,
   "metadata": {},
   "outputs": [
    {
     "name": "stdout",
     "output_type": "stream",
     "text": [
      "[0. 1.]\n"
     ]
    }
   ],
   "source": [
    "x = np.array([1, np.e])\n",
    "result = np.log(x)\n",
    "print(result)\n"
   ]
  },
  {
   "cell_type": "markdown",
   "metadata": {},
   "source": [
    "4. ```np.log2(x)``` - log base 2 \n",
    "\n",
    "- This calculates logarithm of x with base 2.\n",
    "\n",
    "- Used in computer science (binary systems).\n",
    "\n"
   ]
  },
  {
   "cell_type": "code",
   "execution_count": 28,
   "metadata": {},
   "outputs": [
    {
     "name": "stdout",
     "output_type": "stream",
     "text": [
      "[0. 1. 2. 3.]\n"
     ]
    }
   ],
   "source": [
    "x = np.array([1, 2, 4, 8])\n",
    "result = np.log2(x)\n",
    "print(result)\n"
   ]
  },
  {
   "cell_type": "markdown",
   "metadata": {},
   "source": [
    "5. ```log10(x)``` log base 10\n",
    "\n",
    "- This calculates logarithm of x with base 10.\n",
    "\n",
    "- Used in scientific calculations (like measuring sound, earthquakes, etc.).\n",
    "\n"
   ]
  },
  {
   "cell_type": "code",
   "execution_count": 29,
   "metadata": {},
   "outputs": [
    {
     "name": "stdout",
     "output_type": "stream",
     "text": [
      "[0. 1. 2. 3.]\n"
     ]
    }
   ],
   "source": [
    "x = np.array([1, 10, 100, 1000])\n",
    "result = np.log10(x)\n",
    "print(result)\n"
   ]
  },
  {
   "cell_type": "markdown",
   "metadata": {},
   "source": [
    "### 5. Aggregation function"
   ]
  },
  {
   "cell_type": "markdown",
   "metadata": {},
   "source": [
    "1. ```np.sum()```\n",
    "\n",
    "- sum of all element "
   ]
  },
  {
   "cell_type": "code",
   "execution_count": 30,
   "metadata": {},
   "outputs": [
    {
     "data": {
      "text/plain": [
       "np.int64(6)"
      ]
     },
     "execution_count": 30,
     "metadata": {},
     "output_type": "execute_result"
    }
   ],
   "source": [
    "a = np.array([1, 2, 3])\n",
    "np.sum(a)\n"
   ]
  },
  {
   "cell_type": "markdown",
   "metadata": {},
   "source": [
    "2. ```np.prod()``` \n",
    "\n",
    "- product of all element "
   ]
  },
  {
   "cell_type": "code",
   "execution_count": 31,
   "metadata": {},
   "outputs": [
    {
     "data": {
      "text/plain": [
       "np.int64(24)"
      ]
     },
     "execution_count": 31,
     "metadata": {},
     "output_type": "execute_result"
    }
   ],
   "source": [
    "a = np.array([1, 2, 3, 4])\n",
    "np.prod(a)\n"
   ]
  },
  {
   "cell_type": "markdown",
   "metadata": {},
   "source": [
    "3. ```np.mean(array)``` \n",
    "\n",
    "- avearage (mean)\n",
    "- add the element and divide by its count "
   ]
  },
  {
   "cell_type": "code",
   "execution_count": 32,
   "metadata": {},
   "outputs": [
    {
     "data": {
      "text/plain": [
       "np.float64(2.5)"
      ]
     },
     "execution_count": 32,
     "metadata": {},
     "output_type": "execute_result"
    }
   ],
   "source": [
    "a = np.array([1, 2, 3, 4])\n",
    "np.mean(a)\n"
   ]
  },
  {
   "cell_type": "markdown",
   "metadata": {},
   "source": [
    "4. ```np.std(array)```\n",
    "\n",
    "- standard deviation\n",
    "- Tells how spread out the values are from the mean."
   ]
  },
  {
   "cell_type": "code",
   "execution_count": 33,
   "metadata": {},
   "outputs": [
    {
     "data": {
      "text/plain": [
       "np.float64(0.816496580927726)"
      ]
     },
     "execution_count": 33,
     "metadata": {},
     "output_type": "execute_result"
    }
   ],
   "source": [
    "a = np.array([1, 2, 3])\n",
    "np.std(a)\n"
   ]
  },
  {
   "cell_type": "markdown",
   "metadata": {},
   "source": [
    "5. ```np.var()```\n",
    "\n",
    "- variance \n",
    "- It's the square of standard deviation.\n",
    "- Shows how much the values vary from the mean."
   ]
  },
  {
   "cell_type": "code",
   "execution_count": 34,
   "metadata": {},
   "outputs": [
    {
     "data": {
      "text/plain": [
       "np.float64(0.6666666666666666)"
      ]
     },
     "execution_count": 34,
     "metadata": {},
     "output_type": "execute_result"
    }
   ],
   "source": [
    "a = np.array([1, 2, 3])\n",
    "np.var(a)\n"
   ]
  },
  {
   "cell_type": "markdown",
   "metadata": {},
   "source": [
    "6. ```np.min()/np.max() ```\n",
    "\n",
    "smallest and largest value "
   ]
  },
  {
   "cell_type": "code",
   "execution_count": 36,
   "metadata": {},
   "outputs": [
    {
     "name": "stdout",
     "output_type": "stream",
     "text": [
      "1\n",
      "9\n"
     ]
    }
   ],
   "source": [
    "a = np.array([4, 2, 9, 1])\n",
    "x= np.min(a)     \n",
    "y= np.max(a)     \n",
    "print(x)\n",
    "print(y)\n"
   ]
  },
  {
   "cell_type": "markdown",
   "metadata": {},
   "source": [
    "7. ```np.argmin()/np.argmax()```\n",
    "\n",
    "- index of minimum and maximum \n",
    "- np.argmin() → Position of the smallest number\n",
    "- np.argmax() → Position of the biggest number"
   ]
  },
  {
   "cell_type": "code",
   "execution_count": 37,
   "metadata": {},
   "outputs": [
    {
     "data": {
      "text/plain": [
       "np.int64(2)"
      ]
     },
     "execution_count": 37,
     "metadata": {},
     "output_type": "execute_result"
    }
   ],
   "source": [
    "a = np.array([4, 2, 9, 1])\n",
    "np.argmin(a)   # Output: 3 (index of 1)\n",
    "np.argmax(a)   # Output: 2 (index of 9)\n"
   ]
  },
  {
   "cell_type": "markdown",
   "metadata": {},
   "source": [
    "### 6. rounding and special function"
   ]
  },
  {
   "cell_type": "markdown",
   "metadata": {},
   "source": [
    "1.``` np.around(x)``` \n",
    "\n",
    "- round to the nearest value \n",
    "- It rounds the number to the nearest whole number or to given decimal places.\n",
    "\n"
   ]
  },
  {
   "cell_type": "code",
   "execution_count": null,
   "metadata": {},
   "outputs": [],
   "source": [
    "import numpy as np\n",
    "x = np.array([1.4, 2.6, 3.5])\n",
    "np.around(x)\n"
   ]
  },
  {
   "cell_type": "markdown",
   "metadata": {},
   "source": [
    "2. ```np.floor(x)```\n",
    "\n",
    "- round down \n",
    "- alaways round down to the nearest lower whole number "
   ]
  },
  {
   "cell_type": "code",
   "execution_count": null,
   "metadata": {},
   "outputs": [],
   "source": [
    "x = np.array([1.9, 2.3, -1.7])\n",
    "np.floor(x)\n"
   ]
  },
  {
   "cell_type": "markdown",
   "metadata": {},
   "source": [
    "3. ```np.ceil(x)```\n",
    "\n",
    "- Always rounds up to the nearest higher whole number.\n",
    "\n"
   ]
  },
  {
   "cell_type": "code",
   "execution_count": 38,
   "metadata": {},
   "outputs": [
    {
     "data": {
      "text/plain": [
       "array([ 2.,  3., -1.])"
      ]
     },
     "execution_count": 38,
     "metadata": {},
     "output_type": "execute_result"
    }
   ],
   "source": [
    "x = np.array([1.1, 2.7, -1.2])\n",
    "np.ceil(x)\n"
   ]
  },
  {
   "cell_type": "markdown",
   "metadata": {},
   "source": [
    "4. ```np.trunc(x)```\n",
    "\n",
    "- it removes decimal and Cuts off the decimal part (doesn’t round, just removes it)."
   ]
  },
  {
   "cell_type": "code",
   "execution_count": 39,
   "metadata": {},
   "outputs": [
    {
     "data": {
      "text/plain": [
       "array([ 1., -2.])"
      ]
     },
     "execution_count": 39,
     "metadata": {},
     "output_type": "execute_result"
    }
   ],
   "source": [
    "x = np.array([1.9, -2.7])\n",
    "np.trunc(x)\n"
   ]
  },
  {
   "cell_type": "markdown",
   "metadata": {},
   "source": [
    "5. ```np.sqrt(x)```\n",
    "\n",
    "- square root \n",
    "- Returns the square root of each element.\n",
    "\n"
   ]
  },
  {
   "cell_type": "code",
   "execution_count": 40,
   "metadata": {},
   "outputs": [
    {
     "data": {
      "text/plain": [
       "array([2., 3., 4.])"
      ]
     },
     "execution_count": 40,
     "metadata": {},
     "output_type": "execute_result"
    }
   ],
   "source": [
    "x = np.array([4, 9, 16])\n",
    "np.sqrt(x)\n"
   ]
  },
  {
   "cell_type": "markdown",
   "metadata": {},
   "source": [
    "6. ```np.abs(x)```\n",
    "\n",
    "- absolute value \n",
    "- Returns the positive version of each number (removes negative sign).\n",
    "\n"
   ]
  },
  {
   "cell_type": "code",
   "execution_count": 41,
   "metadata": {},
   "outputs": [
    {
     "data": {
      "text/plain": [
       "array([1. , 2.5, 3. ])"
      ]
     },
     "execution_count": 41,
     "metadata": {},
     "output_type": "execute_result"
    }
   ],
   "source": [
    "x = np.array([-1, -2.5, 3])\n",
    "np.abs(x)\n"
   ]
  },
  {
   "cell_type": "markdown",
   "metadata": {},
   "source": [
    "### 7. Bitwise function\n",
    "\n",
    "- Bitwise operations work on bits (0s and 1s) of integers.\n",
    "- Example:\n",
    "\n",
    "- Binary of 6 → 110\n",
    "\n",
    "- Binary of 3 → 011"
   ]
  },
  {
   "cell_type": "markdown",
   "metadata": {},
   "source": [
    "1. ```np.bitwise_and(x,y) ```\n",
    "\n",
    "- bitwise and \n",
    "- Returns 1 only when both bits are 1, otherwise 0."
   ]
  },
  {
   "cell_type": "code",
   "execution_count": 42,
   "metadata": {},
   "outputs": [
    {
     "data": {
      "text/plain": [
       "array([2])"
      ]
     },
     "execution_count": 42,
     "metadata": {},
     "output_type": "execute_result"
    }
   ],
   "source": [
    "x = np.array([6])    # binary: 110\n",
    "y = np.array([3])    # binary: 011\n",
    "np.bitwise_and(x, y)\n"
   ]
  },
  {
   "cell_type": "markdown",
   "metadata": {},
   "source": [
    "2. ```np.bitwise_or(x,y)```\n",
    "\n",
    "- Returns 1 if either bit is 1.\n",
    "\n"
   ]
  },
  {
   "cell_type": "code",
   "execution_count": 43,
   "metadata": {},
   "outputs": [
    {
     "data": {
      "text/plain": [
       "np.int64(7)"
      ]
     },
     "execution_count": 43,
     "metadata": {},
     "output_type": "execute_result"
    }
   ],
   "source": [
    "np.bitwise_or(6, 3)\n"
   ]
  },
  {
   "cell_type": "markdown",
   "metadata": {},
   "source": [
    "3. ```np.bitwise_xor(x,y)```\n",
    "\n",
    "- Returns 1 if bits are different, 0 if same."
   ]
  },
  {
   "cell_type": "code",
   "execution_count": 44,
   "metadata": {},
   "outputs": [
    {
     "data": {
      "text/plain": [
       "np.int64(5)"
      ]
     },
     "execution_count": 44,
     "metadata": {},
     "output_type": "execute_result"
    }
   ],
   "source": [
    "np.bitwise_xor(6, 3)\n"
   ]
  },
  {
   "cell_type": "markdown",
   "metadata": {},
   "source": [
    "4. ```np.invert(x)```\n",
    "\n",
    "- bitwise not \n",
    "- Flips all bits (0 → 1 and 1 → 0). Works on signed numbers using 2’s complement.\n",
    "\n"
   ]
  },
  {
   "cell_type": "code",
   "execution_count": null,
   "metadata": {},
   "outputs": [],
   "source": [
    "np.invert(np.array([6]))\n"
   ]
  },
  {
   "cell_type": "markdown",
   "metadata": {},
   "source": [
    "5. ```np.left_shift(x,n)``` - shift left \n",
    "\n",
    "- Shifts bits to the left n times. Each shift = ×2.\n",
    "\n"
   ]
  },
  {
   "cell_type": "code",
   "execution_count": 46,
   "metadata": {},
   "outputs": [
    {
     "data": {
      "text/plain": [
       "np.int64(10)"
      ]
     },
     "execution_count": 46,
     "metadata": {},
     "output_type": "execute_result"
    }
   ],
   "source": [
    "np.left_shift(5, 1)\n"
   ]
  },
  {
   "cell_type": "markdown",
   "metadata": {},
   "source": [
    "6. ```np.right_shift(x,n) ``` - right shift \n",
    "\n",
    "- Shifts bits to the right n times. Each shift = ÷2."
   ]
  },
  {
   "cell_type": "code",
   "execution_count": 45,
   "metadata": {},
   "outputs": [
    {
     "data": {
      "text/plain": [
       "np.int64(5)"
      ]
     },
     "execution_count": 45,
     "metadata": {},
     "output_type": "execute_result"
    }
   ],
   "source": [
    "np.right_shift(10, 1)\n"
   ]
  },
  {
   "cell_type": "markdown",
   "metadata": {},
   "source": [
    "### 8. logical functions \n",
    "\n",
    "- Logical operations check the truth value of conditions:\n",
    "\n",
    "   - True means the condition is satisfied.\n",
    "\n",
    "   - False means it's not.\n",
    "\n",
    "Logical functions are mostly used for arrays with boolean values or conditions.\n",
    "\n"
   ]
  },
  {
   "cell_type": "markdown",
   "metadata": {},
   "source": [
    "1. ```np.logical_and(x,y) ``` - logical and \n",
    "\n",
    "- return true if both the x and y are true else its return false "
   ]
  },
  {
   "cell_type": "code",
   "execution_count": 47,
   "metadata": {},
   "outputs": [
    {
     "data": {
      "text/plain": [
       "array([ True, False, False])"
      ]
     },
     "execution_count": 47,
     "metadata": {},
     "output_type": "execute_result"
    }
   ],
   "source": [
    "import numpy as np\n",
    "x = np.array([True, False, True])\n",
    "y = np.array([True, True, False])\n",
    "\n",
    "np.logical_and(x, y)\n"
   ]
  },
  {
   "cell_type": "markdown",
   "metadata": {},
   "source": [
    "2. ```logical_or(x,y)``` - logical or \n",
    "\n",
    "- return true if either of x and y is true else return false  "
   ]
  },
  {
   "cell_type": "code",
   "execution_count": null,
   "metadata": {},
   "outputs": [],
   "source": [
    "np.logical_or(x, y)\n"
   ]
  },
  {
   "cell_type": "markdown",
   "metadata": {},
   "source": [
    "3. ```np.logical_xor(x,y) ``` - logical xor(exclusive or)\n",
    "\n",
    "- return true if eighter of x and y is true , not both "
   ]
  },
  {
   "cell_type": "code",
   "execution_count": 48,
   "metadata": {},
   "outputs": [
    {
     "data": {
      "text/plain": [
       "array([False,  True,  True])"
      ]
     },
     "execution_count": 48,
     "metadata": {},
     "output_type": "execute_result"
    }
   ],
   "source": [
    "np.logical_xor(x, y)\n"
   ]
  },
  {
   "cell_type": "markdown",
   "metadata": {},
   "source": [
    "*** remember ***\n",
    "\n",
    " NumPy treats:\n",
    "\n",
    "0 as False\n",
    "\n",
    "Any non-zero number as True"
   ]
  },
  {
   "cell_type": "markdown",
   "metadata": {},
   "source": [
    "### 9. where function\n",
    "- Useful for conditional element-wise selection."
   ]
  },
  {
   "cell_type": "code",
   "execution_count": null,
   "metadata": {},
   "outputs": [
    {
     "data": {
      "text/plain": [
       "array([10, 25, 30, 40])"
      ]
     },
     "execution_count": 49,
     "metadata": {},
     "output_type": "execute_result"
    }
   ],
   "source": [
    "a = np.array([10, 20, 30, 40])\n",
    "b = np.array([1, 25, 3, 35])\n",
    "\n",
    "# Choose from a if condition is True else from b\n",
    "np.where(a > b, a, b)\n",
    "\n"
   ]
  },
  {
   "cell_type": "markdown",
   "metadata": {},
   "source": [
    "### some universal fucntion can return multiple output \n",
    "\n",
    "<mark> - example : </mark>"
   ]
  },
  {
   "cell_type": "markdown",
   "metadata": {},
   "source": [
    "### 1. np.modf():\n",
    "\n",
    "- The function np.modf() splits each number in an array into two parts:\n",
    "\n",
    "  - 1. Fractional part (after the decimal)\n",
    "\n",
    "  - 2. Whole (integral) part (before the decimal)"
   ]
  },
  {
   "cell_type": "markdown",
   "metadata": {},
   "source": [
    "It returns two arrays:\n",
    "\n",
    "- First: Fractional part\n",
    "\n",
    "- Second: Whole (integer) part"
   ]
  },
  {
   "cell_type": "code",
   "execution_count": 52,
   "metadata": {},
   "outputs": [
    {
     "name": "stdout",
     "output_type": "stream",
     "text": [
      "[-8.15632039  7.25729173  6.77145917  1.43763854  2.27055815 -9.24536071\n",
      "  1.16135973]\n",
      "[-0.15632039  0.25729173  0.77145917  0.43763854  0.27055815 -0.24536071\n",
      "  0.16135973]\n",
      "[-8.  7.  6.  1.  2. -9.  1.]\n"
     ]
    }
   ],
   "source": [
    "import numpy as np\n",
    "\n",
    "rng = np.random.default_rng()   # create a Generator instance\n",
    "arr = rng.standard_normal(7) * 5 # 7 random number multiply by each element by 5 \n",
    "print(arr)\n",
    "remainder, whole_part = np.modf(arr)\n",
    "print(remainder)\n",
    "print(whole_part)\n",
    "\n"
   ]
  },
  {
   "cell_type": "markdown",
   "metadata": {},
   "source": [
    "# out statement \n",
    "\n",
    "- To store the result of a ufunc in an existing array, instead of creating a new array. This is done using the out= argument.\n",
    "- You can pass an existing array using out= in NumPy ufuncs to store the result directly, instead of creating a new array every time."
   ]
  },
  {
   "cell_type": "code",
   "execution_count": 60,
   "metadata": {},
   "outputs": [
    {
     "name": "stdout",
     "output_type": "stream",
     "text": [
      "[-8.15632039  7.25729173  6.77145917  1.43763854  2.27055815 -9.24536071\n",
      "  1.16135973]\n",
      "[0. 0. 0. 0. 0. 0. 0.]\n",
      "[-7.15632039  8.25729173  7.77145917  2.43763854  3.27055815 -8.24536071\n",
      "  2.16135973]\n"
     ]
    }
   ],
   "source": [
    "print(arr)\n",
    "out = np.zeros_like(arr)  # creates a new array called out np.zeros_like(arr) means: ➝ Make an array of 0s that is the same shape and type as arr\n",
    "\n",
    "print(out)\n",
    "# np.add(arr,1)  #arr + 1 But it creates a new array in memory\n",
    "\n",
    "# add 1 in arr but store result in out\n",
    "np.add(arr, 1, out=out)\n",
    "print(out)\n",
    " \n",
    "\n"
   ]
  },
  {
   "cell_type": "markdown",
   "metadata": {},
   "source": [
    "Why Use out=?\n",
    "\n",
    "Saves memory: Useful when working with big arrays\n",
    "\n",
    "More control: You can reuse arrays\n",
    "\n",
    "Better performance: Especially in large-scale numerical computing"
   ]
  }
 ],
 "metadata": {
  "kernelspec": {
   "display_name": "env",
   "language": "python",
   "name": "python3"
  },
  "language_info": {
   "codemirror_mode": {
    "name": "ipython",
    "version": 3
   },
   "file_extension": ".py",
   "mimetype": "text/x-python",
   "name": "python",
   "nbconvert_exporter": "python",
   "pygments_lexer": "ipython3",
   "version": "3.13.3"
  }
 },
 "nbformat": 4,
 "nbformat_minor": 2
}
