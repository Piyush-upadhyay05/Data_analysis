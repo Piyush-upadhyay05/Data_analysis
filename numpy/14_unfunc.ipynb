{
 "cells": [
  {
   "cell_type": "markdown",
   "metadata": {},
   "source": [
    "## universal function\n",
    "\n",
    "- a function that perform element-wise operation on data in ndarray \n",
    "\n",
    "- A Universal Function (ufunc) is a vectorized wrapper for a function that operates element-wise on ndarray objects.\n",
    "\n",
    "- They're fast, efficient, and broadcast-compatible\n",
    "   \n",
    "   - Broadcast-compatible = Broadcast-compatible means that two arrays of different shapes can still be used together in element-wise operations by stretching the smaller array automatically without copying data. This is called broadcasting.  "
   ]
  },
  {
   "cell_type": "markdown",
   "metadata": {},
   "source": [
    "### Key Characteristics of ufuncs:\n",
    "\n",
    "- Operate element-wise on arrays\n",
    "\n",
    "- Broadcasting supported\n",
    "\n",
    "- Type casting is handled\n",
    "\n",
    "- Can take multiple input/output arrays\n",
    "\n",
    "- Much faster than Python loops"
   ]
  },
  {
   "cell_type": "markdown",
   "metadata": {},
   "source": [
    "##  categories of universal function \n",
    "\n"
   ]
  },
  {
   "cell_type": "markdown",
   "metadata": {},
   "source": [
    "### 1. Arthimatical functions \n",
    "\n",
    "- these perform basic mathematical operations\n",
    "- like :\n",
    "  - addition\n",
    "  - substraction\n",
    "  - multiplication\n",
    "  - divide \n",
    "  - power \n",
    "  - mod  "
   ]
  },
  {
   "cell_type": "markdown",
   "metadata": {},
   "source": [
    "1. ```np.add(x,y)```\n",
    "\n",
    "- add corresponding element of two different arrays "
   ]
  },
  {
   "cell_type": "code",
   "execution_count": 3,
   "metadata": {},
   "outputs": [
    {
     "name": "stdout",
     "output_type": "stream",
     "text": [
      "[4 6]\n",
      "[[ 6  8]\n",
      " [10 12]]\n"
     ]
    }
   ],
   "source": [
    "# in 1d array\n",
    "import numpy as np\n",
    "result = np.add([1, 2], [3, 4])  # 1+3 , 2+4\n",
    "print(result) \n",
    "# in 2D array \n",
    "\n",
    "a = np.array([[1, 2], [3, 4]])\n",
    "b = np.array([[5, 6], [7, 8]])\n",
    "\n",
    "result = np.add(a, b)\n",
    "print(result)\n",
    "\n"
   ]
  },
  {
   "cell_type": "markdown",
   "metadata": {},
   "source": [
    "2. ```np.subtract(x,y)```\n"
   ]
  },
  {
   "cell_type": "code",
   "execution_count": null,
   "metadata": {},
   "outputs": [
    {
     "name": "stdout",
     "output_type": "stream",
     "text": [
      "[2 2]\n",
      "[[ 9 18]\n",
      " [27 36]]\n"
     ]
    }
   ],
   "source": [
    "# in 1D array \n",
    "result = np.subtract([3,4],[1,2])\n",
    "print(result)\n",
    "# in 2D array\n",
    "a = np.array([[10, 20], [30, 40]])\n",
    "b = np.array([[1, 2], [3, 4]])\n",
    "\n",
    "result = np.subtract(a, b)\n",
    "print(result)\n",
    "\n"
   ]
  },
  {
   "cell_type": "markdown",
   "metadata": {},
   "source": [
    "3. ```np.muliply(x,y)```"
   ]
  },
  {
   "cell_type": "code",
   "execution_count": null,
   "metadata": {},
   "outputs": [
    {
     "name": "stdout",
     "output_type": "stream",
     "text": [
      "[[ 10  40]\n",
      " [ 90 160]]\n"
     ]
    }
   ],
   "source": [
    "# in 2D array\n",
    "a = np.array([[10, 20], [30, 40]])\n",
    "b = np.array([[1, 2], [3, 4]])\n",
    "\n",
    "result = np.multiply(a, b)\n",
    "print(result)\n"
   ]
  },
  {
   "cell_type": "markdown",
   "metadata": {},
   "source": [
    "4. ```np.divide(x,y)```\n",
    "\n"
   ]
  },
  {
   "cell_type": "code",
   "execution_count": null,
   "metadata": {},
   "outputs": [],
   "source": [
    "a = np.array([[10, 20], [30, 40]])\n",
    "b = np.array([[1, 2], [3, 4]])\n",
    "\n",
    "result = np.divide(a, b)\n",
    "print(result)\n"
   ]
  },
  {
   "cell_type": "markdown",
   "metadata": {},
   "source": [
    "5. ```np.power(x,y)``` \n",
    "\n",
    "- exponentiation(x raised to the power y)\n",
    "- Raises each element in x to the power of corresponding element in y (or scalar)."
   ]
  },
  {
   "cell_type": "code",
   "execution_count": null,
   "metadata": {},
   "outputs": [
    {
     "name": "stdout",
     "output_type": "stream",
     "text": [
      "[4 9]\n"
     ]
    }
   ],
   "source": [
    "result = np.power([2, 3], 2)\n",
    "print(result)  \n",
    "\n"
   ]
  },
  {
   "cell_type": "code",
   "execution_count": 9,
   "metadata": {},
   "outputs": [
    {
     "name": "stdout",
     "output_type": "stream",
     "text": [
      "[[ 4  9]\n",
      " [16 25]]\n"
     ]
    }
   ],
   "source": [
    "a = np.array([[2, 3], [4, 5]])\n",
    "result = np.power(a, 2)\n",
    "print(result)\n"
   ]
  },
  {
   "cell_type": "code",
   "execution_count": 10,
   "metadata": {},
   "outputs": [
    {
     "name": "stdout",
     "output_type": "stream",
     "text": [
      "[[[ 4  9]\n",
      "  [16 25]]\n",
      "\n",
      " [[ 1  8]\n",
      "  [27 64]]]\n"
     ]
    }
   ],
   "source": [
    "# 3D array\n",
    "a = np.array([[[2, 3], [4, 5]], [[1, 2], [3, 4]]])\n",
    "b = np.array([[[2, 2], [2, 2]], [[3, 3], [3, 3]]])\n",
    "\n",
    "result = np.power(a, b)\n",
    "print(result)\n"
   ]
  },
  {
   "cell_type": "markdown",
   "metadata": {},
   "source": [
    "6. ```np.mod(x,y)```\n",
    "\n",
    "- modulus \n",
    "- Returns the remainder of division of x by y"
   ]
  },
  {
   "cell_type": "code",
   "execution_count": null,
   "metadata": {},
   "outputs": [],
   "source": [
    "# 2D array\n",
    "a = np.array([[10, 20], [30, 40]])\n",
    "b = np.array([[3, 4], [5, 6]])\n",
    "\n",
    "result = np.mod(a, b)\n",
    "print(result)\n"
   ]
  },
  {
   "cell_type": "code",
   "execution_count": null,
   "metadata": {},
   "outputs": [],
   "source": [
    "# 3D array\n",
    "a = np.array([[[10, 20], [30, 40]], [[15, 25], [35, 45]]])\n",
    "b = np.array([[[2, 3], [4, 5]], [[6, 7], [8, 9]]])\n",
    "\n",
    "result = np.mod(a, b)\n",
    "print(result)\n"
   ]
  },
  {
   "cell_type": "markdown",
   "metadata": {},
   "source": [
    "### 2. comparison function"
   ]
  },
  {
   "cell_type": "markdown",
   "metadata": {},
   "source": [
    "1. ```np.equal(x,y)``` \n",
    "\n",
    "- x==y\n",
    "- compare the element of two different array whether it is equal or not"
   ]
  },
  {
   "cell_type": "code",
   "execution_count": 11,
   "metadata": {},
   "outputs": [
    {
     "name": "stdout",
     "output_type": "stream",
     "text": [
      "[ True False]\n"
     ]
    }
   ],
   "source": [
    "import numpy as np\n",
    "\n",
    "a = np.array([1, 2])\n",
    "b = np.array([1, 3])\n",
    "\n",
    "result = np.equal(a, b)\n",
    "print(result)\n"
   ]
  },
  {
   "cell_type": "markdown",
   "metadata": {},
   "source": [
    "2. ```np.not_equal(x,y)```\n",
    "\n",
    "- x!=y\n",
    "-  Checks whether elements of x and y are not equal.\n",
    "\n"
   ]
  },
  {
   "cell_type": "code",
   "execution_count": 12,
   "metadata": {},
   "outputs": [
    {
     "name": "stdout",
     "output_type": "stream",
     "text": [
      "[False  True]\n"
     ]
    }
   ],
   "source": [
    "a = np.array([1, 2])\n",
    "b = np.array([1, 3])\n",
    "\n",
    "result = np.not_equal(a, b)\n",
    "print(result)"
   ]
  },
  {
   "cell_type": "markdown",
   "metadata": {},
   "source": [
    "3. ```np.greater(x,y)``` \n",
    "\n",
    "\n",
    "- x>y\n",
    "- Checks where elements in x are greater than y.\n",
    "\n"
   ]
  },
  {
   "cell_type": "code",
   "execution_count": null,
   "metadata": {},
   "outputs": [],
   "source": [
    "a = np.array([3, 2])\n",
    "b = np.array([2, 2])\n",
    "\n",
    "result = np.greater(a, b)\n",
    "print(result)\n"
   ]
  },
  {
   "cell_type": "markdown",
   "metadata": {},
   "source": [
    "4. ```np.greater_equal(x,y)```\n",
    "\n",
    "- x>=y\n",
    "- check the element in x is greater than or equal to y"
   ]
  },
  {
   "cell_type": "code",
   "execution_count": 13,
   "metadata": {},
   "outputs": [
    {
     "name": "stdout",
     "output_type": "stream",
     "text": [
      "[ True  True False]\n"
     ]
    }
   ],
   "source": [
    "a = np.array([3, 2, 1])\n",
    "b = np.array([2, 2, 3])\n",
    "\n",
    "result = np.greater_equal(a, b)\n",
    "print(result)\n"
   ]
  },
  {
   "cell_type": "markdown",
   "metadata": {},
   "source": [
    "5. ```np.less(x,y)```\n",
    "\n",
    "- x<y\n",
    "- Checks where elements in x are less than y."
   ]
  },
  {
   "cell_type": "code",
   "execution_count": 14,
   "metadata": {},
   "outputs": [
    {
     "name": "stdout",
     "output_type": "stream",
     "text": [
      "[ True False False]\n"
     ]
    }
   ],
   "source": [
    "a = np.array([1, 2, 3])\n",
    "b = np.array([2, 2, 2])\n",
    "\n",
    "result = np.less(a, b)\n",
    "print(result)\n"
   ]
  },
  {
   "cell_type": "markdown",
   "metadata": {},
   "source": [
    "6. ```np.less_equal(x,y)```\n",
    "\n",
    "- Checks where elements in x are less than or equal to y."
   ]
  },
  {
   "cell_type": "code",
   "execution_count": 15,
   "metadata": {},
   "outputs": [
    {
     "name": "stdout",
     "output_type": "stream",
     "text": [
      "[ True  True False]\n"
     ]
    }
   ],
   "source": [
    "a = np.array([1, 2, 3])\n",
    "b = np.array([2, 2, 2])\n",
    "\n",
    "result = np.less_equal(a, b)\n",
    "print(result)\n"
   ]
  },
  {
   "cell_type": "markdown",
   "metadata": {},
   "source": [
    "###"
   ]
  }
 ],
 "metadata": {
  "kernelspec": {
   "display_name": "env",
   "language": "python",
   "name": "python3"
  },
  "language_info": {
   "codemirror_mode": {
    "name": "ipython",
    "version": 3
   },
   "file_extension": ".py",
   "mimetype": "text/x-python",
   "name": "python",
   "nbconvert_exporter": "python",
   "pygments_lexer": "ipython3",
   "version": "3.13.3"
  }
 },
 "nbformat": 4,
 "nbformat_minor": 2
}
