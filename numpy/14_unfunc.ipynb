{
 "cells": [
  {
   "cell_type": "markdown",
   "metadata": {},
   "source": [
    "## universal function\n",
    "\n",
    "- a function that perform element-wise operation on data in ndarray \n",
    "\n",
    "- A Universal Function (ufunc) is a vectorized wrapper for a function that operates element-wise on ndarray objects.\n",
    "\n",
    "- They're fast, efficient, and broadcast-compatible\n",
    "   \n",
    "   - Broadcast-compatible = Broadcast-compatible means that two arrays of different shapes can still be used together in element-wise operations by stretching the smaller array automatically without copying data. This is called broadcasting.  "
   ]
  },
  {
   "cell_type": "markdown",
   "metadata": {},
   "source": [
    "### Key Characteristics of ufuncs:\n",
    "\n",
    "- Operate element-wise on arrays\n",
    "\n",
    "- Broadcasting supported\n",
    "\n",
    "- Type casting is handled\n",
    "\n",
    "- Can take multiple input/output arrays\n",
    "\n",
    "- Much faster than Python loops"
   ]
  },
  {
   "cell_type": "code",
   "execution_count": null,
   "metadata": {},
   "outputs": [],
   "source": []
  }
 ],
 "metadata": {
  "kernelspec": {
   "display_name": "env",
   "language": "python",
   "name": "python3"
  },
  "language_info": {
   "name": "python",
   "version": "3.13.3"
  }
 },
 "nbformat": 4,
 "nbformat_minor": 2
}
