{
 "cells": [
  {
   "cell_type": "markdown",
   "metadata": {},
   "source": [
    "## linear algebra with numpy\n"
   ]
  },
  {
   "cell_type": "markdown",
   "metadata": {},
   "source": [
    "### Dot product :\n",
    "\n",
    "- Dot Product is a way to multiply two vectors.\n",
    "\n",
    "- It gives a single scalar value (not a vector or matrix)."
   ]
  },
  {
   "cell_type": "markdown",
   "metadata": {},
   "source": [
    "### numpy method to get dot product \n",
    "\n",
    "- ```np.dot()```\n",
    "- using ```@```\n",
    "\n",
    "- both do same thing (for 1D and 2D array)"
   ]
  },
  {
   "cell_type": "code",
   "execution_count": 1,
   "metadata": {},
   "outputs": [
    {
     "name": "stdout",
     "output_type": "stream",
     "text": [
      "32\n",
      "32\n"
     ]
    }
   ],
   "source": [
    "import numpy as np\n",
    "\n",
    "a = np.array([1, 2, 3])\n",
    "b = np.array([4, 5, 6])\n",
    "\n",
    "# Method 1\n",
    "print(np.dot(a, b))  # ➝ 1*4 + 2*5 + 3*6 = 32\n",
    "\n",
    "# Method 2 (preferred shortcut)\n",
    "print(a @ b)         # ➝ 32\n"
   ]
  },
  {
   "cell_type": "markdown",
   "metadata": {},
   "source": [
    "dot poduct condition \n",
    "- 1D * 1D\n",
    "- 2D * 2D\n",
    "- 3D * 3D  "
   ]
  },
  {
   "cell_type": "markdown",
   "metadata": {},
   "source": [
    "example with 2D array (matrix dot product)"
   ]
  },
  {
   "cell_type": "code",
   "execution_count": 2,
   "metadata": {},
   "outputs": [
    {
     "name": "stdout",
     "output_type": "stream",
     "text": [
      "[[19 22]\n",
      " [43 50]]\n"
     ]
    }
   ],
   "source": [
    "A = np.array([[1, 2],\n",
    "              [3, 4]])     # Shape (2, 2)\n",
    "\n",
    "B = np.array([[5, 6],\n",
    "              [7, 8]])     # Shape (2, 2)\n",
    "\n",
    "C = np.dot(A, B)\n",
    "print(C)\n"
   ]
  },
  {
   "cell_type": "markdown",
   "metadata": {},
   "source": [
    "example in 3D array "
   ]
  },
  {
   "cell_type": "code",
   "execution_count": 3,
   "metadata": {},
   "outputs": [
    {
     "name": "stdout",
     "output_type": "stream",
     "text": [
      "[[[[19 22]]\n",
      "\n",
      "  [[43 50]]]]\n",
      "Shape: (1, 2, 1, 2)\n"
     ]
    }
   ],
   "source": [
    "import numpy as np\n",
    "\n",
    "a = np.array([[[1, 2],\n",
    "               [3, 4]]])        # Shape: (1, 2, 2)\n",
    "\n",
    "b = np.array([[[5, 6],\n",
    "               [7, 8]]])        # Shape: (1, 2, 2)\n",
    "\n",
    "result = np.dot(a, b)\n",
    "print(result)\n",
    "print(\"Shape:\", result.shape)\n"
   ]
  },
  {
   "cell_type": "code",
   "execution_count": 4,
   "metadata": {},
   "outputs": [
    {
     "name": "stdout",
     "output_type": "stream",
     "text": [
      "Shape: (2, 3, 5)\n"
     ]
    }
   ],
   "source": [
    "# using @ module \n",
    "a = np.random.randint(1, 10, (2, 3, 4))  # 2 matrices of 3×4\n",
    "b = np.random.randint(1, 10, (2, 4, 5))  # 2 matrices of 4×5\n",
    "\n",
    "result = a @ b\n",
    "print(\"Shape:\", result.shape)\n"
   ]
  },
  {
   "cell_type": "markdown",
   "metadata": {},
   "source": []
  }
 ],
 "metadata": {
  "kernelspec": {
   "display_name": "env",
   "language": "python",
   "name": "python3"
  },
  "language_info": {
   "codemirror_mode": {
    "name": "ipython",
    "version": 3
   },
   "file_extension": ".py",
   "mimetype": "text/x-python",
   "name": "python",
   "nbconvert_exporter": "python",
   "pygments_lexer": "ipython3",
   "version": "3.13.3"
  }
 },
 "nbformat": 4,
 "nbformat_minor": 2
}
