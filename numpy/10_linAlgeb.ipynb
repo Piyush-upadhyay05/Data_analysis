{
 "cells": [
  {
   "cell_type": "markdown",
   "metadata": {},
   "source": [
    "## linear algebra with numpy\n"
   ]
  },
  {
   "cell_type": "markdown",
   "metadata": {},
   "source": [
    "### Dot product :\n",
    "\n",
    "- Dot Product is a way to multiply two vectors.\n",
    "\n",
    "- It gives a single scalar value (not a vector or matrix)."
   ]
  },
  {
   "cell_type": "markdown",
   "metadata": {},
   "source": [
    "### numpy method to get dot product \n",
    "\n",
    "- ```np.dot()```\n",
    "- using ```@```\n",
    "\n",
    "- both do same thing (for 1D and 2D array)"
   ]
  },
  {
   "cell_type": "code",
   "execution_count": 1,
   "metadata": {},
   "outputs": [
    {
     "name": "stdout",
     "output_type": "stream",
     "text": [
      "32\n",
      "32\n"
     ]
    }
   ],
   "source": [
    "import numpy as np\n",
    "\n",
    "a = np.array([1, 2, 3])\n",
    "b = np.array([4, 5, 6])\n",
    "\n",
    "# Method 1\n",
    "print(np.dot(a, b))  # ➝ 1*4 + 2*5 + 3*6 = 32\n",
    "\n",
    "# Method 2 (preferred shortcut)\n",
    "print(a @ b)         # ➝ 32\n"
   ]
  },
  {
   "cell_type": "markdown",
   "metadata": {},
   "source": [
    "dot poduct condition \n",
    "- 1D * 1D\n",
    "- 2D * 2D\n",
    "- 3D * 3D  "
   ]
  },
  {
   "cell_type": "markdown",
   "metadata": {},
   "source": [
    "example with 2D array (matrix dot product)"
   ]
  },
  {
   "cell_type": "code",
   "execution_count": 2,
   "metadata": {},
   "outputs": [
    {
     "name": "stdout",
     "output_type": "stream",
     "text": [
      "[[19 22]\n",
      " [43 50]]\n"
     ]
    }
   ],
   "source": [
    "A = np.array([[1, 2],\n",
    "              [3, 4]])     # Shape (2, 2)\n",
    "\n",
    "B = np.array([[5, 6],\n",
    "              [7, 8]])     # Shape (2, 2)\n",
    "\n",
    "C = np.dot(A, B)\n",
    "print(C)\n"
   ]
  },
  {
   "cell_type": "markdown",
   "metadata": {},
   "source": [
    "example in 3D array "
   ]
  },
  {
   "cell_type": "code",
   "execution_count": 3,
   "metadata": {},
   "outputs": [
    {
     "name": "stdout",
     "output_type": "stream",
     "text": [
      "[[[[19 22]]\n",
      "\n",
      "  [[43 50]]]]\n",
      "Shape: (1, 2, 1, 2)\n"
     ]
    }
   ],
   "source": [
    "import numpy as np\n",
    "\n",
    "a = np.array([[[1, 2],\n",
    "               [3, 4]]])        # Shape: (1, 2, 2)\n",
    "\n",
    "b = np.array([[[5, 6],\n",
    "               [7, 8]]])        # Shape: (1, 2, 2)\n",
    "\n",
    "result = np.dot(a, b)\n",
    "print(result)\n",
    "print(\"Shape:\", result.shape)\n"
   ]
  },
  {
   "cell_type": "code",
   "execution_count": 4,
   "metadata": {},
   "outputs": [
    {
     "name": "stdout",
     "output_type": "stream",
     "text": [
      "Shape: (2, 3, 5)\n"
     ]
    }
   ],
   "source": [
    "# using @ module \n",
    "a = np.random.randint(1, 10, (2, 3, 4))  # 2 matrices of 3×4\n",
    "b = np.random.randint(1, 10, (2, 4, 5))  # 2 matrices of 4×5\n",
    "\n",
    "result = a @ b\n",
    "print(\"Shape:\", result.shape)\n"
   ]
  },
  {
   "cell_type": "markdown",
   "metadata": {},
   "source": [
    "### matrix multiplication \n",
    "\n",
    "- Matrix multiplication is not element-wise multiplication.\n",
    "\n",
    "- It’s a special way to combine two matrices where the columns of the first are matched with the rows of the second."
   ]
  },
  {
   "cell_type": "markdown",
   "metadata": {},
   "source": [
    "- Condition to multiply:\n",
    "  - If\n",
    "  - Matrix A → shape (m × n)\n",
    "  - Matrix B → shape (n × p)\n",
    "  - Then result → shape (m × p)"
   ]
  },
  {
   "cell_type": "markdown",
   "metadata": {},
   "source": [
    "using ```np.matmul``` or ```@``` you can multiply two matrices "
   ]
  },
  {
   "cell_type": "code",
   "execution_count": 5,
   "metadata": {},
   "outputs": [
    {
     "name": "stdout",
     "output_type": "stream",
     "text": [
      "[[19 22]\n",
      " [43 50]]\n"
     ]
    }
   ],
   "source": [
    "# example 2D matrix multiplication \n",
    "import numpy as np\n",
    "\n",
    "A = np.array([[1, 2],\n",
    "              [3, 4]])     # Shape: (2, 2)\n",
    "\n",
    "B = np.array([[5, 6],\n",
    "              [7, 8]])     # Shape: (2, 2)\n",
    "\n",
    "result = np.matmul(A, B)\n",
    "# OR use A @ B\n",
    "print(result)\n"
   ]
  },
  {
   "cell_type": "code",
   "execution_count": 6,
   "metadata": {},
   "outputs": [
    {
     "name": "stdout",
     "output_type": "stream",
     "text": [
      "(2, 3, 2)\n"
     ]
    }
   ],
   "source": [
    "# example 3D matrix multiplication\n",
    "A = np.random.randint(1, 5, (2, 3, 4))  # Two 3×4 matrices\n",
    "B = np.random.randint(1, 5, (2, 4, 2))  # Two 4×2 matrices\n",
    "\n",
    "C = np.matmul(A, B)  # or A @ B\n",
    "print(C.shape)\n"
   ]
  },
  {
   "cell_type": "markdown",
   "metadata": {},
   "source": [
    "### Determinant and inverse in numpy \n",
    "\n",
    "- These are essential concepts in linear algebra, especially when solving systems of equations or checking if a matrix is invertible.\n"
   ]
  },
  {
   "cell_type": "markdown",
   "metadata": {},
   "source": [
    "#### Determinant ?\n",
    "\n",
    "- determinant is a single number calculated from square matrix \n",
    "\n",
    "- Why is it important?\n",
    "\n",
    "    - It tells us whether a matrix is invertible.\n",
    "\n",
    "    - If det(A) ≠ 0 → matrix is invertible ✅\n",
    "\n",
    "    - If det(A) = 0 → matrix is singular ❌ (no inverse) "
   ]
  },
  {
   "cell_type": "code",
   "execution_count": null,
   "metadata": {},
   "outputs": [],
   "source": [
    "# example of 2x2 matrix \n",
    "import numpy as np\n",
    "\n",
    "A = np.array([[2, 3],\n",
    "              [1, 4]])\n",
    "\n",
    "det_A = np.linalg.det(A)\n",
    "print(\"Determinant:\", det_A)\n"
   ]
  },
  {
   "cell_type": "markdown",
   "metadata": {},
   "source": [
    " # What is the Inverse of a Matrix?\n",
    "\n",
    "- The inverse of a matrix A is another matrix A⁻¹ \n",
    "- Where I is the identity matrix.\n",
    "\n",
    "- In simpler words: it's like division in matrix world.\n",
    "   A⁻¹ “undoes” what A does."
   ]
  },
  {
   "cell_type": "code",
   "execution_count": 7,
   "metadata": {},
   "outputs": [
    {
     "name": "stdout",
     "output_type": "stream",
     "text": [
      "Inverse of A:\n",
      " [[ 0.8 -0.6]\n",
      " [-0.2  0.4]]\n"
     ]
    }
   ],
   "source": [
    "A = np.array([[2, 3],\n",
    "              [1, 4]])\n",
    "\n",
    "inv_A = np.linalg.inv(A)\n",
    "print(\"Inverse of A:\\n\", inv_A)\n"
   ]
  },
  {
   "cell_type": "markdown",
   "metadata": {},
   "source": [
    "example of 3x3 matrix example "
   ]
  },
  {
   "cell_type": "code",
   "execution_count": 8,
   "metadata": {},
   "outputs": [
    {
     "name": "stdout",
     "output_type": "stream",
     "text": [
      "Inverse:\n",
      " [[-24.  18.   5.]\n",
      " [ 20. -15.  -4.]\n",
      " [ -5.   4.   1.]]\n"
     ]
    }
   ],
   "source": [
    "A = np.array([[1, 2, 3],\n",
    "              [0, 1, 4],\n",
    "              [5, 6, 0]])\n",
    "\n",
    "inv_A = np.linalg.inv(A)\n",
    "print(\"Inverse:\\n\", inv_A)\n"
   ]
  }
 ],
 "metadata": {
  "kernelspec": {
   "display_name": "env",
   "language": "python",
   "name": "python3"
  },
  "language_info": {
   "codemirror_mode": {
    "name": "ipython",
    "version": 3
   },
   "file_extension": ".py",
   "mimetype": "text/x-python",
   "name": "python",
   "nbconvert_exporter": "python",
   "pygments_lexer": "ipython3",
   "version": "3.13.3"
  }
 },
 "nbformat": 4,
 "nbformat_minor": 2
}
