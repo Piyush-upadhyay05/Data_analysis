{
 "cells": [
  {
   "cell_type": "markdown",
   "metadata": {},
   "source": [
    " # Adding and removing axis \n",
    "\n",
    "- To convert 1D to 2D, or 2D to 3D, and vice versa\n",
    "\n",
    "- To prepare data for models, images, or batch processing"
   ]
  },
  {
   "cell_type": "markdown",
   "metadata": {},
   "source": [
    "### Adding axis :\n",
    "\n",
    "- we add axis using :\n",
    "  \n",
    "  - ```np.expand_dims()``` - to add axis at a specific position \n",
    "  \n",
    "  - ```array[np.newaxis, :]``` - adding using slicing (shortcut) \n",
    "\n",
    "  - ```reshape()``` - adding axis by manually reshaping "
   ]
  },
  {
   "cell_type": "markdown",
   "metadata": {},
   "source": [
    "### ```np.expand_dims()``` method\n"
   ]
  },
  {
   "cell_type": "code",
   "execution_count": 3,
   "metadata": {},
   "outputs": [
    {
     "name": "stdout",
     "output_type": "stream",
     "text": [
      "(3,)\n",
      "(1, 3)\n",
      "[[1 2 3]]\n",
      "(3, 1)\n",
      "[[1]\n",
      " [2]\n",
      " [3]]\n"
     ]
    }
   ],
   "source": [
    "import numpy as np\n",
    "\n",
    "a = np.array([1, 2, 3])\n",
    "print(a.shape)  # (3,)\n",
    "\n",
    "b = np.expand_dims(a, axis=0)  # Adds a new axis at position 0\n",
    "print(b.shape) # (1, 3)\n",
    "print(b)  \n",
    "\n",
    "c = np.expand_dims(a, axis=1)\n",
    "print(c.shape) #(3,1)\n",
    "print(c)\n"
   ]
  },
  {
   "cell_type": "markdown",
   "metadata": {},
   "source": [
    "### ```np.newaxis``` method"
   ]
  },
  {
   "cell_type": "code",
   "execution_count": 9,
   "metadata": {},
   "outputs": [
    {
     "name": "stdout",
     "output_type": "stream",
     "text": [
      "(3,)\n",
      "[[1 2 3]]\n",
      "[[1]\n",
      " [2]\n",
      " [3]]\n"
     ]
    }
   ],
   "source": [
    "import numpy as np\n",
    "a = np.array([1,2,3])\n",
    "print(a.shape)\n",
    "\n",
    "b = a[np.newaxis,:] # (1,3) it is similar to axis = 0\n",
    "c = a[:,np.newaxis] # (3,1) and it is similar to axis = 1\n",
    "print(b)\n",
    "print(c)"
   ]
  },
  {
   "cell_type": "markdown",
   "metadata": {},
   "source": [
    "## ```reshape() ``` method \n",
    "\n",
    "- you can reshape to chnage dimension"
   ]
  },
  {
   "cell_type": "code",
   "execution_count": null,
   "metadata": {},
   "outputs": [
    {
     "name": "stdout",
     "output_type": "stream",
     "text": [
      "[[1 2 3]]\n",
      "[[1]\n",
      " [2]\n",
      " [3]]\n"
     ]
    }
   ],
   "source": [
    "a = np.array([1, 2, 3])\n",
    "\n",
    "b = a.reshape(1, 3)  # (1, 3)\n",
    "c = a.reshape(3, 1)  # (3, 1)\n",
    "print(b)\n",
    "print(c)\n",
    "# only use reshape when you sure about the size of array\n"
   ]
  },
  {
   "cell_type": "markdown",
   "metadata": {},
   "source": [
    "### removing axis \n",
    "\n",
    "- to remove unecessary dimensions (like (1,2,3) -> (3,):)\n",
    "\n",
    "- we remove using \n",
    "  \n",
    "  - ```np.sqeeze()```\n",
    "  \n",
    "  - ```reshape()```   "
   ]
  },
  {
   "cell_type": "markdown",
   "metadata": {},
   "source": [
    "## ```np.sqeeze()``` method"
   ]
  },
  {
   "cell_type": "code",
   "execution_count": 12,
   "metadata": {},
   "outputs": [
    {
     "name": "stdout",
     "output_type": "stream",
     "text": [
      "(3,)\n",
      "[[1 2 3]]\n"
     ]
    }
   ],
   "source": [
    "a = np.array([[[1, 2, 3]]])   # shape: (1, 1, 3)\n",
    "b = np.squeeze(a)\n",
    "print(b.shape)  # (3,)\n",
    "# you can specify which axes to remove \n",
    "c = np.array([[[1, 2, 3]]])   # shape: (1, 1, 3)\n",
    "d = np.squeeze(c, axis=0)     # removes axis 0 → shape (1, 3)\n",
    "print(d)\n",
    "\n"
   ]
  },
  {
   "cell_type": "markdown",
   "metadata": {},
   "source": [
    "## ```reshape()`` method"
   ]
  },
  {
   "cell_type": "code",
   "execution_count": 13,
   "metadata": {},
   "outputs": [
    {
     "name": "stdout",
     "output_type": "stream",
     "text": [
      "(3,)\n"
     ]
    }
   ],
   "source": [
    "a = np.array([[[1, 2, 3]]])   # shape: (1, 1, 3)\n",
    "b = a.reshape(3,)\n",
    "print(b.shape)  # (3,)\n"
   ]
  }
 ],
 "metadata": {
  "kernelspec": {
   "display_name": "env",
   "language": "python",
   "name": "python3"
  },
  "language_info": {
   "codemirror_mode": {
    "name": "ipython",
    "version": 3
   },
   "file_extension": ".py",
   "mimetype": "text/x-python",
   "name": "python",
   "nbconvert_exporter": "python",
   "pygments_lexer": "ipython3",
   "version": "3.13.3"
  }
 },
 "nbformat": 4,
 "nbformat_minor": 2
}
