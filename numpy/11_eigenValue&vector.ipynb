{
 "cells": [
  {
   "cell_type": "markdown",
   "metadata": {},
   "source": [
    "### Eigen value and eigen vector \n",
    "\n",
    "- What Are Eigenvalues and Eigenvectors?\n",
    "   Let’s break this down in simple words:\n",
    "\n",
    "   - For a square matrix A, if there’s a vector x such that:\n",
    "   -  ```A⋅x=λ⋅x```\n",
    "    - where A is a square matrix \n",
    "    - x is a vector (called eigenvector)\n",
    "    - λ is scalar (calld eigenvalue) "
   ]
  },
  {
   "cell_type": "code",
   "execution_count": 1,
   "metadata": {},
   "outputs": [
    {
     "name": "stdout",
     "output_type": "stream",
     "text": [
      "Eigenvalues:\n",
      " [3. 1.]\n",
      "Eigenvectors:\n",
      " [[ 0.70710678 -0.70710678]\n",
      " [ 0.70710678  0.70710678]]\n"
     ]
    }
   ],
   "source": [
    "import numpy as np\n",
    "\n",
    "A = np.array([[2, 1],\n",
    "              [1, 2]])\n",
    "\n",
    "eigenvalues, eigenvectors = np.linalg.eig(A)\n",
    "\n",
    "print(\"Eigenvalues:\\n\", eigenvalues)\n",
    "print(\"Eigenvectors:\\n\", eigenvectors)\n"
   ]
  },
  {
   "cell_type": "markdown",
   "metadata": {},
   "source": [
    "### Why are Eigenvalues and Eigenvectors Important?\n",
    "\n",
    " - 🔍 Applications:\n",
    "   - Principal Component Analysis (PCA) – for dimensionality reduction.\n",
    "\n",
    "   - Quantum Mechanics – describes physical systems.\n",
    "\n",
    "   - Google's PageRank Algorithm – uses eigenvectors.\n",
    "\n",
    "   - Face recognition, pattern analysis, etc.\n",
    "\n",
    "   - System stability – in control systems."
   ]
  },
  {
   "cell_type": "markdown",
   "metadata": {},
   "source": [
    "| Function            | Description                                                           |\n",
    "| ------------------- | --------------------------------------------------------------------- |\n",
    "| `np.linalg.eig(A)`  | Returns eigenvalues and eigenvectors of matrix `A`                    |\n",
    "| `np.linalg.eigh(A)` | Same as `eig()` but for symmetric/hermitian matrices (more efficient) |\n"
   ]
  }
 ],
 "metadata": {
  "kernelspec": {
   "display_name": "env",
   "language": "python",
   "name": "python3"
  },
  "language_info": {
   "codemirror_mode": {
    "name": "ipython",
    "version": 3
   },
   "file_extension": ".py",
   "mimetype": "text/x-python",
   "name": "python",
   "nbconvert_exporter": "python",
   "pygments_lexer": "ipython3",
   "version": "3.13.3"
  }
 },
 "nbformat": 4,
 "nbformat_minor": 2
}
