{
 "cells": [
  {
   "cell_type": "markdown",
   "metadata": {},
   "source": [
    "### ndarray / multidimensional array :\n",
    "\n",
    "- ndarray stands for N-dimensional array. It is the core data structure provided by NumPy for storing arrays of any number of dimensions.\n",
    "\n",
    "- A NumPy ndarray is a homogeneous, multidimensional, contiguous memory array object that stores elements of the same data type.\n",
    "\n",
    "- This is the primary object used in NumPy to store and operate on data efficiently."
   ]
  },
  {
   "cell_type": "markdown",
   "metadata": {},
   "source": [
    "### creating an ndarray "
   ]
  },
  {
   "cell_type": "code",
   "execution_count": 1,
   "metadata": {},
   "outputs": [
    {
     "name": "stdout",
     "output_type": "stream",
     "text": [
      "[1 2 3]\n"
     ]
    }
   ],
   "source": [
    "import numpy as np\n",
    "\n",
    "arr1 = np.array([1, 2, 3])                      # 1D array\n",
    "arr2 = np.array([[1, 2], [3, 4]])               # 2D array\n",
    "arr3 = np.array([[[1], [2]], [[3], [4]]])       # 3D array\n",
    "print(arr1)"
   ]
  },
  {
   "cell_type": "code",
   "execution_count": 9,
   "metadata": {},
   "outputs": [
    {
     "name": "stdout",
     "output_type": "stream",
     "text": [
      "<class 'numpy.ndarray'>\n",
      "[[10 20 30]\n",
      " [10 20 30]]\n"
     ]
    }
   ],
   "source": [
    "import numpy as np\n",
    "\n",
    "a = np.array([[1, 2, 3], [1,2,3]])\n",
    "print(type(a))  # <class 'numpy.ndarray'>\n",
    "\n",
    "x =a * 10\n",
    "print(x)\n"
   ]
  },
  {
   "cell_type": "markdown",
   "metadata": {},
   "source": [
    "### Key properties of ndarray:\n",
    "\n",
    "- 1.  `.ndim`\n",
    "   \n",
    "    - number of dimension of array(axes) \n",
    "\n",
    "- 2. `.shape`\n",
    "   \n",
    "   - tuple representing the size of each dimension \n",
    "\n",
    "- 3. `.size` \n",
    "   \n",
    "   - totsl number of element \n",
    "\n",
    "- 4. `.dtype`\n",
    "\n",
    "   - data type of the element \n",
    "   \n",
    "- 5. `.itemsize`\n",
    "  \n",
    "   - size in bytes of each element \n",
    "\n",
    "- 6. `.nbytes`\n",
    "\n",
    "   - total bytes consumes (size * itemsize)             "
   ]
  },
  {
   "cell_type": "code",
   "execution_count": null,
   "metadata": {},
   "outputs": [
    {
     "name": "stdout",
     "output_type": "stream",
     "text": [
      "2\n",
      "(2, 3)\n",
      "6\n",
      "int64\n",
      "8\n",
      "48\n"
     ]
    }
   ],
   "source": [
    "arr = np.array([[1, 2, 3], [4, 5, 6]])\n",
    "\n",
    "print(arr.ndim)\n",
    "print(arr.shape)    \n",
    "print(arr.size)\n",
    "print(arr.dtype)    \n",
    "print(arr.itemsize)   \n",
    "print(arr.nbytes)   \n"
   ]
  },
  {
   "cell_type": "markdown",
   "metadata": {},
   "source": [
    "# Why Use `ndarray`?\n",
    "\n",
    "- **Speed**: Much faster than Python lists due to internal optimizations (C-based).\n",
    "- **Memory Efficiency**: Uses less memory than a list of lists.\n",
    "- **Functionality**: Supports a wide range of mathematical, logical, and statistical operations.\n",
    "- **Broadcasting**: Allows operations on arrays of different shapes.\n",
    "- **Convenience**: Comes with lots of helpful methods and functions for reshaping, slicing, aggregation, and more.\n"
   ]
  },
  {
   "cell_type": "markdown",
   "metadata": {},
   "source": [
    " ### data type for ndarray\n",
    "\n",
    " - The data type or dtype is a special object containing the information (or metadata,\n",
    "   data about data) the ndarray needs to interpret a chunk of memory as a particular\n",
    "   type of data:"
   ]
  },
  {
   "cell_type": "code",
   "execution_count": 14,
   "metadata": {},
   "outputs": [
    {
     "ename": "AttributeError",
     "evalue": "module 'numpy' has no attribute 'char43'",
     "output_type": "error",
     "traceback": [
      "\u001b[31m---------------------------------------------------------------------------\u001b[39m",
      "\u001b[31mAttributeError\u001b[39m                            Traceback (most recent call last)",
      "\u001b[36mCell\u001b[39m\u001b[36m \u001b[39m\u001b[32mIn[14]\u001b[39m\u001b[32m, line 5\u001b[39m\n\u001b[32m      3\u001b[39m arr1 = np.array([\u001b[32m1\u001b[39m,\u001b[32m23\u001b[39m,\u001b[32m4\u001b[39m] , dtype = np.float64)\n\u001b[32m      4\u001b[39m arr2 = np.array([\u001b[32m1\u001b[39m,\u001b[32m23\u001b[39m,\u001b[32m4\u001b[39m] , dtype = np.int32)\n\u001b[32m----> \u001b[39m\u001b[32m5\u001b[39m arr3 = np.array([\u001b[32m1\u001b[39m,\u001b[32m23\u001b[39m,\u001b[32m4\u001b[39m] , dtype = \u001b[43mnp\u001b[49m\u001b[43m.\u001b[49m\u001b[43mchar43\u001b[49m)\n\u001b[32m      6\u001b[39m \u001b[38;5;28mprint\u001b[39m(arr1.dtype)\n\u001b[32m      7\u001b[39m \u001b[38;5;28mprint\u001b[39m(arr2.dtype)\n",
      "\u001b[36mFile \u001b[39m\u001b[32m~/Data_analysis/env/lib/python3.13/site-packages/numpy/__init__.py:414\u001b[39m, in \u001b[36m__getattr__\u001b[39m\u001b[34m(attr)\u001b[39m\n\u001b[32m    411\u001b[39m     \u001b[38;5;28;01mimport\u001b[39;00m\u001b[38;5;250m \u001b[39m\u001b[34;01mnumpy\u001b[39;00m\u001b[34;01m.\u001b[39;00m\u001b[34;01mchar\u001b[39;00m\u001b[38;5;250m \u001b[39m\u001b[38;5;28;01mas\u001b[39;00m\u001b[38;5;250m \u001b[39m\u001b[34;01mchar\u001b[39;00m\n\u001b[32m    412\u001b[39m     \u001b[38;5;28;01mreturn\u001b[39;00m char.chararray\n\u001b[32m--> \u001b[39m\u001b[32m414\u001b[39m \u001b[38;5;28;01mraise\u001b[39;00m \u001b[38;5;167;01mAttributeError\u001b[39;00m(\u001b[33m\"\u001b[39m\u001b[33mmodule \u001b[39m\u001b[38;5;132;01m{!r}\u001b[39;00m\u001b[33m has no attribute \u001b[39m\u001b[33m\"\u001b[39m\n\u001b[32m    415\u001b[39m                      \u001b[33m\"\u001b[39m\u001b[38;5;132;01m{!r}\u001b[39;00m\u001b[33m\"\u001b[39m.format(\u001b[34m__name__\u001b[39m, attr))\n",
      "\u001b[31mAttributeError\u001b[39m: module 'numpy' has no attribute 'char43'"
     ]
    }
   ],
   "source": [
    "import numpy as np\n",
    "\n",
    "arr1 = np.array([1,23,4] , dtype = np.float64)\n",
    "arr2 = np.array([1,23,4] , dtype = np.int32)\n",
    "arr3 = np.array([1,23,4] , dtype = np.char43)\n",
    "print(arr1.dtype)\n",
    "print(arr2.dtype)\n",
    "print(arr3.dtype)\n",
    "\n",
    "\n"
   ]
  }
 ],
 "metadata": {
  "kernelspec": {
   "display_name": "env",
   "language": "python",
   "name": "python3"
  },
  "language_info": {
   "codemirror_mode": {
    "name": "ipython",
    "version": 3
   },
   "file_extension": ".py",
   "mimetype": "text/x-python",
   "name": "python",
   "nbconvert_exporter": "python",
   "pygments_lexer": "ipython3",
   "version": "3.13.3"
  }
 },
 "nbformat": 4,
 "nbformat_minor": 2
}
