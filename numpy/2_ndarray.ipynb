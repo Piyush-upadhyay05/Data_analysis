{
 "cells": [
  {
   "cell_type": "markdown",
   "metadata": {},
   "source": [
    "### ndarray / multidimensional array :\n",
    "\n",
    "- ndarray stands for N-dimensional array. It is the core data structure provided by NumPy for storing arrays of any number of dimensions.\n",
    "\n",
    "- A NumPy ndarray is a homogeneous, multidimensional, contiguous memory array object that stores elements of the same data type.\n",
    "\n",
    "- This is the primary object used in NumPy to store and operate on data efficiently."
   ]
  },
  {
   "cell_type": "markdown",
   "metadata": {},
   "source": [
    "### creating an ndarray "
   ]
  },
  {
   "cell_type": "code",
   "execution_count": 1,
   "metadata": {},
   "outputs": [
    {
     "name": "stdout",
     "output_type": "stream",
     "text": [
      "[1 2 3]\n"
     ]
    }
   ],
   "source": [
    "import numpy as np\n",
    "\n",
    "arr1 = np.array([1, 2, 3])                      # 1D array\n",
    "arr2 = np.array([[1, 2], [3, 4]])               # 2D array\n",
    "arr3 = np.array([[[1], [2]], [[3], [4]]])       # 3D array\n",
    "print(arr1)"
   ]
  },
  {
   "cell_type": "code",
   "execution_count": 9,
   "metadata": {},
   "outputs": [
    {
     "name": "stdout",
     "output_type": "stream",
     "text": [
      "<class 'numpy.ndarray'>\n",
      "[[10 20 30]\n",
      " [10 20 30]]\n"
     ]
    }
   ],
   "source": [
    "import numpy as np\n",
    "\n",
    "a = np.array([[1, 2, 3], [1,2,3]])\n",
    "print(type(a))  # <class 'numpy.ndarray'>\n",
    "\n",
    "x =a * 10\n",
    "print(x)\n"
   ]
  },
  {
   "cell_type": "markdown",
   "metadata": {},
   "source": [
    "### Key properties of ndarray:\n",
    "\n",
    "- 1.  `.ndim`\n",
    "   \n",
    "    - number of dimension of array(axes) \n",
    "\n",
    "- 2. `.shape`\n",
    "   \n",
    "   - tuple representing the size of each dimension \n",
    "\n",
    "- 3. `.size` \n",
    "   \n",
    "   - totsl number of element \n",
    "\n",
    "- 4. `.dtype`\n",
    "\n",
    "   - data type of the element \n",
    "   \n",
    "- 5. `.itemsize`\n",
    "  \n",
    "   - size in bytes of each element \n",
    "\n",
    "- 6. `.nbytes`\n",
    "\n",
    "   - total bytes consumes (size * itemsize)             "
   ]
  },
  {
   "cell_type": "code",
   "execution_count": null,
   "metadata": {},
   "outputs": [
    {
     "name": "stdout",
     "output_type": "stream",
     "text": [
      "2\n",
      "(2, 3)\n",
      "6\n",
      "int64\n",
      "8\n",
      "48\n"
     ]
    }
   ],
   "source": [
    "arr = np.array([[1, 2, 3], [4, 5, 6]])\n",
    "\n",
    "print(arr.ndim)\n",
    "print(arr.shape)    \n",
    "print(arr.size)\n",
    "print(arr.dtype)    \n",
    "print(arr.itemsize)   \n",
    "print(arr.nbytes)   \n"
   ]
  },
  {
   "cell_type": "markdown",
   "metadata": {},
   "source": [
    "# Why Use `ndarray`?\n",
    "\n",
    "- **Speed**: Much faster than Python lists due to internal optimizations (C-based).\n",
    "- **Memory Efficiency**: Uses less memory than a list of lists.\n",
    "- **Functionality**: Supports a wide range of mathematical, logical, and statistical operations.\n",
    "- **Broadcasting**: Allows operations on arrays of different shapes.\n",
    "- **Convenience**: Comes with lots of helpful methods and functions for reshaping, slicing, aggregation, and more.\n"
   ]
  }
 ],
 "metadata": {
  "kernelspec": {
   "display_name": "env",
   "language": "python",
   "name": "python3"
  },
  "language_info": {
   "codemirror_mode": {
    "name": "ipython",
    "version": 3
   },
   "file_extension": ".py",
   "mimetype": "text/x-python",
   "name": "python",
   "nbconvert_exporter": "python",
   "pygments_lexer": "ipython3",
   "version": "3.13.3"
  }
 },
 "nbformat": 4,
 "nbformat_minor": 2
}
