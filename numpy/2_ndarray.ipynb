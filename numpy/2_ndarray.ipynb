{
 "cells": [
  {
   "cell_type": "markdown",
   "metadata": {},
   "source": [
    "### ndarray / multidimensional array :\n",
    "\n",
    "- ndarray stands for N-dimensional array. It is the core data structure provided by NumPy for storing arrays of any number of dimensions.\n",
    "\n",
    "- A NumPy ndarray is a homogeneous, multidimensional, contiguous memory array object that stores elements of the same data type.\n",
    "\n",
    "- This is the primary object used in NumPy to store and operate on data efficiently."
   ]
  },
  {
   "cell_type": "markdown",
   "metadata": {},
   "source": [
    "### creating an ndarray "
   ]
  },
  {
   "cell_type": "code",
   "execution_count": 1,
   "metadata": {},
   "outputs": [
    {
     "name": "stdout",
     "output_type": "stream",
     "text": [
      "[1 2 3]\n"
     ]
    }
   ],
   "source": [
    "import numpy as np\n",
    "\n",
    "arr1 = np.array([1, 2, 3])                      # 1D array\n",
    "arr2 = np.array([[1, 2], [3, 4]])               # 2D array\n",
    "arr3 = np.array([[[1], [2]], [[3], [4]]])       # 3D array\n",
    "print(arr1)"
   ]
  },
  {
   "cell_type": "code",
   "execution_count": 9,
   "metadata": {},
   "outputs": [
    {
     "name": "stdout",
     "output_type": "stream",
     "text": [
      "<class 'numpy.ndarray'>\n",
      "[[10 20 30]\n",
      " [10 20 30]]\n"
     ]
    }
   ],
   "source": [
    "import numpy as np\n",
    "\n",
    "a = np.array([[1, 2, 3], [1,2,3]])\n",
    "print(type(a))  # <class 'numpy.ndarray'>\n",
    "\n",
    "x =a * 10\n",
    "print(x)\n"
   ]
  },
  {
   "cell_type": "markdown",
   "metadata": {},
   "source": [
    "### Key properties of ndarray:\n",
    "\n",
    "- 1.  `.ndim`\n",
    "   \n",
    "    - number of dimension of array(axes) \n",
    "\n",
    "- 2. `.shape`\n",
    "   \n",
    "   - tuple representing the size of each dimension \n",
    "\n",
    "- 3. `.size` \n",
    "   \n",
    "   - totsl number of element \n",
    "\n",
    "- 4. `.dtype`\n",
    "\n",
    "   - data type of the element \n",
    "   \n",
    "- 5. `.itemsize`\n",
    "  \n",
    "   - size in bytes of each element \n",
    "\n",
    "- 6. `.nbytes`\n",
    "\n",
    "   - total bytes consumes (size * itemsize)             "
   ]
  },
  {
   "cell_type": "code",
   "execution_count": null,
   "metadata": {},
   "outputs": [
    {
     "name": "stdout",
     "output_type": "stream",
     "text": [
      "2\n",
      "(2, 3)\n",
      "6\n",
      "int64\n",
      "8\n",
      "48\n"
     ]
    }
   ],
   "source": [
    "arr = np.array([[1, 2, 3], [4, 5, 6]])\n",
    "\n",
    "print(arr.ndim)\n",
    "print(arr.shape)    \n",
    "print(arr.size)\n",
    "print(arr.dtype)    \n",
    "print(arr.itemsize)   \n",
    "print(arr.nbytes)   \n"
   ]
  },
  {
   "cell_type": "markdown",
   "metadata": {},
   "source": [
    "# Why Use `ndarray`?\n",
    "\n",
    "- **Speed**: Much faster than Python lists due to internal optimizations (C-based).\n",
    "- **Memory Efficiency**: Uses less memory than a list of lists.\n",
    "- **Functionality**: Supports a wide range of mathematical, logical, and statistical operations.\n",
    "- **Broadcasting**: Allows operations on arrays of different shapes.\n",
    "- **Convenience**: Comes with lots of helpful methods and functions for reshaping, slicing, aggregation, and more.\n"
   ]
  },
  {
   "cell_type": "markdown",
   "metadata": {},
   "source": [
    " ### data type for ndarray\n",
    "\n",
    " - The data type or dtype is a special object containing the information (or metadata,\n",
    "   data about data) the ndarray needs to interpret a chunk of memory as a particular\n",
    "   type of data:"
   ]
  },
  {
   "cell_type": "code",
   "execution_count": 16,
   "metadata": {},
   "outputs": [
    {
     "name": "stdout",
     "output_type": "stream",
     "text": [
      "float64\n",
      "int32\n",
      "float64\n"
     ]
    }
   ],
   "source": [
    "import numpy as np\n",
    "\n",
    "arr1 = np.array([1,23,4] , dtype = np.float64)\n",
    "arr2 = np.array([1,23,4] , dtype = np.int32)\n",
    "arr3 = np.array([[1,2.2,3],[4,5,6]])\n",
    "print(arr1.dtype)\n",
    "print(arr2.dtype)\n",
    "print(arr3.dtype)\n",
    "\n",
    "\n"
   ]
  },
  {
   "cell_type": "markdown",
   "metadata": {},
   "source": [
    "# Common NumPy Data Types\n",
    "\n",
    "| Data Type   | Description                        | Example / Size         |\n",
    "|-------------|------------------------------------|-------------------------|\n",
    "| `int8`      | Integer (-128 to 127)              | 1 byte                 |\n",
    "| `int16`     | Integer (-32k to 32k)              | 2 bytes                |\n",
    "| `int32`     | Integer (standard 32-bit)          | 4 bytes                |\n",
    "| `int64`     | Integer (large 64-bit)             | 8 bytes                |\n",
    "| `float16`   | Half precision float               | 2 bytes                |\n",
    "| `float32`   | Single precision float             | 4 bytes                |\n",
    "| `float64`   | Double precision float             | 8 bytes                |\n",
    "| `bool_`     | Boolean (True/False)               | 1 byte                 |\n",
    "| `complex64` | Complex number (real + imag)       | 8 bytes                |\n",
    "| `U10`       | Unicode string (max length 10)     | String data            |\n",
    "| `object`    | Python object (slow, flexible)     | Mixed types            |\n"
   ]
  },
  {
   "cell_type": "markdown",
   "metadata": {},
   "source": [
    "# NumPy Data Types: Summary Table\n",
    "\n",
    "| Type              | Code(s)     | Description                                               |\n",
    "|-------------------|-------------|-----------------------------------------------------------|\n",
    "| `int8` / `uint8`   | `i1` / `u1` | Signed / Unsigned 8-bit (1 byte) integer                  |\n",
    "| `int16` / `uint16` | `i2` / `u2` | Signed / Unsigned 16-bit (2 bytes) integer                |\n",
    "| `int32` / `uint32` | `i4` / `u4` | Signed / Unsigned 32-bit (4 bytes) integer                |\n",
    "| `int64` / `uint64` | `i8` / `u8` | Signed / Unsigned 64-bit (8 bytes) integer                |\n",
    "| `float16`          | `f2`        | Half-precision floating-point (2 bytes)                   |\n",
    "| `float32`          | `f4` or `f` | Single-precision float (standard C float)                 |\n",
    "| `float64`          | `f8` or `d` | Double-precision float (Python float object)              |\n",
    "| `float128`         | `f16` or `g`| Extended-precision float (platform dependent)             |\n",
    "| `complex64`        | `c8`        | Complex number with two 32-bit floats (real + imag)       |\n",
    "| `complex128`       | `c16`       | Complex nu\n"
   ]
  },
  {
   "cell_type": "markdown",
   "metadata": {},
   "source": [
    "- You can explicitly convert and cast one data type to other data type using ndarray `astype` method "
   ]
  },
  {
   "cell_type": "code",
   "execution_count": null,
   "metadata": {},
   "outputs": [
    {
     "name": "stdout",
     "output_type": "stream",
     "text": [
      "int64\n",
      "[[1. 2. 3. 4.]\n",
      " [1. 2. 3. 4.]]\n",
      "float64\n"
     ]
    }
   ],
   "source": [
    "import numpy as np\n",
    "\n",
    "arr = np.array([[1,2,3,4],[1,2,3,4]])\n",
    "print(arr.dtype)\n",
    "\n",
    "float_arr = arr.astype(np.float64)\n",
    "print(float_arr)\n",
    "print(float_arr.dtype)\n",
    "\n",
    "# in this example you convert this into int to float "
   ]
  },
  {
   "cell_type": "code",
   "execution_count": null,
   "metadata": {},
   "outputs": [
    {
     "name": "stdout",
     "output_type": "stream",
     "text": [
      "float64\n",
      "[ 3 -1 -2  0 12 10]\n",
      "int32\n"
     ]
    }
   ],
   "source": [
    "import numpy as np\n",
    "arr = np.array([3.7, -1.2, -2.6, 0.5, 12.9, 10.1])\n",
    "print(arr.dtype)\n",
    "\n",
    "int_arr = arr.astype(np.int32)\n",
    "print(int_arr)\n",
    "print(int_arr.dtype)\n",
    "\n",
    "# In this example, integers were cast to floating point. If I cast some floating-point numbers to be of integer data type, the decimal part will be truncated:"
   ]
  },
  {
   "cell_type": "code",
   "execution_count": 4,
   "metadata": {},
   "outputs": [
    {
     "name": "stdout",
     "output_type": "stream",
     "text": [
      "<U4\n",
      "[ 1.25 -9.6  42.  ]\n"
     ]
    }
   ],
   "source": [
    "# If you have an array of strings representing numbers, you can use astype to convert them to numeric form:\n",
    "import numpy as np\n",
    "\n",
    "numeric_strings = np.array([\"1.25\", \"-9.6\", \"42\"], dtype=str)  # Best practice in NumPy 2.0\n",
    "print(numeric_strings.dtype)          # Will show <U4 (Unicode string of length 4)\n",
    "print(numeric_strings.astype(float))  # Converts strings to floats\n"
   ]
  },
  {
   "cell_type": "markdown",
   "metadata": {},
   "source": [
    "- using another array dtype\n",
    "\n",
    "   - you can use the dtype of one array to cast another array to the same data type \n",
    "   - example in code "
   ]
  },
  {
   "cell_type": "code",
   "execution_count": 3,
   "metadata": {},
   "outputs": [
    {
     "data": {
      "text/plain": [
       "array([0., 1., 2., 3., 4., 5., 6., 7., 8., 9.])"
      ]
     },
     "execution_count": 3,
     "metadata": {},
     "output_type": "execute_result"
    }
   ],
   "source": [
    "int_array = np.arange(10)  # creates array: [0, 1, 2, ..., 9], dtype=int64 by default\n",
    "calibers = np.array([.22, .270, .357, .380, .44, .50], dtype=np.float64)  # dtype=float64\n",
    "\n",
    "int_array.astype(calibers.dtype)\n"
   ]
  },
  {
   "cell_type": "markdown",
   "metadata": {},
   "source": [
    "# Shorthand dtype codes in NumPy\n",
    "\n",
    "Instead of typing the full dtype name (like `np.uint32`), NumPy allows you to use **type code strings**:\n",
    "\n",
    "- `\"u4\"` means **unsigned 4-byte integer**, which corresponds to `np.uint32`.\n",
    "- `\"i4\"` means **signed 4-byte integer**, corresponding to `np.int32`.\n",
    "- `\"f8\"` means **8-byte float**, corresponding to `np.float64`.\n"
   ]
  }
 ],
 "metadata": {
  "kernelspec": {
   "display_name": "env",
   "language": "python",
   "name": "python3"
  },
  "language_info": {
   "codemirror_mode": {
    "name": "ipython",
    "version": 3
   },
   "file_extension": ".py",
   "mimetype": "text/x-python",
   "name": "python",
   "nbconvert_exporter": "python",
   "pygments_lexer": "ipython3",
   "version": "3.13.3"
  }
 },
 "nbformat": 4,
 "nbformat_minor": 2
}
