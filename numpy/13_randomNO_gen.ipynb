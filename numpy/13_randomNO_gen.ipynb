{
 "cells": [
  {
   "cell_type": "markdown",
   "metadata": {},
   "source": [
    "# Pseudorandom Number Generation\n",
    "\n",
    "- Pseudorandom numbers are not truly random. Instead, they are deterministically generated using mathematical formulas or algorithms.\n",
    "\n",
    "- The sequence appears random, but it is predictable if you know the starting point, which is called the seed."
   ]
  },
  {
   "cell_type": "markdown",
   "metadata": {},
   "source": [
    "## Why Use NumPy for Random Numbers?\n",
    "\n",
    "- NumPy provides a powerful random module that allows you to:\n",
    "\n",
    "- Generate random numbers from uniform, normal, and other distributions.\n",
    "\n",
    "- Create random integers, floating point numbers, shuffled arrays, and more.\n",
    "\n",
    "- Control reproducibility with a seed value.\n",
    "\n"
   ]
  },
  {
   "cell_type": "code",
   "execution_count": 1,
   "metadata": {},
   "outputs": [
    {
     "name": "stdout",
     "output_type": "stream",
     "text": [
      "[[-0.84607316  0.12181762  1.3496182   1.66828831]\n",
      " [ 1.12114385 -0.90922624 -0.20067742  0.19840471]\n",
      " [-1.02061192 -2.18095391  0.08877509  0.65908125]\n",
      " [-0.28743447  0.15494369 -1.25511876 -0.2211089 ]]\n"
     ]
    }
   ],
   "source": [
    "# example \n",
    "import numpy as np \n",
    "sample = np.random.standard_normal(size=(4,4))\n",
    "print(sample)"
   ]
  },
  {
   "cell_type": "markdown",
   "metadata": {},
   "source": [
    "In NumPy, when we generate \"random\" numbers, they are not truly random.\n",
    "They are pseudorandom, which means:\n",
    "\n",
    "- They look random, but are actually generated using a formula that follows a pattern.\n",
    "  So, they are deterministic — if you start with the same setup, you get the same result.\n",
    "\n",
    "- numpy has some built in systems that generate which helps you to generate random numbers \n",
    "    - by defalult ```np.random.standard_normal(size = (4 ,4))```  , \n",
    "  you are using numpy default random number generator \n",
    "\n"
   ]
  },
  {
   "cell_type": "markdown",
   "metadata": {},
   "source": [
    "But sometimes, especially in research or testing, you may want to:\n",
    "\n",
    " - Control how random numbers are generated.\n",
    "\n",
    " - Make sure you can reproduce the same results every time.\n",
    "\n"
   ]
  },
  {
   "cell_type": "markdown",
   "metadata": {},
   "source": [
    "solution is to create your generator "
   ]
  },
  {
   "cell_type": "code",
   "execution_count": null,
   "metadata": {},
   "outputs": [],
   "source": [
    "# you can create your generator like this \n",
    "rng = np.random.default_rng(seed=12345)\n",
    "\n",
    "# rng is your personal generator \n",
    "# seed= 1234 is ensures that every time you run the code \n",
    "# It's like planting the same seed in a garden—you know what will grow.\n"
   ]
  },
  {
   "cell_type": "markdown",
   "metadata": {},
   "source": [
    "now use rng to generate random numbers "
   ]
  },
  {
   "cell_type": "code",
   "execution_count": 4,
   "metadata": {},
   "outputs": [
    {
     "name": "stdout",
     "output_type": "stream",
     "text": [
      "[[-1.3677927   0.6488928   0.36105811]\n",
      " [-1.95286306  2.34740965  0.96849691]]\n"
     ]
    }
   ],
   "source": [
    "data = rng.standard_normal((2, 3))\n",
    "print(data)\n"
   ]
  },
  {
   "cell_type": "markdown",
   "metadata": {},
   "source": [
    "### Advantage of Using Your Own Generator\n",
    "  - rng is independent from the global np.random, so other code won't affect it.\n",
    "\n",
    "  - You can manage randomness better, especially in large projects or simulations."
   ]
  },
  {
   "cell_type": "markdown",
   "metadata": {},
   "source": [
    "example "
   ]
  },
  {
   "cell_type": "code",
   "execution_count": 5,
   "metadata": {},
   "outputs": [
    {
     "name": "stdout",
     "output_type": "stream",
     "text": [
      "[[-1.42382504  1.26372846 -0.87066174]\n",
      " [-0.25917323 -0.07534331 -0.74088465]]\n"
     ]
    }
   ],
   "source": [
    "import numpy as np\n",
    "\n",
    "rng = np.random.default_rng(seed=12345)\n",
    "data = rng.standard_normal((2, 3))\n",
    "print(data)\n"
   ]
  },
  {
   "cell_type": "markdown",
   "metadata": {},
   "source": [
    "# numpy random number generator method "
   ]
  },
  {
   "cell_type": "markdown",
   "metadata": {},
   "source": [
    "1 . ```permutation()``` \n",
    "\n",
    "- Returns a new randomly permuted version of a sequence or range\n",
    "- In this The original array remains unchanged"
   ]
  },
  {
   "cell_type": "code",
   "execution_count": 17,
   "metadata": {},
   "outputs": [
    {
     "name": "stdout",
     "output_type": "stream",
     "text": [
      "[1 3 9 6 7 4 5 0 8 2]\n",
      "[1 3 9 6 7 4 5 0 8 2]\n"
     ]
    }
   ],
   "source": [
    "import numpy as np\n",
    "arr = np.array([1,2,3,4,5,6,7,8,9,0])\n",
    "permuted = np.random.permutation(arr)\n",
    "print(permuted)\n",
    "print(permuted)"
   ]
  },
  {
   "cell_type": "markdown",
   "metadata": {},
   "source": [
    "2. ```shuffle()```\n",
    "\n",
    "-  Randomly shuffles the original array in place\n",
    "-  modifies the original array directly  "
   ]
  },
  {
   "cell_type": "code",
   "execution_count": 21,
   "metadata": {},
   "outputs": [
    {
     "name": "stdout",
     "output_type": "stream",
     "text": [
      "[1 3 2 4 5]\n"
     ]
    }
   ],
   "source": [
    "arr = np.array([1, 2, 3, 4, 5])\n",
    "np.random.shuffle(arr)\n",
    "print(arr)\n"
   ]
  },
  {
   "cell_type": "markdown",
   "metadata": {},
   "source": [
    "3. ```uniform()```\n",
    "   \n",
    "- Generates random numbers uniformly between a specified low and high.\n",
    "- Every number in the range has equal chance of appearing.\n",
    "\n"
   ]
  },
  {
   "cell_type": "code",
   "execution_count": 43,
   "metadata": {},
   "outputs": [
    {
     "name": "stdout",
     "output_type": "stream",
     "text": [
      "[1.97306061 3.48340794 3.7350239  1.47457441 3.944616  ]\n"
     ]
    }
   ],
   "source": [
    "# From [1.0, 5.0), size=5\n",
    "samples = np.random.uniform(1.0, 5.0, size=5)\n",
    "print(samples)\n"
   ]
  },
  {
   "cell_type": "markdown",
   "metadata": {},
   "source": [
    "4. ```range()```\n",
    "\n",
    "- generate a random integer in a give range [low , high]"
   ]
  },
  {
   "cell_type": "code",
   "execution_count": 33,
   "metadata": {},
   "outputs": [
    {
     "name": "stdout",
     "output_type": "stream",
     "text": [
      "[18 12 18 16 11]\n"
     ]
    }
   ],
   "source": [
    "rng = np.random.default_rng()\n",
    "rand_ints = rng.integers(10, 20, size=5)\n",
    "print(rand_ints)\n",
    "#  Numbers will be between 10 (inclusive) and 20 (exclusive)."
   ]
  }
 ],
 "metadata": {
  "kernelspec": {
   "display_name": "env",
   "language": "python",
   "name": "python3"
  },
  "language_info": {
   "codemirror_mode": {
    "name": "ipython",
    "version": 3
   },
   "file_extension": ".py",
   "mimetype": "text/x-python",
   "name": "python",
   "nbconvert_exporter": "python",
   "pygments_lexer": "ipython3",
   "version": "3.13.3"
  }
 },
 "nbformat": 4,
 "nbformat_minor": 2
}
