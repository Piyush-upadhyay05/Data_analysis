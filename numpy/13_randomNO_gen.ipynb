{
 "cells": [
  {
   "cell_type": "markdown",
   "metadata": {},
   "source": [
    "1 . ```permutation()``` \n",
    "\n",
    "- Returns a new randomly permuted version of a sequence or range\n",
    "- In this The original array remains unchanged"
   ]
  },
  {
   "cell_type": "code",
   "execution_count": 17,
   "metadata": {},
   "outputs": [
    {
     "name": "stdout",
     "output_type": "stream",
     "text": [
      "[1 3 9 6 7 4 5 0 8 2]\n",
      "[1 3 9 6 7 4 5 0 8 2]\n"
     ]
    }
   ],
   "source": [
    "import numpy as np\n",
    "arr = np.array([1,2,3,4,5,6,7,8,9,0])\n",
    "permuted = np.random.permutation(arr)\n",
    "print(permuted)\n",
    "print(permuted)"
   ]
  },
  {
   "cell_type": "markdown",
   "metadata": {},
   "source": [
    "2. ```shuffle()```\n",
    "\n",
    "-  Randomly shuffles the original array in place\n",
    "-  modifies the original array directly  "
   ]
  },
  {
   "cell_type": "code",
   "execution_count": 21,
   "metadata": {},
   "outputs": [
    {
     "name": "stdout",
     "output_type": "stream",
     "text": [
      "[1 3 2 4 5]\n"
     ]
    }
   ],
   "source": [
    "arr = np.array([1, 2, 3, 4, 5])\n",
    "np.random.shuffle(arr)\n",
    "print(arr)\n"
   ]
  },
  {
   "cell_type": "markdown",
   "metadata": {},
   "source": [
    "3. ```uniform()```\n",
    "   \n",
    "- Generates random numbers uniformly between a specified low and high.\n",
    "- Every number in the range has equal chance of appearing.\n",
    "\n"
   ]
  },
  {
   "cell_type": "code",
   "execution_count": 43,
   "metadata": {},
   "outputs": [
    {
     "name": "stdout",
     "output_type": "stream",
     "text": [
      "[1.97306061 3.48340794 3.7350239  1.47457441 3.944616  ]\n"
     ]
    }
   ],
   "source": [
    "# From [1.0, 5.0), size=5\n",
    "samples = np.random.uniform(1.0, 5.0, size=5)\n",
    "print(samples)\n"
   ]
  },
  {
   "cell_type": "markdown",
   "metadata": {},
   "source": [
    "4. ```integer()```\n",
    "\n",
    "- generate a random integer in a give range [low , high]"
   ]
  },
  {
   "cell_type": "code",
   "execution_count": 33,
   "metadata": {},
   "outputs": [
    {
     "name": "stdout",
     "output_type": "stream",
     "text": [
      "[18 12 18 16 11]\n"
     ]
    }
   ],
   "source": [
    "rng = np.random.default_rng()\n",
    "rand_ints = rng.integers(10, 20, size=5)\n",
    "print(rand_ints)\n",
    "#  Numbers will be between 10 (inclusive) and 20 (exclusive)."
   ]
  },
  {
   "cell_type": "markdown",
   "metadata": {},
   "source": [
    "5. ```standard_normal()```\n",
    "\n",
    "- use: Samples from a normal distribution with:\n",
    "\n",
    "   - mean = 0\n",
    "\n",
    "   - standard deviation = 1"
   ]
  },
  {
   "cell_type": "code",
   "execution_count": 49,
   "metadata": {},
   "outputs": [
    {
     "name": "stdout",
     "output_type": "stream",
     "text": [
      "[[-1.55277255 -0.00505552 -0.7528694 ]\n",
      " [ 0.66914956 -0.43842817 -0.58376148]]\n"
     ]
    }
   ],
   "source": [
    "data = np.random.standard_normal(size=(2, 3))\n",
    "print(data)\n"
   ]
  },
  {
   "cell_type": "markdown",
   "metadata": {},
   "source": [
    "6. ```binomial()```\n",
    "   \n",
    "- samples from a binomial distribution(like coin toss)"
   ]
  },
  {
   "cell_type": "code",
   "execution_count": 52,
   "metadata": {},
   "outputs": [
    {
     "name": "stdout",
     "output_type": "stream",
     "text": [
      "[2 7 4 6 6]\n"
     ]
    }
   ],
   "source": [
    "# 10 trials, probability of success = 0.5, size = 5 samples\n",
    "samples = np.random.binomial(n=10, p=0.5, size=5)\n",
    "print(samples)\n"
   ]
  },
  {
   "cell_type": "markdown",
   "metadata": {},
   "source": [
    "7. ```normal()```\n",
    "\n",
    "- draw samples for a gaussian(normal) distribution "
   ]
  },
  {
   "cell_type": "code",
   "execution_count": null,
   "metadata": {},
   "outputs": [
    {
     "name": "stdout",
     "output_type": "stream",
     "text": [
      "[6.08855602 8.31437473 5.69418749 0.08039137 7.05789213]\n"
     ]
    }
   ],
   "source": [
    "# Mean = 5, Std dev = 2, size = 5\n",
    "samples = np.random.normal(loc=5, scale=2, size=5)\n",
    "print(samples)\n",
    "# you can customize mean and standard deviation"
   ]
  },
  {
   "cell_type": "markdown",
   "metadata": {},
   "source": [
    "8. ```beta()```\n",
    "\n",
    "-  Samples from a Beta distribution (values between 0 and 1, used in probability models)."
   ]
  },
  {
   "cell_type": "code",
   "execution_count": null,
   "metadata": {},
   "outputs": [
    {
     "name": "stdout",
     "output_type": "stream",
     "text": [
      "[0.17930371 0.66423091 0.05992835 0.31775923 0.07586219]\n"
     ]
    }
   ],
   "source": [
    "samples = np.random.beta(a=2.0, b=5.0, size=5)\n",
    "print(samples)\n",
    "# Used in Bayesian statistics and modeling."
   ]
  },
  {
   "cell_type": "markdown",
   "metadata": {},
   "source": [
    "9. ```chisquare()```\n",
    "\n",
    "- draw samples on chisquare division"
   ]
  },
  {
   "cell_type": "code",
   "execution_count": 56,
   "metadata": {},
   "outputs": [
    {
     "name": "stdout",
     "output_type": "stream",
     "text": [
      "[1.42233271 0.05705022 6.96595147 2.66312916 3.34446091]\n"
     ]
    }
   ],
   "source": [
    "samples = np.random.chisquare(df=2, size=5)\n",
    "print(samples)\n",
    "# Useful in hypothesis testing and statistics"
   ]
  },
  {
   "cell_type": "markdown",
   "metadata": {},
   "source": [
    "9. ```gamma()```\n",
    "\n",
    "- draw a samples from a gamma distribution "
   ]
  },
  {
   "cell_type": "code",
   "execution_count": 58,
   "metadata": {},
   "outputs": [
    {
     "name": "stdout",
     "output_type": "stream",
     "text": [
      "[5.06596603 4.88838348 2.82310162 2.70102069 3.42506482]\n"
     ]
    }
   ],
   "source": [
    "samples = np.random.gamma(shape=2.0, scale=2.0, size=5)\n",
    "print(samples)\n",
    "# Used in survival analysis and queuing models."
   ]
  },
  {
   "cell_type": "markdown",
   "metadata": {},
   "source": [
    "10. ```uniform()```\n",
    "\n",
    "- you mention uniform twice - both are same \n",
    "- it draw a samples from a uniform distribution between [0.0 , 1.0] if no range is specified "
   ]
  },
  {
   "cell_type": "code",
   "execution_count": 59,
   "metadata": {},
   "outputs": [
    {
     "name": "stdout",
     "output_type": "stream",
     "text": [
      "[0.76161175 0.18736801 0.95341128 0.3479759  0.75561306]\n"
     ]
    }
   ],
   "source": [
    "samples = np.random.uniform(size=5)\n",
    "print(samples)\n"
   ]
  },
  {
   "cell_type": "markdown",
   "metadata": {},
   "source": [
    "11 . ```np.random.rand()```\n",
    "\n",
    "- generates random number from a uniform distributions over[(0,1)]\n",
    "\n",
    "- syntax:\n",
    "  -  ``` np.random.rand(d0,d1.....dn)```"
   ]
  },
  {
   "cell_type": "code",
   "execution_count": null,
   "metadata": {},
   "outputs": [
    {
     "name": "stdout",
     "output_type": "stream",
     "text": [
      "[0.40720086 0.29973971 0.84644511 0.68371472 0.57981235]\n"
     ]
    }
   ],
   "source": [
    "import numpy as np \n",
    "print(np.random.rand(5)) # 1D array with random 5 float between 0 to 1"
   ]
  },
  {
   "cell_type": "code",
   "execution_count": 13,
   "metadata": {},
   "outputs": [
    {
     "name": "stdout",
     "output_type": "stream",
     "text": [
      "[[0.8532178  0.96531609 0.51816567 0.80644458 0.71869747 0.57352941]\n",
      " [0.53031151 0.46124243 0.47961519 0.72408586 0.18349746 0.94515915]]\n"
     ]
    }
   ],
   "source": [
    "import numpy as np\n",
    "print(np.random.rand(2,6)) # 2D (2x3) array with random float value "
   ]
  },
  {
   "cell_type": "markdown",
   "metadata": {},
   "source": [
    "12 . ```np.random.randn() ```\n",
    "\n",
    "- generates random number from standard normal distributions (mean=0 ,std = 1)\n",
    "\n",
    "- syntax :\n",
    "  - ``` np.random.randn(d0,d1,.....dn)``` "
   ]
  },
  {
   "cell_type": "code",
   "execution_count": 16,
   "metadata": {},
   "outputs": [
    {
     "name": "stdout",
     "output_type": "stream",
     "text": [
      "[ 0.28303138 -0.57828045 -0.31218043 -1.07285053  0.84005849]\n",
      "[[0.53501886 1.45660246]\n",
      " [0.74518873 0.56362029]]\n"
     ]
    }
   ],
   "source": [
    "print(np.random.randn(5)) #  1D array of 5 values from normal distribution\n",
    "\n",
    "# 2D array (2x2)\n",
    "print(np.random.randn(2, 2))"
   ]
  },
  {
   "cell_type": "markdown",
   "metadata": {},
   "source": [
    "difference between rand() and randn()\n",
    "\n",
    "- rand() is uniform distribution \n",
    "  - randn() is standard normal distribution \n",
    "\n",
    "- rand() range is [o,1]\n",
    "  - randn() range is [-infinte, +infinite] "
   ]
  },
  {
   "cell_type": "markdown",
   "metadata": {},
   "source": [
    "13. ```np.random.randint()``` \n",
    "\n",
    "- it generates random integer between the given range\n",
    "\n",
    "- syntax:\n",
    "  \n",
    "  - ```np.random.randint(low, high=None, size=None)```\n",
    "  - low = strt\n",
    "  - high = end\n",
    "  - size = shape of the output array \n",
    "  "
   ]
  },
  {
   "cell_type": "code",
   "execution_count": 23,
   "metadata": {},
   "outputs": [
    {
     "name": "stdout",
     "output_type": "stream",
     "text": [
      "15\n",
      "[51  7 49 67 17 78 73 92 18 19 49  8  6 84 56 26  7 76 82 13]\n",
      "[[8 9 5]\n",
      " [1 5 3]]\n"
     ]
    }
   ],
   "source": [
    "# single integer between 10 to 20\n",
    "print(np.random.randint(10 , 20))\n",
    "# 1D array of 20 integer between 0 to 100\n",
    "print(np.random.randint(0 , 100, size = 20))\n",
    "# 2D array (2x3) of random integer \n",
    "print(np.random.randint(1,10,size=(2,3)))"
   ]
  },
  {
   "cell_type": "markdown",
   "metadata": {},
   "source": [
    "14 . ```np.random.seed()```\n",
    "\n",
    "- sets the seed for the random number generator to make result reproducible "
   ]
  },
  {
   "cell_type": "code",
   "execution_count": null,
   "metadata": {},
   "outputs": [
    {
     "name": "stdout",
     "output_type": "stream",
     "text": [
      "[0.37454012 0.95071431 0.73199394]\n",
      "[0.37454012 0.95071431 0.73199394]\n",
      "[0.98901151 0.54954473 0.2814473 ]\n"
     ]
    }
   ],
   "source": [
    "np.random.seed(42)\n",
    "print(np.random.rand(3))  # Same result every time you run it\n",
    "\n",
    "np.random.seed(42)\n",
    "print(np.random.rand(3))  # Same again due to same seed\n",
    "\n",
    "np.random.seed(45)\n",
    "print(np.random.rand(3)) # different because different seed \n"
   ]
  },
  {
   "cell_type": "markdown",
   "metadata": {},
   "source": [
    "Very useful when you want your random results to be consistent for testing or demonstration.\n",
    "\n"
   ]
  },
  {
   "cell_type": "markdown",
   "metadata": {},
   "source": [
    "15. ```np.random.choice()```\n",
    "\n",
    "- randomly select an element from 1 D array \n",
    "- syntax:\n",
    "  - ```np.random.choice(array, size=None, replace=True, p=None)```\n",
    "  "
   ]
  },
  {
   "cell_type": "code",
   "execution_count": 26,
   "metadata": {},
   "outputs": [
    {
     "ename": "TypeError",
     "evalue": "'builtin_function_or_method' object is not subscriptable",
     "output_type": "error",
     "traceback": [
      "\u001b[31m---------------------------------------------------------------------------\u001b[39m",
      "\u001b[31mTypeError\u001b[39m                                 Traceback (most recent call last)",
      "\u001b[36mCell\u001b[39m\u001b[36m \u001b[39m\u001b[32mIn[26]\u001b[39m\u001b[32m, line 1\u001b[39m\n\u001b[32m----> \u001b[39m\u001b[32m1\u001b[39m arr = \u001b[43mnp\u001b[49m\u001b[43m.\u001b[49m\u001b[43marray\u001b[49m\u001b[43m[\u001b[49m\u001b[32;43m1\u001b[39;49m\u001b[43m,\u001b[49m\u001b[32;43m23\u001b[39;49m\u001b[43m,\u001b[49m\u001b[32;43m4\u001b[39;49m\u001b[43m,\u001b[49m\u001b[32;43m0\u001b[39;49m\u001b[43m,\u001b[49m\u001b[32;43m9\u001b[39;49m\u001b[43m,\u001b[49m\u001b[32;43m90\u001b[39;49m\u001b[43m]\u001b[49m\n\u001b[32m      2\u001b[39m \u001b[38;5;28mprint\u001b[39m(arr)\n",
      "\u001b[31mTypeError\u001b[39m: 'builtin_function_or_method' object is not subscriptable"
     ]
    }
   ],
   "source": [
    "arr = np.array[1,23,4,0,9,90]\n",
    "print(arr)"
   ]
  }
 ],
 "metadata": {
  "kernelspec": {
   "display_name": "env",
   "language": "python",
   "name": "python3"
  },
  "language_info": {
   "codemirror_mode": {
    "name": "ipython",
    "version": 3
   },
   "file_extension": ".py",
   "mimetype": "text/x-python",
   "name": "python",
   "nbconvert_exporter": "python",
   "pygments_lexer": "ipython3",
   "version": "3.13.3"
  }
 },
 "nbformat": 4,
 "nbformat_minor": 2
}
