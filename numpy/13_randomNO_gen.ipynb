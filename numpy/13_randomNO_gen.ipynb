{
 "cells": [
  {
   "cell_type": "markdown",
   "metadata": {},
   "source": [
    "# Pseudorandom Number Generation\n",
    "\n",
    "- Pseudorandom numbers are not truly random. Instead, they are deterministically generated using mathematical formulas or algorithms.\n",
    "\n",
    "- The sequence appears random, but it is predictable if you know the starting point, which is called the seed."
   ]
  },
  {
   "cell_type": "markdown",
   "metadata": {},
   "source": [
    "## Why Use NumPy for Random Numbers?\n",
    "\n",
    "- NumPy provides a powerful random module that allows you to:\n",
    "\n",
    "- Generate random numbers from uniform, normal, and other distributions.\n",
    "\n",
    "- Create random integers, floating point numbers, shuffled arrays, and more.\n",
    "\n",
    "- Control reproducibility with a seed value.\n",
    "\n"
   ]
  },
  {
   "cell_type": "code",
   "execution_count": 1,
   "metadata": {},
   "outputs": [
    {
     "name": "stdout",
     "output_type": "stream",
     "text": [
      "[[-0.84607316  0.12181762  1.3496182   1.66828831]\n",
      " [ 1.12114385 -0.90922624 -0.20067742  0.19840471]\n",
      " [-1.02061192 -2.18095391  0.08877509  0.65908125]\n",
      " [-0.28743447  0.15494369 -1.25511876 -0.2211089 ]]\n"
     ]
    }
   ],
   "source": [
    "# example \n",
    "import numpy as np \n",
    "sample = np.random.standard_normal(size=(4,4))\n",
    "print(sample)"
   ]
  },
  {
   "cell_type": "markdown",
   "metadata": {},
   "source": [
    "In NumPy, when we generate \"random\" numbers, they are not truly random.\n",
    "They are pseudorandom, which means:\n",
    "\n",
    "- They look random, but are actually generated using a formula that follows a pattern.\n",
    "  So, they are deterministic — if you start with the same setup, you get the same result.\n",
    "\n",
    "- numpy has some built in systems that generate which helps you to generate random numbers \n",
    "    - by defalult ```np.random.standard_normal(size = (4 ,4))```  , \n",
    "  you are using numpy default random number generator \n",
    "\n"
   ]
  },
  {
   "cell_type": "markdown",
   "metadata": {},
   "source": [
    "But sometimes, especially in research or testing, you may want to:\n",
    "\n",
    " - Control how random numbers are generated.\n",
    "\n",
    " - Make sure you can reproduce the same results every time.\n",
    "\n"
   ]
  },
  {
   "cell_type": "markdown",
   "metadata": {},
   "source": [
    "solution is to create your generator "
   ]
  },
  {
   "cell_type": "code",
   "execution_count": null,
   "metadata": {},
   "outputs": [],
   "source": [
    "# you can create your generator like this \n",
    "rng = np.random.default_rng(seed=12345)\n",
    "\n",
    "# rng is your personal generator \n",
    "# seed= 1234 is ensures that every time you run the code \n"
   ]
  },
  {
   "cell_type": "markdown",
   "metadata": {},
   "source": []
  }
 ],
 "metadata": {
  "kernelspec": {
   "display_name": "env",
   "language": "python",
   "name": "python3"
  },
  "language_info": {
   "codemirror_mode": {
    "name": "ipython",
    "version": 3
   },
   "file_extension": ".py",
   "mimetype": "text/x-python",
   "name": "python",
   "nbconvert_exporter": "python",
   "pygments_lexer": "ipython3",
   "version": "3.13.3"
  }
 },
 "nbformat": 4,
 "nbformat_minor": 2
}
