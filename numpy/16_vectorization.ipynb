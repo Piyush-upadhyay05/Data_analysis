{
 "cells": [
  {
   "cell_type": "markdown",
   "metadata": {},
   "source": [
    "## Vectorization \n",
    "\n",
    "- Vectorization refers to the process of replacing explicit loops (typically written in Python) with array expressions that are internally optimized and written in compiled code (C, Fortran, etc.). In simple terms:\n",
    "\n",
    "   - It is the technique of operating on whole arrays (or vectors) of data at once, instead of using Python for loops to operate on individual elements."
   ]
  },
  {
   "cell_type": "code",
   "execution_count": null,
   "metadata": {},
   "outputs": [
    {
     "name": "stdout",
     "output_type": "stream",
     "text": [
      "44.0\n"
     ]
    }
   ],
   "source": [
    "# example loop vs vectorization :\n",
    "import numpy as np\n",
    "\n",
    "a = np.array([1, 2, 3, 4])\n",
    "b = np.array([10, 20, 30, 40])\n",
    "c = np.zeros(4)\n",
    "\n",
    "for i in range(len(a)):\n",
    "    c[i] = a[i] + b[i]\n",
    "\n"
   ]
  },
  {
   "cell_type": "code",
   "execution_count": 6,
   "metadata": {},
   "outputs": [
    {
     "name": "stdout",
     "output_type": "stream",
     "text": [
      "[11 22 33 44]\n"
     ]
    }
   ],
   "source": [
    "# vectorized way \n",
    "c = a + b\n",
    "print(c)\n"
   ]
  },
  {
   "cell_type": "markdown",
   "metadata": {},
   "source": [
    "### vectorization in mathematical term "
   ]
  },
  {
   "cell_type": "code",
   "execution_count": 12,
   "metadata": {},
   "outputs": [
    {
     "name": "stdout",
     "output_type": "stream",
     "text": [
      "[1, 2, 3, 4, 5, 1, 2, 3, 4, 5]\n"
     ]
    }
   ],
   "source": [
    "import array as np\n",
    "A = [1, 2,3,4,5] # two vectors \n",
    "B = [1, 2,3,4,5]\n",
    "c = A+B\n",
    "print(c)\n"
   ]
  },
  {
   "cell_type": "markdown",
   "metadata": {},
   "source": [
    "### common vectorization operations in numpy \n",
    "| Operation      | Example (Vectorized) | Description                  |\n",
    "| -------------- | -------------------- | ---------------------------- |\n",
    "| Addition       | `a + b`              | Element-wise addition        |\n",
    "| Subtraction    | `a - b`              | Element-wise subtraction     |\n",
    "| Multiplication | `a * b`              | Element-wise multiplication  |\n",
    "| Dot Product    | `np.dot(a, b)`       | Matrix/vector multiplication |\n",
    "| Exponentiation | `np.exp(a)`          | Element-wise exponential     |\n",
    "| Boolean Masks  | `a[a > 5]`           | Filtering elements           |\n",
    "| Broadcasting   | `a + 10`             | Scalar-vector operation      |\n"
   ]
  }
 ],
 "metadata": {
  "kernelspec": {
   "display_name": "env",
   "language": "python",
   "name": "python3"
  },
  "language_info": {
   "codemirror_mode": {
    "name": "ipython",
    "version": 3
   },
   "file_extension": ".py",
   "mimetype": "text/x-python",
   "name": "python",
   "nbconvert_exporter": "python",
   "pygments_lexer": "ipython3",
   "version": "3.13.3"
  }
 },
 "nbformat": 4,
 "nbformat_minor": 2
}
