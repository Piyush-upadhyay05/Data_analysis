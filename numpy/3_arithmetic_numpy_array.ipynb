{
 "cells": [
  {
   "cell_type": "markdown",
   "metadata": {},
   "source": [
    "# ARITHMETIC WITH NUMPY ARRAYS"
   ]
  },
  {
   "cell_type": "markdown",
   "metadata": {},
   "source": [
    "### Arrays in Python\n",
    "\n",
    "An **array** is a data structure that stores a collection of elements, usually of the same data type, in a contiguous block of memory. Arrays allow efficient access and manipulation of these elements using indices.\n",
    "\n",
    "Arrays are important because they enable you to express batch operations on data\n",
    "without writing any for loops. NumPy users call this vectorization. Any arithmetic\n",
    "operations between equal-size arrays apply the operation element-wise:\n",
    "\n",
    "## Arrays in Python\n",
    "\n",
    "Python does not have a built-in array data type like some other languages (e.g., C or Java). However, Python provides several ways to work with arrays:\n",
    "\n",
    "### 1. List (Python's built-in sequence)\n",
    "\n",
    "- The closest built-in Python data structure to an array is the **list**.\n",
    "- Lists can store elements of different types (not limited to a single type).\n",
    "- Lists are flexible but not as memory-efficient or fast for numerical computations as arrays in specialized libraries.\n",
    "\n",
    "Example:\n",
    "```python\n",
    "my_list = [1, 2, 3, 4, 5]\n",
    "print(my_list[0])  # Output: 1\n"
   ]
  },
  {
   "cell_type": "markdown",
   "metadata": {},
   "source": [
    "### What is Vectorization?\n",
    "\n",
    "Arrays are important because they enable you to express **batch operations** on data without writing explicit `for` loops. This process is called **vectorization** in NumPy.\n",
    "\n",
    "**Vectorization** means performing operations on entire arrays (or large blocks of data) at once, rather than iterating element-by-element with loops. This allows you to write cleaner, faster, and more efficient code.\n",
    "\n",
    "For example, when you perform arithmetic operations between two arrays of the same size, NumPy applies the operation **element-wise** automatically:\n",
    "\n",
    "- example \n"
   ]
  },
  {
   "cell_type": "code",
   "execution_count": null,
   "metadata": {},
   "outputs": [
    {
     "name": "stdout",
     "output_type": "stream",
     "text": [
      "[5 7 9]\n"
     ]
    }
   ],
   "source": [
    "import numpy as np\n",
    "\n",
    "a = np.array([1, 2, 3])\n",
    "b = np.array([4, 5, 6])\n",
    "\n",
    "c = a + b  # Adds elements one by one: [1+4, 2+5, 3+6] -> [5, 7, 9]\n",
    "print(c)  "
   ]
  },
  {
   "cell_type": "markdown",
   "metadata": {},
   "source": [
    "##### example of arithmetic with numpy array"
   ]
  },
  {
   "cell_type": "markdown",
   "metadata": {},
   "source": [
    "- 1. basic arithemetic operations "
   ]
  },
  {
   "cell_type": "code",
   "execution_count": 6,
   "metadata": {},
   "outputs": [
    {
     "name": "stdout",
     "output_type": "stream",
     "text": [
      "Addition: [5 7 9]\n",
      "Subtraction: [3 3 3]\n",
      "Multiplication: [ 4 10 18]\n",
      "Division: [4.  2.5 2. ]\n",
      "Power: [ 1  8 27]\n"
     ]
    }
   ],
   "source": [
    "import numpy as np\n",
    "\n",
    "a = np.array([1, 2, 3])\n",
    "b = np.array([4, 5, 6])\n",
    "\n",
    "print(\"Addition:\", a + b)            \n",
    "print(\"Subtraction:\", b - a)         \n",
    "print(\"Multiplication:\", a * b)     \n",
    "print(\"Division:\", b / a)           \n",
    "print(\"Power:\", a ** 3) "
   ]
  },
  {
   "cell_type": "markdown",
   "metadata": {},
   "source": [
    "- 2. broadcasting \n",
    "  \n",
    "   - NumPy supports broadcasting, which lets you perform operations between arrays of different shapes as long as they are compatible.\n",
    "\n",
    " "
   ]
  },
  {
   "cell_type": "code",
   "execution_count": null,
   "metadata": {},
   "outputs": [
    {
     "name": "stdout",
     "output_type": "stream",
     "text": [
      "[11 12 13 14]\n"
     ]
    }
   ],
   "source": [
    "import numpy as np\n",
    "\n",
    "a = np.array([1, 2, 3, 4])\n",
    "c = 10\n",
    "print(a + c)  # adds 10 to each element of a\n",
    "\n",
    "# Here, c is a scalar (single value), and NumPy \"broadcasts\" it to each element of a."
   ]
  },
  {
   "cell_type": "markdown",
   "metadata": {},
   "source": [
    "- 3. multidimensional array arithmetic \n",
    "  \n",
    "  -  Arithmetic works similarly for 2D (or higher) arrays, and the operations are element-wise."
   ]
  },
  {
   "cell_type": "code",
   "execution_count": 12,
   "metadata": {},
   "outputs": [
    {
     "name": "stdout",
     "output_type": "stream",
     "text": [
      "[[ -9 -18]\n",
      " [-27 -36]]\n",
      "[[11 22]\n",
      " [33 44]]\n",
      "[[ 10  40]\n",
      " [ 90 160]]\n",
      "[[4 5]\n",
      " [6 7]]\n",
      "[[-8 -7]\n",
      " [-6 -5]]\n"
     ]
    }
   ],
   "source": [
    "import numpy as np\n",
    "\n",
    "A = np.array([[1, 2], [3, 4]])\n",
    "B = np.array([[10, 20], [30, 40]])\n",
    "print(A - B)\n",
    "print(A + B)\n",
    "print(A*B)\n",
    "print(A+3)\n",
    "print(A - 9)\n"
   ]
  },
  {
   "cell_type": "markdown",
   "metadata": {},
   "source": [
    "- 4. using arithmetic function you can also perform the arithmetic operations \n"
   ]
  },
  {
   "cell_type": "code",
   "execution_count": 19,
   "metadata": {},
   "outputs": [
    {
     "name": "stdout",
     "output_type": "stream",
     "text": [
      "[[11 22]\n",
      " [33 44]]\n",
      "       \n",
      "[[ -9 -18]\n",
      " [-27 -36]]\n",
      "       \n",
      "[[ 10  40]\n",
      " [ 90 160]]\n",
      "       \n",
      "[[0.1 0.1]\n",
      " [0.1 0.1]]\n",
      "       \n",
      "[[ 1  4]\n",
      " [ 9 16]]\n",
      "       \n",
      "[[ 1000  8000]\n",
      " [27000 64000]]\n"
     ]
    }
   ],
   "source": [
    "import numpy as np\n",
    "A = np.array([[1, 2], [3, 4]])\n",
    "B = np.array([[10, 20], [30, 40]])\n",
    "print(np.add(A,B))\n",
    "print(\"       \")\n",
    "print(np.subtract(A,B))\n",
    "print(\"       \")\n",
    "print(np.multiply(A,B))\n",
    "print(\"       \")\n",
    "print(np.divide(A,B))\n",
    "print(\"       \")\n",
    "print(np.power(A,2))\n",
    "print(\"       \")\n",
    "print(np.power(B,3))\n"
   ]
  },
  {
   "cell_type": "markdown",
   "metadata": {},
   "source": [
    "- 5. integer division and modulo"
   ]
  },
  {
   "cell_type": "code",
   "execution_count": 20,
   "metadata": {},
   "outputs": [
    {
     "name": "stdout",
     "output_type": "stream",
     "text": [
      "[2 3 3]\n",
      "[1 1 3]\n"
     ]
    }
   ],
   "source": [
    "a = np.array([5, 10, 15])\n",
    "b = np.array([2, 3, 4])\n",
    "\n",
    "print(a // b)  # integer division (floor division)\n",
    "print(a % b)   # modulo (remainder)\n"
   ]
  },
  {
   "cell_type": "markdown",
   "metadata": {},
   "source": [
    "#### Key point \n",
    "\n",
    "- Arithmetic operations do not change the original arrays unless you explicitly assign the result."
   ]
  },
  {
   "cell_type": "code",
   "execution_count": 1,
   "metadata": {},
   "outputs": [
    {
     "ename": "NameError",
     "evalue": "name 'a' is not defined",
     "output_type": "error",
     "traceback": [
      "\u001b[31m---------------------------------------------------------------------------\u001b[39m",
      "\u001b[31mNameError\u001b[39m                                 Traceback (most recent call last)",
      "\u001b[36mCell\u001b[39m\u001b[36m \u001b[39m\u001b[32mIn[1]\u001b[39m\u001b[32m, line 1\u001b[39m\n\u001b[32m----> \u001b[39m\u001b[32m1\u001b[39m c = \u001b[43ma\u001b[49m + b  \u001b[38;5;66;03m# a and b remain unchanged\u001b[39;00m\n",
      "\u001b[31mNameError\u001b[39m: name 'a' is not defined"
     ]
    }
   ],
   "source": [
    "c = a + b  # a and b remain unchanged\n"
   ]
  },
  {
   "cell_type": "markdown",
   "metadata": {},
   "source": [
    "- Operations between arrays of different sizes that cannot be broadcast will raise an error.\n",
    "\n",
    "- If one array has floats and the other has integers, the result will be upcast to floats to preserve precision."
   ]
  }
 ],
 "metadata": {
  "kernelspec": {
   "display_name": "env",
   "language": "python",
   "name": "python3"
  },
  "language_info": {
   "codemirror_mode": {
    "name": "ipython",
    "version": 3
   },
   "file_extension": ".py",
   "mimetype": "text/x-python",
   "name": "python",
   "nbconvert_exporter": "python",
   "pygments_lexer": "ipython3",
   "version": "3.13.3"
  }
 },
 "nbformat": 4,
 "nbformat_minor": 2
}
