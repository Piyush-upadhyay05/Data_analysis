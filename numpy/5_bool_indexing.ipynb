{
 "cells": [
  {
   "cell_type": "markdown",
   "metadata": {},
   "source": [
    "# boolean Indexing\n",
    "\n",
    "- Boolean Indexing means selecting elements from a NumPy array using True/False values (i.e., Boolean values).\n",
    "\n",
    "- It allows us to filter arrays based on conditions.\n",
    "\n",
    "- boolean array must be of same length  "
   ]
  },
  {
   "cell_type": "markdown",
   "metadata": {},
   "source": [
    "### Why is it useful?\n",
    "- It helps when:\n",
    "\n",
    "  - You want only specific values from an array (e.g., all elements greater than 10).\n",
    "\n",
    "  - You want to modify certain elements conditionally."
   ]
  },
  {
   "cell_type": "code",
   "execution_count": null,
   "metadata": {},
   "outputs": [
    {
     "name": "stdout",
     "output_type": "stream",
     "text": [
      "[False False  True  True  True]\n"
     ]
    }
   ],
   "source": [
    "# in 1D array\n",
    "import numpy as np\n",
    "\n",
    "arr = np.array([5, 10, 15, 20, 25])\n",
    "\n",
    "# Condition: select elements greater than 10\n",
    "bool_index = arr > 10\n",
    "print(bool_index)\n"
   ]
  },
  {
   "cell_type": "code",
   "execution_count": 5,
   "metadata": {},
   "outputs": [
    {
     "name": "stdout",
     "output_type": "stream",
     "text": [
      "[5 6 7 8 9]\n"
     ]
    }
   ],
   "source": [
    "# in 2D array\n",
    "arr2d = np.array([[1, 2, 3],\n",
    "                  [4, 5, 6],\n",
    "                  [7, 8, 9]])\n",
    "\n",
    "# Find all elements > 4\n",
    "print(arr2d[arr2d > 4])\n"
   ]
  },
  {
   "cell_type": "code",
   "execution_count": null,
   "metadata": {},
   "outputs": [
    {
     "name": "stdout",
     "output_type": "stream",
     "text": [
      "[[False False]\n",
      " [False False]\n",
      " [False False]]\n",
      "[[ True  True]\n",
      " [ True  True]\n",
      " [ True  True]]\n",
      "[[False False]\n",
      " [False False]\n",
      " [False False]]\n",
      "True\n",
      "False\n"
     ]
    }
   ],
   "source": [
    "# comparison using boolean\n",
    "import numpy as np\n",
    "a = np.array([[1,2],[3,4],[5,6]])\n",
    "b = np.array([[1,2],[3,4],[5,6]])\n",
    "\n",
    "print(b > a)\n",
    "print(a == b)\n",
    "print(a > b)\n",
    "# check all the elements are equal\n",
    "np.array_equal(a,b)\n",
    "\n",
    "# Using np.all() and np.any()\n",
    "print(np.all(a==b))\n",
    "\n",
    "print(np.any(a!=b)) # any element match\n"
   ]
  },
  {
   "cell_type": "code",
   "execution_count": 28,
   "metadata": {},
   "outputs": [
    {
     "name": "stdout",
     "output_type": "stream",
     "text": [
      "[[ True False]\n",
      " [ True False]]\n"
     ]
    }
   ],
   "source": [
    "# compairing two array\n",
    "a = np.array([[1, 2], [3, 4]])\n",
    "b = np.array([[1, 5], [3, 0]])\n",
    "\n",
    "# Element-wise\n",
    "print(a == b)\n"
   ]
  },
  {
   "cell_type": "code",
   "execution_count": 29,
   "metadata": {},
   "outputs": [
    {
     "name": "stdout",
     "output_type": "stream",
     "text": [
      "[False False  True]\n"
     ]
    }
   ],
   "source": [
    "# broadcast comparisioin \n",
    "a = np.array([10, 20, 30])\n",
    "b = 20\n",
    "\n",
    "print(a > b)   # [False False  True]\n"
   ]
  },
  {
   "cell_type": "markdown",
   "metadata": {},
   "source": [
    "using boolean array\n",
    "\n",
    "- You can also use a manually created Boolean array to select values:\n"
   ]
  },
  {
   "cell_type": "code",
   "execution_count": 3,
   "metadata": {},
   "outputs": [
    {
     "name": "stdout",
     "output_type": "stream",
     "text": [
      "['Bob' 'Joe' 'Will' 'Bob' 'Will' 'Joe' 'Joe']\n",
      "[[  4   7]\n",
      " [  0   2]\n",
      " [ -5   6]\n",
      " [  0   0]\n",
      " [  1   2]\n",
      " [-12  -4]\n",
      " [  3   4]]\n",
      "[ True False False  True False False False]\n",
      "[[4 7]\n",
      " [0 0]]\n"
     ]
    }
   ],
   "source": [
    "import numpy as np \n",
    "name = np.array([\"Bob\", \"Joe\", \"Will\", \"Bob\", \"Will\", \"Joe\", \"Joe\"])\n",
    "data = np.array([[4, 7], [0, 2], [-5, 6], [0, 0], [1, 2],[-12,-4], [3,4]])\n",
    "\n",
    "print(name)\n",
    "print(data)\n",
    "\n",
    "print(name==\"Bob\")\n",
    "print(data[name==\"Bob\"])"
   ]
  },
  {
   "cell_type": "markdown",
   "metadata": {},
   "source": [
    "combine condition\n",
    "\n",
    "- Use logical operators:\n",
    "\n",
    "- & for AND\n",
    "\n",
    "- | for OR\n",
    "\n",
    "- ~ for NOT"
   ]
  },
  {
   "cell_type": "code",
   "execution_count": 9,
   "metadata": {},
   "outputs": [
    {
     "name": "stdout",
     "output_type": "stream",
     "text": [
      "[15 20]\n"
     ]
    }
   ],
   "source": [
    "arr = np.array([5, 10, 15, 20, 25])\n",
    "\n",
    "# Select elements > 10 and < 25\n",
    "print(arr[(arr > 10) & (arr < 25)])  # [15 20]\n"
   ]
  },
  {
   "cell_type": "markdown",
   "metadata": {},
   "source": [
    "modifying element using boolean indexing "
   ]
  },
  {
   "cell_type": "code",
   "execution_count": 10,
   "metadata": {},
   "outputs": [
    {
     "name": "stdout",
     "output_type": "stream",
     "text": [
      "[10 20 30  0  0]\n"
     ]
    }
   ],
   "source": [
    "arr = np.array([10, 20, 30, 40, 50])\n",
    "\n",
    "# Change all values > 30 to 0\n",
    "arr[arr > 30] = 0\n",
    "\n",
    "print(arr)\n"
   ]
  }
 ],
 "metadata": {
  "kernelspec": {
   "display_name": "env",
   "language": "python",
   "name": "python3"
  },
  "language_info": {
   "codemirror_mode": {
    "name": "ipython",
    "version": 3
   },
   "file_extension": ".py",
   "mimetype": "text/x-python",
   "name": "python",
   "nbconvert_exporter": "python",
   "pygments_lexer": "ipython3",
   "version": "3.13.3"
  }
 },
 "nbformat": 4,
 "nbformat_minor": 2
}
