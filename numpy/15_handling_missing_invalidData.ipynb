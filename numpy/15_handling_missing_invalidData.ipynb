{
 "cells": [
  {
   "cell_type": "markdown",
   "metadata": {},
   "source": [
    "## ✅ 8. Handling Missing or Invalid Data in NumPy\n",
    "\n",
    "In real-world data (like sensor data, Excel sheets, or datasets from Kaggle), you often encounter:\n",
    "- **Missing values**\n",
    "- **Invalid entries**\n",
    "- **Corrupted or undefined numbers**\n",
    "\n",
    "NumPy gives powerful tools to detect, filter, and clean such data.\n",
    "\n",
    "---\n",
    "\n",
    "### 🔸 1. `np.nan` – *\"Not a Number\"*\n",
    "\n",
    "- `np.nan` is used to **represent missing or undefined values** in float arrays.\n",
    "- It’s a special **floating-point constant** defined in IEEE 754.\n",
    "\n"
   ]
  },
  {
   "cell_type": "code",
   "execution_count": 2,
   "metadata": {},
   "outputs": [
    {
     "name": "stdout",
     "output_type": "stream",
     "text": [
      "[ 1.  2. nan  4.  5.]\n"
     ]
    }
   ],
   "source": [
    "import numpy as np\n",
    "\n",
    "arr = np.array([1, 2, np.nan, 4, 5])\n",
    "print(arr)"
   ]
  },
  {
   "cell_type": "markdown",
   "metadata": {},
   "source": [
    "<mark> note </mark> - nan is not equal to anything , even itself \n"
   ]
  },
  {
   "cell_type": "code",
   "execution_count": null,
   "metadata": {},
   "outputs": [
    {
     "name": "stdout",
     "output_type": "stream",
     "text": [
      "False\n"
     ]
    }
   ],
   "source": [
    "print(np.nan == np.nan)  \n"
   ]
  },
  {
   "cell_type": "markdown",
   "metadata": {},
   "source": [
    "### 2. np.isnan() – Detect Missing Values\n",
    "\n",
    "- Returns a boolean array where True represents a nan."
   ]
  },
  {
   "cell_type": "code",
   "execution_count": 4,
   "metadata": {},
   "outputs": [
    {
     "name": "stdout",
     "output_type": "stream",
     "text": [
      "[False False  True False]\n",
      "[1. 2. 4.]\n"
     ]
    }
   ],
   "source": [
    "arr = np.array([1, 2, np.nan, 4])\n",
    "\n",
    "mask = np.isnan(arr)\n",
    "print(mask)\n",
    "# Output: [False False  True False]\n",
    "\n",
    "# Filter only non-nan values\n",
    "print(arr[~mask])  # [1. 2. 4.]\n"
   ]
  },
  {
   "cell_type": "markdown",
   "metadata": {},
   "source": [
    "### 3. np.isfinite() – Check for Valid Numbers\n",
    "\n",
    "- Returns True for numbers that are not inf, -inf, or nan"
   ]
  },
  {
   "cell_type": "code",
   "execution_count": 5,
   "metadata": {},
   "outputs": [
    {
     "name": "stdout",
     "output_type": "stream",
     "text": [
      "[ True  True False False False  True]\n",
      "[1. 2. 4.]\n"
     ]
    }
   ],
   "source": [
    "arr = np.array([1, 2, np.nan, np.inf, -np.inf, 4])\n",
    "\n",
    "print(np.isfinite(arr))\n",
    "# Output: [ True  True False False False  True]\n",
    "\n",
    "# Filter only valid numbers\n",
    "print(arr[np.isfinite(arr)])  # [1. 2. 4.]\n"
   ]
  },
  {
   "cell_type": "markdown",
   "metadata": {},
   "source": [
    "### 4. np.where() – Conditional Filtering\n",
    "\n",
    "- np.where(condition, value_if_true, value_if_false)\n",
    "\n",
    "- Useful for replacing or selecting based on a condition."
   ]
  },
  {
   "cell_type": "code",
   "execution_count": 6,
   "metadata": {},
   "outputs": [
    {
     "name": "stdout",
     "output_type": "stream",
     "text": [
      "[1. 2. 0. 4.]\n"
     ]
    }
   ],
   "source": [
    "# example nan with zero \n",
    "arr = np.array([1, 2, np.nan, 4])\n",
    "\n",
    "cleaned = np.where(np.isnan(arr), 0, arr)\n",
    "print(cleaned)  # [1. 2. 0. 4.]\n"
   ]
  },
  {
   "cell_type": "code",
   "execution_count": 7,
   "metadata": {},
   "outputs": [
    {
     "name": "stdout",
     "output_type": "stream",
     "text": [
      "[1 0 3 0 5]\n"
     ]
    }
   ],
   "source": [
    "# example negative with 0\n",
    "a = np.array([1, -2, 3, -4, 5])\n",
    "\n",
    "print(np.where(a < 0, 0, a))  # [1 0 3 0 5]\n"
   ]
  },
  {
   "cell_type": "markdown",
   "metadata": {},
   "source": [
    "###  5. Masked Arrays – Advanced Handling of Missing Data\n",
    "\n",
    "- A Masked Array allows you to hide (mask) specific values from computation.\n",
    "\n"
   ]
  },
  {
   "cell_type": "code",
   "execution_count": 10,
   "metadata": {},
   "outputs": [
    {
     "name": "stdout",
     "output_type": "stream",
     "text": [
      "[1.0 2.0 -- 4.0 5.0]\n"
     ]
    }
   ],
   "source": [
    "import numpy.ma as ma\n",
    "\n",
    "data = np.array([1, 2, np.nan, 4, 5])\n",
    "masked = ma.masked_invalid(data)\n",
    "print(masked)\n",
    "# Output: [1.0 2.0 -- 4.0 5.0]\n"
   ]
  },
  {
   "cell_type": "code",
   "execution_count": 11,
   "metadata": {},
   "outputs": [
    {
     "name": "stdout",
     "output_type": "stream",
     "text": [
      "3.0\n"
     ]
    }
   ],
   "source": [
    "#  Computations ignoring masked values:\n",
    "print(masked.mean())  # Output: 3.0 (ignores nan)\n",
    "\n"
   ]
  },
  {
   "cell_type": "code",
   "execution_count": 12,
   "metadata": {},
   "outputs": [
    {
     "name": "stdout",
     "output_type": "stream",
     "text": [
      "[1 2 3 -- --]\n"
     ]
    }
   ],
   "source": [
    "# Manually mask specific values\n",
    "arr = np.array([1, 2, 3, 4, 5])\n",
    "masked_arr = ma.masked_where(arr > 3, arr)\n",
    "print(masked_arr)\n",
    "# Output: [1 2 3 -- --]\n"
   ]
  }
 ],
 "metadata": {
  "kernelspec": {
   "display_name": "env",
   "language": "python",
   "name": "python3"
  },
  "language_info": {
   "codemirror_mode": {
    "name": "ipython",
    "version": 3
   },
   "file_extension": ".py",
   "mimetype": "text/x-python",
   "name": "python",
   "nbconvert_exporter": "python",
   "pygments_lexer": "ipython3",
   "version": "3.13.3"
  }
 },
 "nbformat": 4,
 "nbformat_minor": 2
}
