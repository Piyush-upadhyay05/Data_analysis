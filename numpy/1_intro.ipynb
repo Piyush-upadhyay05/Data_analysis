{
 "cells": [
  {
   "cell_type": "markdown",
   "metadata": {},
   "source": [
    "### Numpy:\n",
    "\n",
    "- NumPy (Numerical Python) is a fundamental Python library for performing scientific computing. It provides support for large, multi-dimensional arrays and matrices, along with a collection of high-level mathematical functions to operate on these arrays efficiently.\n",
    "\n",
    "- support large number of data in the form of multidiimensional array and matrix . \n",
    "\n",
    "- used for mathematic calculation like linear algebra , fourier transform and random number capabilities etc .\n",
    "\n",
    "#### why Numpy?\n",
    "\n",
    "- python list are flexible but they are slow for numeric operations . numpy offers :\n",
    "\n",
    "    - Faster computation (thanks to C-based implementation)\n",
    "\n",
    "    - Efficient memory usage\n",
    "\n",
    "    - Vectorized operations (avoid explicit loops)\n",
    "\n",
    "    - Convenient syntax for mathematical tasks\n",
    "\n"
   ]
  },
  {
   "cell_type": "markdown",
   "metadata": {},
   "source": [
    "### Key Features of NumPy:\n",
    "## 1.N-dimensional arrays (ndarray)\n",
    "Central data structure that is much faster and more compact than Python lists.\n",
    "\n",
    "## 2.Broadcasting\n",
    "Perform operations on arrays of different shapes.\n",
    "\n",
    "## 3.Mathematical functions\n",
    "Includes functions like sum, mean, std, sin, cos, etc.\n",
    "\n",
    "## 4.Linear algebra operations\n",
    "Matrix multiplication, inverse, eigenvalues, etc.\n",
    "\n",
    "## 5.Random module\n",
    "For generating random numbers, distributions, etc.\n",
    "\n",
    "## 6.Integration with other libraries\n",
    "Works well with Pandas, Scikit-learn, TensorFlow, etc."
   ]
  }
 ],
 "metadata": {
  "kernelspec": {
   "display_name": "env",
   "language": "python",
   "name": "python3"
  },
  "language_info": {
   "codemirror_mode": {
    "name": "ipython",
    "version": 3
   },
   "file_extension": ".py",
   "mimetype": "text/x-python",
   "name": "python",
   "nbconvert_exporter": "python",
   "pygments_lexer": "ipython3",
   "version": "3.13.3"
  }
 },
 "nbformat": 4,
 "nbformat_minor": 2
}
