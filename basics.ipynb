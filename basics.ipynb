{
 "cells": [
  {
   "cell_type": "markdown",
   "metadata": {},
   "source": [
    "### introspection"
   ]
  },
  {
   "cell_type": "code",
   "execution_count": 1,
   "metadata": {},
   "outputs": [
    {
     "name": "stdout",
     "output_type": "stream",
     "text": [
      "Help on list object:\n",
      "\n",
      "class list(object)\n",
      " |  list(iterable=(), /)\n",
      " |  \n",
      " |  Built-in mutable sequence.\n",
      " |  \n",
      " |  If no argument is given, the constructor creates a new empty list.\n",
      " |  The argument must be an iterable if specified.\n",
      " |  \n",
      " |  Methods defined here:\n",
      " |  \n",
      " |  __add__(self, value, /)\n",
      " |      Return self+value.\n",
      " |  \n",
      " |  __contains__(self, key, /)\n",
      " |      Return key in self.\n",
      " |  \n",
      " |  __delitem__(self, key, /)\n",
      " |      Delete self[key].\n",
      " |  \n",
      " |  __eq__(self, value, /)\n",
      " |      Return self==value.\n",
      " |  \n",
      " |  __ge__(self, value, /)\n",
      " |      Return self>=value.\n",
      " |  \n",
      " |  __getattribute__(self, name, /)\n",
      " |      Return getattr(self, name).\n",
      " |  \n",
      " |  __getitem__(...)\n",
      " |      x.__getitem__(y) <==> x[y]\n",
      " |  \n",
      " |  __gt__(self, value, /)\n",
      " |      Return self>value.\n",
      " |  \n",
      " |  __iadd__(self, value, /)\n",
      " |      Implement self+=value.\n",
      " |  \n",
      " |  __imul__(self, value, /)\n",
      " |      Implement self*=value.\n",
      " |  \n",
      " |  __init__(self, /, *args, **kwargs)\n",
      " |      Initialize self.  See help(type(self)) for accurate signature.\n",
      " |  \n",
      " |  __iter__(self, /)\n",
      " |      Implement iter(self).\n",
      " |  \n",
      " |  __le__(self, value, /)\n",
      " |      Return self<=value.\n",
      " |  \n",
      " |  __len__(self, /)\n",
      " |      Return len(self).\n",
      " |  \n",
      " |  __lt__(self, value, /)\n",
      " |      Return self<value.\n",
      " |  \n",
      " |  __mul__(self, value, /)\n",
      " |      Return self*value.\n",
      " |  \n",
      " |  __ne__(self, value, /)\n",
      " |      Return self!=value.\n",
      " |  \n",
      " |  __repr__(self, /)\n",
      " |      Return repr(self).\n",
      " |  \n",
      " |  __reversed__(self, /)\n",
      " |      Return a reverse iterator over the list.\n",
      " |  \n",
      " |  __rmul__(self, value, /)\n",
      " |      Return value*self.\n",
      " |  \n",
      " |  __setitem__(self, key, value, /)\n",
      " |      Set self[key] to value.\n",
      " |  \n",
      " |  __sizeof__(self, /)\n",
      " |      Return the size of the list in memory, in bytes.\n",
      " |  \n",
      " |  append(self, object, /)\n",
      " |      Append object to the end of the list.\n",
      " |  \n",
      " |  clear(self, /)\n",
      " |      Remove all items from list.\n",
      " |  \n",
      " |  copy(self, /)\n",
      " |      Return a shallow copy of the list.\n",
      " |  \n",
      " |  count(self, value, /)\n",
      " |      Return number of occurrences of value.\n",
      " |  \n",
      " |  extend(self, iterable, /)\n",
      " |      Extend list by appending elements from the iterable.\n",
      " |  \n",
      " |  index(self, value, start=0, stop=9223372036854775807, /)\n",
      " |      Return first index of value.\n",
      " |      \n",
      " |      Raises ValueError if the value is not present.\n",
      " |  \n",
      " |  insert(self, index, object, /)\n",
      " |      Insert object before index.\n",
      " |  \n",
      " |  pop(self, index=-1, /)\n",
      " |      Remove and return item at index (default last).\n",
      " |      \n",
      " |      Raises IndexError if list is empty or index is out of range.\n",
      " |  \n",
      " |  remove(self, value, /)\n",
      " |      Remove first occurrence of value.\n",
      " |      \n",
      " |      Raises ValueError if the value is not present.\n",
      " |  \n",
      " |  reverse(self, /)\n",
      " |      Reverse *IN PLACE*.\n",
      " |  \n",
      " |  sort(self, /, *, key=None, reverse=False)\n",
      " |      Sort the list in ascending order and return None.\n",
      " |      \n",
      " |      The sort is in-place (i.e. the list itself is modified) and stable (i.e. the\n",
      " |      order of two equal elements is maintained).\n",
      " |      \n",
      " |      If a key function is given, apply it once to each list item and sort them,\n",
      " |      ascending or descending, according to their function values.\n",
      " |      \n",
      " |      The reverse flag can be set to sort in descending order.\n",
      " |  \n",
      " |  ----------------------------------------------------------------------\n",
      " |  Class methods defined here:\n",
      " |  \n",
      " |  __class_getitem__(...) from builtins.type\n",
      " |      See PEP 585\n",
      " |  \n",
      " |  ----------------------------------------------------------------------\n",
      " |  Static methods defined here:\n",
      " |  \n",
      " |  __new__(*args, **kwargs) from builtins.type\n",
      " |      Create and return a new object.  See help(type) for accurate signature.\n",
      " |  \n",
      " |  ----------------------------------------------------------------------\n",
      " |  Data and other attributes defined here:\n",
      " |  \n",
      " |  __hash__ = None\n",
      "\n"
     ]
    }
   ],
   "source": [
    "b = [1, 2, 3]\n",
    "help(b) # in vs code\n",
    "# in trminal\n",
    "# ipython\n",
    "# In[1] : [1,2,3]\n",
    "# In[2] :b?"
   ]
  },
  {
   "cell_type": "markdown",
   "metadata": {},
   "source": [
    "### function"
   ]
  },
  {
   "cell_type": "code",
   "execution_count": 2,
   "metadata": {},
   "outputs": [
    {
     "name": "stdout",
     "output_type": "stream",
     "text": [
      "8\n",
      "HELLO\n",
      "[1, 2, 3]\n",
      "[1, 2, 3, 4]\n",
      "[1, 2, 3, 4]\n",
      "[1, 2, 3]\n",
      "[1, 2, 3, 4]\n",
      "10\n"
     ]
    }
   ],
   "source": [
    "# function call\n",
    "def add(a, b):\n",
    "    return a + b  # Returns the sum of a and b\n",
    "\n",
    "result = add(3, 5)  # Calling the function with arguments 3 and 5\n",
    "print(result)  # Output: 8\n",
    "\n",
    "# object method call\n",
    "text = \"hello\" # string object\n",
    "print(text.upper()) # upper() is string method \n",
    "\n",
    "# variable stores refrences , not copies \n",
    "\n",
    "a = [1, 2, 3]  # 'a' points to a list object\n",
    "b = a          # 'b' now also points to the same list\n",
    "print(b)       # Output: [1, 2, 3]\n",
    "\n",
    "# Changes in One Variable Affect the Other\n",
    "a.append(4)\n",
    "print(b)\n",
    "\n",
    "# copy instead of refrencing \n",
    "a = [1, 2, 3]\n",
    "# a.append(4) \n",
    "b = a.copy()   # Creates a new list with the same contents\n",
    "a.append(4)    # Modifying 'a' will not affect 'b'\n",
    "\n",
    "print(a)  # Output: [1, 2, 3, 4]\n",
    "print(b)  # Output: [1, 2, 3]\n",
    "\n",
    "# modifying a list inside a function (mutuable object)\n",
    "def append_element(some_list, element):\n",
    "    some_list.append(element)  # Modifies the original list\n",
    "\n",
    "data = [1, 2, 3]\n",
    "append_element(data, 4)\n",
    "\n",
    "print(data)  # Output: [1, 2, 3, 4]\n",
    "# what happen if the object is immutable \n",
    "def change_number(x):\n",
    "    x = x + 1  # This creates a new variable 'x' inside the function\n",
    "\n",
    "num = 10\n",
    "change_number(num)\n",
    "\n",
    "print(num)  # Output: 10 (original value remains unchanged)\n"
   ]
  },
  {
   "cell_type": "markdown",
   "metadata": {},
   "source": [
    "### immutable and mutuable objects"
   ]
  },
  {
   "cell_type": "code",
   "execution_count": 1,
   "metadata": {},
   "outputs": [
    {
     "name": "stdout",
     "output_type": "stream",
     "text": [
      "[1, 2, 3, 4]\n",
      "[1, 2, 3, 4]\n",
      "{'name': 'Alice', 'age': 26}\n",
      "11\n",
      "10\n",
      "HELLO\n",
      "[1, 2, 3, 4]\n",
      "10\n"
     ]
    }
   ],
   "source": [
    "# Mutable Objects (Can Be Changed)\n",
    "'''Mutable List'''\n",
    "a = [1, 2, 3]  # List is mutable\n",
    "b = a  # 'b' references the same list\n",
    "\n",
    "a.append(4)  # Modify the list\n",
    "print(a)  # Output: [1, 2, 3, 4]\n",
    "print(b)  # Output: [1, 2, 3, 4] (changes are reflected in 'b' too!)\n",
    "\n",
    "'''mutable dictionary'''\n",
    "person = {\"name\": \"Alice\", \"age\": 25}\n",
    "person[\"age\"] = 26  # Modifying dictionary\n",
    "\n",
    "print(person)  # Output: {'name': 'Alice', 'age': 26}\n",
    "\n",
    "# Immutable Objects (Cannot Be Changed)\n",
    "\n",
    "'''Immutable Integer'''\n",
    "x = 10\n",
    "y = x  # 'y' gets the value of 'x'\n",
    "\n",
    "x = x + 1  # This creates a NEW object for 'x'\n",
    "print(x)  # Output: 11\n",
    "print(y)  # Output: 10 (unchanged)\n",
    "'''immutable string'''\n",
    "s = \"hello\"\n",
    "s = s.upper()  # Creates a new string\n",
    "\n",
    "print(s)  # Output: \"HELLO\"\n",
    "\n",
    "#Mutable vs Immutable: Function Behavior\n",
    "\n",
    "\n",
    "'''Mutable Object in Function'''\n",
    "def modify_list(lst):\n",
    "    lst.append(4)  # Modifies the original list\n",
    "\n",
    "numbers = [1, 2, 3]\n",
    "modify_list(numbers)\n",
    "\n",
    "print(numbers)  # Output: [1, 2, 3, 4]\n",
    "\n",
    "'''Immutable Object in Function'''\n",
    "def modify_number(n):\n",
    "    n = n + 1  # Creates a new number object\n",
    "\n",
    "num = 10\n",
    "modify_number(num)\n",
    "\n",
    "print(num)  # Output: 10 (unchanged)\n"
   ]
  },
  {
   "cell_type": "markdown",
   "metadata": {},
   "source": [
    "### attributes and methods "
   ]
  },
  {
   "cell_type": "code",
   "execution_count": 4,
   "metadata": {},
   "outputs": [
    {
     "name": "stdout",
     "output_type": "stream",
     "text": [
      "Bruno\n",
      "Bruno says woof!\n"
     ]
    }
   ],
   "source": [
    "class Dog:\n",
    "    def __init__(self, name):\n",
    "        self.name = name  # 'name' is an attribute\n",
    "\n",
    "my_dog = Dog(\"Bruno\")\n",
    "print(my_dog.name)  # Output: Bruno\n",
    "\n",
    "class Dog:\n",
    "    def __init__(self, name):\n",
    "        self.name = name\n",
    "\n",
    "    def bark(self):   # This is a method\n",
    "        print(f\"{self.name} says woof!\")\n",
    "\n",
    "my_dog = Dog(\"Bruno\")\n",
    "my_dog.bark()  # Output: Bruno says woof!\n"
   ]
  },
  {
   "cell_type": "markdown",
   "metadata": {},
   "source": [
    "### duck type:\n",
    "- Duck typing is a concept where the type or class of an object is less important than the methods or behaviors it has.\n",
    "- if something acts like an iterable ,we treat it like one no need to check this type"
   ]
  },
  {
   "cell_type": "markdown",
   "metadata": {},
   "source": [
    "#### example without duck type"
   ]
  },
  {
   "cell_type": "code",
   "execution_count": null,
   "metadata": {},
   "outputs": [
    {
     "ename": "SyntaxError",
     "evalue": "invalid syntax (2250713675.py, line 1)",
     "output_type": "error",
     "traceback": [
      "\u001b[0;36m  Cell \u001b[0;32mIn[5], line 1\u001b[0;36m\u001b[0m\n\u001b[0;31m    int add(int a, int b) {\u001b[0m\n\u001b[0m        ^\u001b[0m\n\u001b[0;31mSyntaxError\u001b[0m\u001b[0;31m:\u001b[0m invalid syntax\n"
     ]
    }
   ],
   "source": [
    "int add(int a, int b) {\n",
    "    return a + b;\n",
    "} # java"
   ]
  },
  {
   "cell_type": "markdown",
   "metadata": {},
   "source": [
    "#### example with duck typing"
   ]
  },
  {
   "cell_type": "code",
   "execution_count": 6,
   "metadata": {},
   "outputs": [
    {
     "data": {
      "text/plain": [
       "[1, 2, 3]"
      ]
     },
     "execution_count": 6,
     "metadata": {},
     "output_type": "execute_result"
    }
   ],
   "source": [
    "def add(a, b):\n",
    "    return a + b\n",
    "add(2, 3)        # 5\n",
    "add(\"Hi \", \"there\")  # \"Hi there\"\n",
    "add([1, 2], [3])     # [1, 2, 3]\n"
   ]
  },
  {
   "cell_type": "markdown",
   "metadata": {},
   "source": [
    "#### iterable\n",
    "- anything you can use in a for loop is iterable "
   ]
  },
  {
   "cell_type": "code",
   "execution_count": 7,
   "metadata": {},
   "outputs": [
    {
     "name": "stdout",
     "output_type": "stream",
     "text": [
      "1\n",
      "2\n",
      "3\n",
      "h\n",
      "e\n",
      "l\n",
      "l\n",
      "o\n"
     ]
    }
   ],
   "source": [
    "# All of these are iterables\n",
    "my_list = [1, 2, 3]\n",
    "my_string = \"hello\"\n",
    "my_tuple = (4, 5, 6)\n",
    "my_dict = {'a': 1, 'b': 2}\n",
    "my_set = {10, 20, 30}\n",
    "for x in my_list:\n",
    "    print(x)\n",
    "\n",
    "for ch in my_string:\n",
    "    print(ch)\n"
   ]
  },
  {
   "cell_type": "markdown",
   "metadata": {},
   "source": [
    "### import modules and packages \n",
    "##### module :\n",
    "- A module in Python is just a .py file that contains functions, variables, and classes that you can reuse in other Python files.\n",
    "- example "
   ]
  },
  {
   "cell_type": "code",
   "execution_count": 8,
   "metadata": {},
   "outputs": [],
   "source": [
    "# some_module.py\n",
    "\n",
    "PI = 3.14159\n",
    "\n",
    "def f(x):\n",
    "    return x + 2\n",
    "\n",
    "def g(a, b):\n",
    "    return a + b"
   ]
  },
  {
   "cell_type": "markdown",
   "metadata": {},
   "source": [
    "import and intire module"
   ]
  },
  {
   "cell_type": "code",
   "execution_count": 11,
   "metadata": {},
   "outputs": [
    {
     "name": "stdout",
     "output_type": "stream",
     "text": [
      "7\n",
      "3.14159\n"
     ]
    }
   ],
   "source": [
    "import some_module\n",
    "\n",
    "result = some_module.f(5)       # Calls f from some_module => 5 + 2 = 7\n",
    "print(result)\n",
    "pi = some_module.PI             # Access PI => 3.14159\n",
    "print(pi)\n"
   ]
  },
  {
   "cell_type": "markdown",
   "metadata": {},
   "source": [
    " Import Specific Items"
   ]
  },
  {
   "cell_type": "code",
   "execution_count": 13,
   "metadata": {},
   "outputs": [
    {
     "name": "stdout",
     "output_type": "stream",
     "text": [
      "8.14159\n"
     ]
    }
   ],
   "source": [
    "from some_module import g, PI\n",
    "\n",
    "result = g(5, PI)     # Calls g => 5 + 3.14159 = 8.14159\n",
    "print(result)\n"
   ]
  },
  {
   "cell_type": "markdown",
   "metadata": {},
   "source": [
    "Using as to Rename Imports"
   ]
  },
  {
   "cell_type": "code",
   "execution_count": 14,
   "metadata": {},
   "outputs": [
    {
     "name": "stdout",
     "output_type": "stream",
     "text": [
      "5.14159 9.14159\n"
     ]
    }
   ],
   "source": [
    "import some_module as sm\n",
    "from some_module import PI as pi, g as gf\n",
    "\n",
    "r1 = sm.f(pi)         # sm.f is f from some_module => pi + 2 = 5.14159\n",
    "r2 = gf(6, pi)        # gf is g from some_module => 6 + pi = 9.14159\n",
    "print(r1,r2)\n"
   ]
  },
  {
   "cell_type": "markdown",
   "metadata": {},
   "source": [
    "### binary operators and comparisons"
   ]
  },
  {
   "cell_type": "markdown",
   "metadata": {},
   "source": [
    "##### binary operators :\n",
    "- A binary operator is an operator that operates on two operands (left and right) to perform an operation.\n",
    "- example = + , - , * , / , // , **"
   ]
  },
  {
   "cell_type": "markdown",
   "metadata": {},
   "source": [
    "##### comparison operator :\n",
    "- A comparison operator is used to compare two values.\n",
    "It returns a Boolean value: either True or False.\n",
    "example (== , != , > , < , >= , <=)"
   ]
  },
  {
   "cell_type": "markdown",
   "metadata": {},
   "source": [
    "##### logical / bitwise operator:\n",
    "- for booleans(true/false):\n",
    "- and / & = return true when both are true \n",
    "- or = return false at least one is true \n",
    "- ^ / XOR = return true only one is true "
   ]
  },
  {
   "cell_type": "markdown",
   "metadata": {},
   "source": [
    "is VS (==):\n",
    "- == : value equality(same content)\n",
    "- is == : identity(same object in memory)"
   ]
  },
  {
   "cell_type": "code",
   "execution_count": 15,
   "metadata": {},
   "outputs": [
    {
     "name": "stdout",
     "output_type": "stream",
     "text": [
      "True\n",
      "False\n",
      "True\n"
     ]
    }
   ],
   "source": [
    "a = [1, 2, 3]\n",
    "b = a         # b points to the *same* list as a\n",
    "c = list(a)   # c is a *copy* of a\n",
    "\n",
    "print(a == c)     # True  (same content)\n",
    "print(a is c)     # False (different memory)\n",
    "\n",
    "print(a is b)     # True  (both point to same object)\n"
   ]
  },
  {
   "cell_type": "markdown",
   "metadata": {},
   "source": [
    "is none / is not"
   ]
  },
  {
   "cell_type": "code",
   "execution_count": 16,
   "metadata": {},
   "outputs": [
    {
     "name": "stdout",
     "output_type": "stream",
     "text": [
      "a is empty or unassigned\n"
     ]
    }
   ],
   "source": [
    "a = None\n",
    "\n",
    "if a is None:\n",
    "    print(\"a is empty or unassigned\")\n"
   ]
  },
  {
   "cell_type": "markdown",
   "metadata": {},
   "source": [
    "### scalar type :\n",
    "- Scalar types are the basic building blocks of data in Python — they represent a single value at a time."
   ]
  },
  {
   "cell_type": "markdown",
   "metadata": {},
   "source": [
    "### here are main scalar type you will see in python:\n",
    "\n",
    "- #### Type\t     Description\n",
    "- None  &nbsp;\t     Represents “nothing” or “no value”.\n",
    "  \n",
    "- str\t  &nbsp;      String type — holds text (like \"hello\").\n",
    "  \n",
    "- bytes\t  &nbsp;    Holds raw binary data (not commonly used in beginner data analysis).\n",
    "  \n",
    "- float\t  &nbsp;   Floating point number (e.g. 3.14, 0.0001, -99.99).\n",
    "  \n",
    "- bool\t  &nbsp;   Boolean value: True or False.\n",
    "  \n",
    "- int\t  &nbsp;       Integer (whole number), and it can be as big as needed (no size limit).\n",
    "  \n",
    "  "
   ]
  },
  {
   "cell_type": "markdown",
   "metadata": {},
   "source": [
    "### bytes and unicode:\n",
    "\n",
    "- # 1. unicode ?\n",
    "  - Unicode is a standard for representing characters from almost all languages.\n",
    "\n",
    "  - In Python 3, all strings (str) are Unicode by default."
   ]
  },
  {
   "cell_type": "code",
   "execution_count": 1,
   "metadata": {},
   "outputs": [
    {
     "name": "stdout",
     "output_type": "stream",
     "text": [
      "español\n"
     ]
    }
   ],
   "source": [
    "# example \n",
    "val = \"español\"\n",
    "print(val)  # Output: español\n"
   ]
  },
  {
   "cell_type": "markdown",
   "metadata": {},
   "source": [
    "- # 2. bytes ?\n",
    "  \n",
    "  - bytes are raw binary data - not text \n",
    "  \n",
    "  - You use bytes when working with things like files, images, or network data.  "
   ]
  },
  {
   "cell_type": "code",
   "execution_count": null,
   "metadata": {},
   "outputs": [
    {
     "name": "stdout",
     "output_type": "stream",
     "text": [
      "b'espa\\xc3\\xb1ol'\n"
     ]
    },
    {
     "data": {
      "text/plain": [
       "'español'"
      ]
     },
     "execution_count": 3,
     "metadata": {},
     "output_type": "execute_result"
    }
   ],
   "source": [
    "# converting unicode to bytes \n",
    "val_utf8 = val.encode(\"utf-8\")\n",
    "print(val_utf8)  \n",
    "\n",
    "# and also you can go back bytes to unicode\n",
    "val_utf8.decode(\"utf-8\")  \n",
    "\n"
   ]
  },
  {
   "cell_type": "markdown",
   "metadata": {},
   "source": [
    "### Encoding and Decoding \n",
    "\n",
    "- # 1 encoding :\n",
    "  \n",
    "   - converting strings into bytes \n",
    "   - <pre>      text = \"hello\"\n",
    "           encoded = text.encode(\"utf-8\")  # 🔄 Encoding text to bytes\n",
    "           print(encoded)  # Output: b'hello' </pre>\n",
    "\n",
    "- # 2 decoding :\n",
    "  \n",
    "   - converting bytes again into string\n",
    "   - <pre>      data = b\"hello\"\n",
    "           decoded = data.decode(\"utf-8\")  # 🔄 Decoding bytes to text\n",
    "           print(decoded)  # Output: hello  </pre>\n",
    "\n"
   ]
  },
  {
   "cell_type": "markdown",
   "metadata": {},
   "source": [
    "### Booleans :\n",
    "\n",
    "- A Boolean is a type of data that can hold only two values:\n",
    "\n",
    "- Why Are Booleans Important?\n",
    "   - We use booleans in:\n",
    "\n",
    "       - if statements\n",
    "\n",
    "       - while loops\n",
    "\n",
    "       - filters (df[df['age'] > 30])\n",
    "\n",
    "       - comparisons (==, !=, <, etc.)\n",
    "  \n",
    "- Booleans are super useful when filtering data:\n",
    "\n"
   ]
  },
  {
   "cell_type": "code",
   "execution_count": 1,
   "metadata": {},
   "outputs": [
    {
     "data": {
      "text/html": [
       "<div>\n",
       "<style scoped>\n",
       "    .dataframe tbody tr th:only-of-type {\n",
       "        vertical-align: middle;\n",
       "    }\n",
       "\n",
       "    .dataframe tbody tr th {\n",
       "        vertical-align: top;\n",
       "    }\n",
       "\n",
       "    .dataframe thead th {\n",
       "        text-align: right;\n",
       "    }\n",
       "</style>\n",
       "<table border=\"1\" class=\"dataframe\">\n",
       "  <thead>\n",
       "    <tr style=\"text-align: right;\">\n",
       "      <th></th>\n",
       "      <th>age</th>\n",
       "    </tr>\n",
       "  </thead>\n",
       "  <tbody>\n",
       "    <tr>\n",
       "      <th>1</th>\n",
       "      <td>22</td>\n",
       "    </tr>\n",
       "    <tr>\n",
       "      <th>2</th>\n",
       "      <td>34</td>\n",
       "    </tr>\n",
       "  </tbody>\n",
       "</table>\n",
       "</div>"
      ],
      "text/plain": [
       "   age\n",
       "1   22\n",
       "2   34"
      ]
     },
     "execution_count": 1,
     "metadata": {},
     "output_type": "execute_result"
    }
   ],
   "source": [
    "\n",
    "import pandas as pd\n",
    "\n",
    "\n",
    "df = pd.DataFrame({\"age\": [15, 22, 34, 17]})\n",
    "df[df[\"age\"] >= 18]  # Filters only adults (age >= 18)\n"
   ]
  },
  {
   "cell_type": "markdown",
   "metadata": {},
   "source": [
    "### date and time module :\n",
    "\n",
    "- The datetime module provides classes for manipulating dates and times in a simple and flexible way."
   ]
  },
  {
   "cell_type": "code",
   "execution_count": null,
   "metadata": {},
   "outputs": [
    {
     "name": "stdout",
     "output_type": "stream",
     "text": [
      "2023-05-11 14:30:00\n"
     ]
    },
    {
     "data": {
      "text/plain": [
       "30"
      ]
     },
     "execution_count": 4,
     "metadata": {},
     "output_type": "execute_result"
    }
   ],
   "source": [
    "from datetime import datetime, date, time\n",
    "# creating a date and time object :\n",
    "dt = datetime(2023, 5, 11, 14, 30, 0)\n",
    "print(dt)\n",
    "# Year: 2023, Month: May (5), Day: 11, Hour: 14 (2 PM), Minute: 30, Second: 0\n",
    "# for accessing component\n",
    "dt.year    # 2023\n",
    "dt.month   # 5\n",
    "dt.day     # 11\n",
    "dt.minute  # 30\n",
    "\n",
    "\n"
   ]
  },
  {
   "cell_type": "markdown",
   "metadata": {},
   "source": [
    "#### operations with date and time :\n",
    "\n",
    "- You can do arithmetic with datetime objects using timedelta:"
   ]
  },
  {
   "cell_type": "code",
   "execution_count": 5,
   "metadata": {},
   "outputs": [
    {
     "data": {
      "text/plain": [
       "datetime.datetime(2023, 5, 11, 12, 30)"
      ]
     },
     "execution_count": 5,
     "metadata": {},
     "output_type": "execute_result"
    }
   ],
   "source": [
    "from datetime import timedelta\n",
    "\n",
    "dt + timedelta(days=5)\n",
    "# Adds 5 days\n",
    "\n",
    "dt - timedelta(hours=2)\n",
    "# Subtracts 2 hours\n"
   ]
  },
  {
   "cell_type": "markdown",
   "metadata": {},
   "source": [
    "##### timedelta :\n",
    "\n",
    "- which is used to perform arithmetic with dates and times."
   ]
  },
  {
   "cell_type": "code",
   "execution_count": null,
   "metadata": {},
   "outputs": [
    {
     "name": "stdout",
     "output_type": "stream",
     "text": [
      "17 days, 1:59:39\n",
      "2011-11-15 22:30:00\n"
     ]
    }
   ],
   "source": [
    "from datetime import datetime, timedelta\n",
    "\n",
    "dt1 = datetime(2011, 11, 15, 22, 30)\n",
    "dt2 = datetime(2011, 10, 29, 20, 30, 21)\n",
    "\n",
    "delta = dt1 - dt2\n",
    "print(delta)\n",
    "\n",
    "\n",
    "new_time = dt2 + delta\n",
    "print(new_time)\n",
    "\n",
    "\n"
   ]
  },
  {
   "cell_type": "markdown",
   "metadata": {},
   "source": [
    "### built in sequence funtion in pyton:\n",
    "\n",
    "- sequences are ordered collections of elements, and Python provides several built-in functions that can be used to work with these sequences (like lists, tuples, strings, etc.)."
   ]
  },
  {
   "cell_type": "markdown",
   "metadata": {},
   "source": [
    "### Here are some important built-in sequence functions in Python:\n",
    "\n",
    "# 1. min() \n",
    "\n",
    "- return the smallest number in the list "
   ]
  },
  {
   "cell_type": "code",
   "execution_count": 8,
   "metadata": {},
   "outputs": [
    {
     "name": "stdout",
     "output_type": "stream",
     "text": [
      "5\n"
     ]
    }
   ],
   "source": [
    "numbers = [10, 20, 5, 8]\n",
    "print(min(numbers))  # Output: 5\n"
   ]
  },
  {
   "cell_type": "markdown",
   "metadata": {},
   "source": [
    "# 2. max() \n",
    "\n",
    "- return the largest number in the list "
   ]
  },
  {
   "cell_type": "code",
   "execution_count": 9,
   "metadata": {},
   "outputs": [
    {
     "name": "stdout",
     "output_type": "stream",
     "text": [
      "20\n"
     ]
    }
   ],
   "source": [
    "numbers = [10, 20, 5, 8]\n",
    "print(max(numbers))  # Output: 20\n"
   ]
  },
  {
   "cell_type": "markdown",
   "metadata": {},
   "source": [
    "# 3. sum() \n",
    "\n",
    "- return all the sum of the all item in the sequence "
   ]
  },
  {
   "cell_type": "code",
   "execution_count": 10,
   "metadata": {},
   "outputs": [
    {
     "name": "stdout",
     "output_type": "stream",
     "text": [
      "10\n"
     ]
    }
   ],
   "source": [
    "numbers = [1, 2, 3, 4]\n",
    "print(sum(numbers))  # Output: 10\n"
   ]
  },
  {
   "cell_type": "markdown",
   "metadata": {},
   "source": [
    "# 4. sorted() :\n",
    "\n",
    "- Returns a new sorted list from the elements of any sequence (like a list, tuple, string)\n"
   ]
  },
  {
   "cell_type": "code",
   "execution_count": 11,
   "metadata": {},
   "outputs": [
    {
     "name": "stdout",
     "output_type": "stream",
     "text": [
      "[1, 2, 3, 4]\n"
     ]
    }
   ],
   "source": [
    "numbers = [3, 1, 4, 2]\n",
    "print(sorted(numbers))  # Output: [1, 2, 3, 4]"
   ]
  },
  {
   "cell_type": "markdown",
   "metadata": {},
   "source": [
    "# 5. enumerate():\n",
    "\n",
    "-  Adds a counter to an iterable and returns it as an enumerate object\n",
    "  \n",
    "- This can be very helpful when you need both the index (position) and the value of each element in a sequence while iterating through it."
   ]
  },
  {
   "cell_type": "code",
   "execution_count": null,
   "metadata": {},
   "outputs": [
    {
     "name": "stdout",
     "output_type": "stream",
     "text": [
      "0 apple\n",
      "1 banana\n",
      "2 cherry\n"
     ]
    }
   ],
   "source": [
    "fruits = ['apple', 'banana', 'cherry']\n",
    "for index, fruit in enumerate(fruits):\n",
    "    print(index, fruit)\n"
   ]
  },
  {
   "cell_type": "markdown",
   "metadata": {},
   "source": [
    "# 6 . zip() :\n",
    "\n",
    "- Combines two or more sequences (lists, tuples, etc.) into a single iterable of tuples."
   ]
  },
  {
   "cell_type": "code",
   "execution_count": 13,
   "metadata": {},
   "outputs": [
    {
     "name": "stdout",
     "output_type": "stream",
     "text": [
      "[('Alice', 85), ('Bob', 90), ('Charlie', 78)]\n"
     ]
    }
   ],
   "source": [
    "names = ['Alice', 'Bob', 'Charlie']\n",
    "scores = [85, 90, 78]\n",
    "result = zip(names, scores)\n",
    "print(list(result)) \n"
   ]
  },
  {
   "cell_type": "markdown",
   "metadata": {},
   "source": [
    "# 7. all():\n",
    "\n",
    "-  Returns True if all elements of the sequence are truthy (i.e., not False, 0, None, etc.), otherwise returns False."
   ]
  },
  {
   "cell_type": "code",
   "execution_count": 16,
   "metadata": {},
   "outputs": [
    {
     "name": "stdout",
     "output_type": "stream",
     "text": [
      "True\n",
      "False\n"
     ]
    }
   ],
   "source": [
    "numbers = [1, 2, 3]\n",
    "print(all(numbers))  \n",
    "char = [1,2,3,\"hello\",0]\n",
    "print(all(char))"
   ]
  },
  {
   "cell_type": "markdown",
   "metadata": {},
   "source": [
    "# 8 . any():\n",
    "\n",
    "-  Returns True if any element of the sequence is truthy, otherwise returns False."
   ]
  },
  {
   "cell_type": "code",
   "execution_count": null,
   "metadata": {},
   "outputs": [
    {
     "name": "stdout",
     "output_type": "stream",
     "text": [
      "True\n",
      "False\n"
     ]
    }
   ],
   "source": [
    "numbers = [0, 2, 3]\n",
    "print(any(numbers))  \n",
    "numbers = [0, False, None, \"\", []]\n",
    "\n",
    "result = any(numbers)\n",
    "print(result)  \n",
    "\n"
   ]
  },
  {
   "cell_type": "markdown",
   "metadata": {},
   "source": [
    "### list comprehension :\n",
    "\n",
    "- List comprehension is a shorter and cleaner way of creating a new list by performing an operation on each item in an existing list (or any iterable, like a tuple or string). It’s like a one-liner for creating lists instead of using loops.\n",
    "\n",
    "- why it is useful ?\n",
    "\n",
    "   - Normally, to create a list with some modifications or filters, you might use a for loop. List comprehension helps you do that in one line without having to write more code.\n",
    "\n",
    "- example 1 :"
   ]
  },
  {
   "cell_type": "code",
   "execution_count": null,
   "metadata": {},
   "outputs": [],
   "source": [
    "numbers = [1, 2, 3, 4, 5]\n",
    "squares = [x**2 for x in numbers]\n",
    "print(squares)\n"
   ]
  },
  {
   "cell_type": "markdown",
   "metadata": {},
   "source": [
    "- example 2(using condition):\n",
    "\n",
    " "
   ]
  },
  {
   "cell_type": "code",
   "execution_count": 18,
   "metadata": {},
   "outputs": [
    {
     "name": "stdout",
     "output_type": "stream",
     "text": [
      "[2, 4, 6]\n"
     ]
    }
   ],
   "source": [
    "numbers = [1, 2, 3, 4, 5, 6]\n",
    "even_numbers = [x for x in numbers if x % 2 == 0]\n",
    "print(even_numbers)\n"
   ]
  },
  {
   "cell_type": "markdown",
   "metadata": {},
   "source": [
    "- modifying element based on condition "
   ]
  },
  {
   "cell_type": "code",
   "execution_count": 1,
   "metadata": {},
   "outputs": [
    {
     "name": "stdout",
     "output_type": "stream",
     "text": [
      "[3, 4, 9, 8, 15, 12]\n"
     ]
    }
   ],
   "source": [
    "numbers = [1, 2, 3, 4, 5, 6]\n",
    "modified_numbers = [x*2 if x % 2 == 0 else x*3 for x in numbers]\n",
    "print(modified_numbers)\n"
   ]
  },
  {
   "cell_type": "markdown",
   "metadata": {},
   "source": [
    "### set comprehension :\n",
    "\n",
    "- Set comprehension is a concise and readable way to create a set from an existing iterable (like a list, tuple, or string). It’s very similar to list comprehension, but it creates a set instead of a list. A set is an unordered collection of unique elements, which means that duplicates are automatically removed.\n",
    "\n",
    "- example 1 :"
   ]
  },
  {
   "cell_type": "code",
   "execution_count": 2,
   "metadata": {},
   "outputs": [
    {
     "name": "stdout",
     "output_type": "stream",
     "text": [
      "{1, 4, 9, 16, 25}\n"
     ]
    }
   ],
   "source": [
    "numbers = [1, 2, 3, 4, 5]\n",
    "squares_set = {x**2 for x in numbers}\n",
    "print(squares_set)\n"
   ]
  },
  {
   "cell_type": "markdown",
   "metadata": {},
   "source": [
    "- example 2 (using condition) :"
   ]
  },
  {
   "cell_type": "code",
   "execution_count": null,
   "metadata": {},
   "outputs": [],
   "source": [
    "numbers = [1, 2, 3, 4, 5, 6]\n",
    "even_numbers_set = {x for x in numbers if x % 2 == 0}\n",
    "print(even_numbers_set)\n"
   ]
  },
  {
   "cell_type": "markdown",
   "metadata": {},
   "source": [
    "- example 3 :\n",
    "\n",
    "Modifying Elements in Set Comprehension\n",
    "Let’s say we want to create a set where all the odd numbers are doubled and the even numbers are kept as they are."
   ]
  },
  {
   "cell_type": "code",
   "execution_count": 3,
   "metadata": {},
   "outputs": [
    {
     "name": "stdout",
     "output_type": "stream",
     "text": [
      "{2, 10, 4, 6}\n"
     ]
    }
   ],
   "source": [
    "numbers = [1, 2, 3, 4, 5, 6]\n",
    "modified_set = {x*2 if x % 2 != 0 else x for x in numbers}\n",
    "print(modified_set)\n"
   ]
  },
  {
   "cell_type": "markdown",
   "metadata": {},
   "source": [
    "- example 4 :\n",
    "\n",
    "removing duplicates automatically"
   ]
  },
  {
   "cell_type": "code",
   "execution_count": 4,
   "metadata": {},
   "outputs": [
    {
     "name": "stdout",
     "output_type": "stream",
     "text": [
      "{1, 2, 3, 4, 5, 6}\n"
     ]
    }
   ],
   "source": [
    "numbers = [1, 2, 3, 4, 4, 5, 5, 6]\n",
    "unique_set = {x for x in numbers}\n",
    "print(unique_set)\n"
   ]
  },
  {
   "cell_type": "markdown",
   "metadata": {},
   "source": [
    "### dict comprehension :\n",
    "\n",
    "- Dictionary comprehension is a concise way to create dictionaries in Python. It's similar to list comprehension and set comprehension, but instead of creating a list or a set, you create a dictionary with key-value pairs. It allows you to easily apply transformations, filters, or conditions to the data as you build the dictionary."
   ]
  }
 ],
 "metadata": {
  "kernelspec": {
   "display_name": "venv",
   "language": "python",
   "name": "python3"
  },
  "language_info": {
   "codemirror_mode": {
    "name": "ipython",
    "version": 3
   },
   "file_extension": ".py",
   "mimetype": "text/x-python",
   "name": "python",
   "nbconvert_exporter": "python",
   "pygments_lexer": "ipython3",
   "version": "3.13.3"
  }
 },
 "nbformat": 4,
 "nbformat_minor": 2
}
